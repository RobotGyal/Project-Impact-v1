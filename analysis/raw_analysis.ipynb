{
 "cells": [
  {
   "cell_type": "markdown",
   "metadata": {},
   "source": [
    "# ***Premise***\n",
    "---\n",
    "---"
   ]
  },
  {
   "cell_type": "code",
   "execution_count": null,
   "metadata": {},
   "outputs": [],
   "source": []
  },
  {
   "cell_type": "markdown",
   "metadata": {},
   "source": [
    "# ***Questions***\n",
    "---\n",
    "---"
   ]
  },
  {
   "cell_type": "markdown",
   "metadata": {},
   "source": [
    "+ **Easy**\n",
    "    + Which year had the most meteors?\n",
    "        - _2013_\n",
    "    + What is the average mass of a meteors we've observed?\n",
    "+ **Hard**\n",
    "    + Are there more meteors around the equator or the poles?\n",
    "+ **Other**\n",
    "    + How many meteors fell in important years (birth year(1995), Y2K, 2008(Obama), 2020(Now))?\n",
    "+ **Stretch**\n",
    "    + Find the amount per country and plot over the years!\n"
   ]
  },
  {
   "cell_type": "markdown",
   "metadata": {},
   "source": [
    "# ***Concepts to cover***\n",
    "---\n",
    "---"
   ]
  },
  {
   "cell_type": "markdown",
   "metadata": {},
   "source": [
    "- [x] Histograms\n",
    "- [ ] PDF\n",
    "- [ ] CDF\n",
    "- [ ] Hypothesis Testing\n",
    "- [ ] Confidence Interval\n",
    "- [ ] Correlation\n",
    "- [ ] Outliers\n",
    "- [ ] Normal Distribution\n",
    "- [ ] Time Analysis"
   ]
  },
  {
   "cell_type": "markdown",
   "metadata": {},
   "source": [
    "# ***Imports***\n",
    "---\n",
    "---"
   ]
  },
  {
   "cell_type": "code",
   "execution_count": null,
   "metadata": {},
   "outputs": [],
   "source": []
  },
  {
   "cell_type": "code",
   "execution_count": 1,
   "metadata": {},
   "outputs": [],
   "source": [
    "import numpy as np\n",
    "import matplotlib.pyplot as plt\n",
    "import pandas as pd\n",
    "import seaborn as sns\n",
    "from scipy import stats\n",
    "\n",
    "\n",
    "#\n",
    "import plotly.express as px\n",
    "from geopy.geocoders import Nominatim\n",
    "import geopy as gp\n",
    "from datetime import datetime"
   ]
  },
  {
   "cell_type": "code",
   "execution_count": null,
   "metadata": {},
   "outputs": [],
   "source": []
  },
  {
   "cell_type": "markdown",
   "metadata": {},
   "source": [
    "# ***Data***\n",
    "---\n",
    "---"
   ]
  },
  {
   "cell_type": "code",
   "execution_count": 2,
   "metadata": {},
   "outputs": [
    {
     "name": "stdout",
     "output_type": "stream",
     "text": [
      "Index(['name', 'id', 'nametype', 'recclass', 'mass', 'fall', 'year', 'reclat',\n",
      "       'reclong', 'GeoLocation'],\n",
      "      dtype='object')\n"
     ]
    },
    {
     "data": {
      "text/html": [
       "<div>\n",
       "<style scoped>\n",
       "    .dataframe tbody tr th:only-of-type {\n",
       "        vertical-align: middle;\n",
       "    }\n",
       "\n",
       "    .dataframe tbody tr th {\n",
       "        vertical-align: top;\n",
       "    }\n",
       "\n",
       "    .dataframe thead th {\n",
       "        text-align: right;\n",
       "    }\n",
       "</style>\n",
       "<table border=\"1\" class=\"dataframe\">\n",
       "  <thead>\n",
       "    <tr style=\"text-align: right;\">\n",
       "      <th></th>\n",
       "      <th>name</th>\n",
       "      <th>id</th>\n",
       "      <th>nametype</th>\n",
       "      <th>recclass</th>\n",
       "      <th>mass</th>\n",
       "      <th>fall</th>\n",
       "      <th>year</th>\n",
       "      <th>reclat</th>\n",
       "      <th>reclong</th>\n",
       "      <th>GeoLocation</th>\n",
       "    </tr>\n",
       "  </thead>\n",
       "  <tbody>\n",
       "    <tr>\n",
       "      <th>0</th>\n",
       "      <td>Aachen</td>\n",
       "      <td>1</td>\n",
       "      <td>Valid</td>\n",
       "      <td>L5</td>\n",
       "      <td>21.0</td>\n",
       "      <td>Fell</td>\n",
       "      <td>1880.0</td>\n",
       "      <td>50.77500</td>\n",
       "      <td>6.08333</td>\n",
       "      <td>(50.775000, 6.083330)</td>\n",
       "    </tr>\n",
       "    <tr>\n",
       "      <th>1</th>\n",
       "      <td>Aarhus</td>\n",
       "      <td>2</td>\n",
       "      <td>Valid</td>\n",
       "      <td>H6</td>\n",
       "      <td>720.0</td>\n",
       "      <td>Fell</td>\n",
       "      <td>1951.0</td>\n",
       "      <td>56.18333</td>\n",
       "      <td>10.23333</td>\n",
       "      <td>(56.183330, 10.233330)</td>\n",
       "    </tr>\n",
       "    <tr>\n",
       "      <th>2</th>\n",
       "      <td>Abee</td>\n",
       "      <td>6</td>\n",
       "      <td>Valid</td>\n",
       "      <td>EH4</td>\n",
       "      <td>107000.0</td>\n",
       "      <td>Fell</td>\n",
       "      <td>1952.0</td>\n",
       "      <td>54.21667</td>\n",
       "      <td>-113.00000</td>\n",
       "      <td>(54.216670, -113.000000)</td>\n",
       "    </tr>\n",
       "    <tr>\n",
       "      <th>3</th>\n",
       "      <td>Acapulco</td>\n",
       "      <td>10</td>\n",
       "      <td>Valid</td>\n",
       "      <td>Acapulcoite</td>\n",
       "      <td>1914.0</td>\n",
       "      <td>Fell</td>\n",
       "      <td>1976.0</td>\n",
       "      <td>16.88333</td>\n",
       "      <td>-99.90000</td>\n",
       "      <td>(16.883330, -99.900000)</td>\n",
       "    </tr>\n",
       "    <tr>\n",
       "      <th>4</th>\n",
       "      <td>Achiras</td>\n",
       "      <td>370</td>\n",
       "      <td>Valid</td>\n",
       "      <td>L6</td>\n",
       "      <td>780.0</td>\n",
       "      <td>Fell</td>\n",
       "      <td>1902.0</td>\n",
       "      <td>-33.16667</td>\n",
       "      <td>-64.95000</td>\n",
       "      <td>(-33.166670, -64.950000)</td>\n",
       "    </tr>\n",
       "  </tbody>\n",
       "</table>\n",
       "</div>"
      ],
      "text/plain": [
       "       name   id nametype     recclass      mass  fall    year    reclat  \\\n",
       "0    Aachen    1    Valid           L5      21.0  Fell  1880.0  50.77500   \n",
       "1    Aarhus    2    Valid           H6     720.0  Fell  1951.0  56.18333   \n",
       "2      Abee    6    Valid          EH4  107000.0  Fell  1952.0  54.21667   \n",
       "3  Acapulco   10    Valid  Acapulcoite    1914.0  Fell  1976.0  16.88333   \n",
       "4   Achiras  370    Valid           L6     780.0  Fell  1902.0 -33.16667   \n",
       "\n",
       "     reclong               GeoLocation  \n",
       "0    6.08333     (50.775000, 6.083330)  \n",
       "1   10.23333    (56.183330, 10.233330)  \n",
       "2 -113.00000  (54.216670, -113.000000)  \n",
       "3  -99.90000   (16.883330, -99.900000)  \n",
       "4  -64.95000  (-33.166670, -64.950000)  "
      ]
     },
     "execution_count": 2,
     "metadata": {},
     "output_type": "execute_result"
    }
   ],
   "source": [
    "data = pd.read_csv('../data/meteorite-landings.csv')\n",
    "\n",
    "# data_2 = pd.read_csv('../data/Meteorite_Landings.csv')\n",
    "\n",
    "print(data.columns)\n",
    "\n",
    "data.head()\n"
   ]
  },
  {
   "cell_type": "markdown",
   "metadata": {},
   "source": [
    "## Basic Statistics"
   ]
  },
  {
   "cell_type": "code",
   "execution_count": 3,
   "metadata": {},
   "outputs": [
    {
     "name": "stdout",
     "output_type": "stream",
     "text": [
      "Data described: \n",
      "\n",
      "                 id          mass          year        reclat       reclong\n",
      "count  45716.000000  4.558500e+04  45428.000000  38401.000000  38401.000000\n",
      "mean   26889.735104  1.327808e+04   1991.772189    -39.122580     61.074319\n",
      "std    16860.683030  5.749889e+05     27.181247     46.378511     80.647298\n",
      "min        1.000000  0.000000e+00    301.000000    -87.366670   -165.433330\n",
      "25%    12688.750000  7.200000e+00   1987.000000    -76.714240      0.000000\n",
      "50%    24261.500000  3.260000e+01   1998.000000    -71.500000     35.666670\n",
      "75%    40656.750000  2.026000e+02   2003.000000      0.000000    157.166670\n",
      "max    57458.000000  6.000000e+07   2501.000000     81.166670    354.473330\n",
      "\n",
      "\n",
      "Data info: \n",
      "\n",
      "<class 'pandas.core.frame.DataFrame'>\n",
      "RangeIndex: 45716 entries, 0 to 45715\n",
      "Data columns (total 10 columns):\n",
      " #   Column       Non-Null Count  Dtype  \n",
      "---  ------       --------------  -----  \n",
      " 0   name         45716 non-null  object \n",
      " 1   id           45716 non-null  int64  \n",
      " 2   nametype     45716 non-null  object \n",
      " 3   recclass     45716 non-null  object \n",
      " 4   mass         45585 non-null  float64\n",
      " 5   fall         45716 non-null  object \n",
      " 6   year         45428 non-null  float64\n",
      " 7   reclat       38401 non-null  float64\n",
      " 8   reclong      38401 non-null  float64\n",
      " 9   GeoLocation  38401 non-null  object \n",
      "dtypes: float64(4), int64(1), object(5)\n",
      "memory usage: 3.5+ MB\n",
      "None\n"
     ]
    }
   ],
   "source": [
    "print(\"Data described: \\n\")\n",
    "print(data.describe())\n",
    "print('\\n')\n",
    "print(\"Data info: \\n\")\n",
    "print(data.info())"
   ]
  },
  {
   "cell_type": "markdown",
   "metadata": {},
   "source": [
    "*Conclusions / Questions*\n",
    "    - There are missing values in mass, year, and locations\n",
    "    - Appropriate data types thus far"
   ]
  },
  {
   "cell_type": "markdown",
   "metadata": {},
   "source": [
    "# ***Cleaning***\n",
    "---\n",
    "---\n",
    "- [ ] Drop NaN?\n",
    "- [x] Convert Dates\n",
    "- [x] Adjust Data Types\n",
    "- [x] Change Column Names\n",
    "- [ ] Select proper Geolocation formatting\n",
    "- [x] Select test data (use `.sample()`)"
   ]
  },
  {
   "cell_type": "markdown",
   "metadata": {},
   "source": [
    "## Rename columns"
   ]
  },
  {
   "cell_type": "code",
   "execution_count": 4,
   "metadata": {},
   "outputs": [
    {
     "data": {
      "text/html": [
       "<div>\n",
       "<style scoped>\n",
       "    .dataframe tbody tr th:only-of-type {\n",
       "        vertical-align: middle;\n",
       "    }\n",
       "\n",
       "    .dataframe tbody tr th {\n",
       "        vertical-align: top;\n",
       "    }\n",
       "\n",
       "    .dataframe thead th {\n",
       "        text-align: right;\n",
       "    }\n",
       "</style>\n",
       "<table border=\"1\" class=\"dataframe\">\n",
       "  <thead>\n",
       "    <tr style=\"text-align: right;\">\n",
       "      <th></th>\n",
       "      <th>name</th>\n",
       "      <th>id</th>\n",
       "      <th>nametype</th>\n",
       "      <th>class</th>\n",
       "      <th>mass</th>\n",
       "      <th>fall</th>\n",
       "      <th>year</th>\n",
       "      <th>lat</th>\n",
       "      <th>long</th>\n",
       "      <th>GeoLocation</th>\n",
       "    </tr>\n",
       "  </thead>\n",
       "  <tbody>\n",
       "    <tr>\n",
       "      <th>0</th>\n",
       "      <td>Aachen</td>\n",
       "      <td>1</td>\n",
       "      <td>Valid</td>\n",
       "      <td>L5</td>\n",
       "      <td>21.0</td>\n",
       "      <td>Fell</td>\n",
       "      <td>1880.0</td>\n",
       "      <td>50.77500</td>\n",
       "      <td>6.08333</td>\n",
       "      <td>(50.775000, 6.083330)</td>\n",
       "    </tr>\n",
       "    <tr>\n",
       "      <th>1</th>\n",
       "      <td>Aarhus</td>\n",
       "      <td>2</td>\n",
       "      <td>Valid</td>\n",
       "      <td>H6</td>\n",
       "      <td>720.0</td>\n",
       "      <td>Fell</td>\n",
       "      <td>1951.0</td>\n",
       "      <td>56.18333</td>\n",
       "      <td>10.23333</td>\n",
       "      <td>(56.183330, 10.233330)</td>\n",
       "    </tr>\n",
       "    <tr>\n",
       "      <th>2</th>\n",
       "      <td>Abee</td>\n",
       "      <td>6</td>\n",
       "      <td>Valid</td>\n",
       "      <td>EH4</td>\n",
       "      <td>107000.0</td>\n",
       "      <td>Fell</td>\n",
       "      <td>1952.0</td>\n",
       "      <td>54.21667</td>\n",
       "      <td>-113.00000</td>\n",
       "      <td>(54.216670, -113.000000)</td>\n",
       "    </tr>\n",
       "    <tr>\n",
       "      <th>3</th>\n",
       "      <td>Acapulco</td>\n",
       "      <td>10</td>\n",
       "      <td>Valid</td>\n",
       "      <td>Acapulcoite</td>\n",
       "      <td>1914.0</td>\n",
       "      <td>Fell</td>\n",
       "      <td>1976.0</td>\n",
       "      <td>16.88333</td>\n",
       "      <td>-99.90000</td>\n",
       "      <td>(16.883330, -99.900000)</td>\n",
       "    </tr>\n",
       "    <tr>\n",
       "      <th>4</th>\n",
       "      <td>Achiras</td>\n",
       "      <td>370</td>\n",
       "      <td>Valid</td>\n",
       "      <td>L6</td>\n",
       "      <td>780.0</td>\n",
       "      <td>Fell</td>\n",
       "      <td>1902.0</td>\n",
       "      <td>-33.16667</td>\n",
       "      <td>-64.95000</td>\n",
       "      <td>(-33.166670, -64.950000)</td>\n",
       "    </tr>\n",
       "    <tr>\n",
       "      <th>...</th>\n",
       "      <td>...</td>\n",
       "      <td>...</td>\n",
       "      <td>...</td>\n",
       "      <td>...</td>\n",
       "      <td>...</td>\n",
       "      <td>...</td>\n",
       "      <td>...</td>\n",
       "      <td>...</td>\n",
       "      <td>...</td>\n",
       "      <td>...</td>\n",
       "    </tr>\n",
       "    <tr>\n",
       "      <th>45711</th>\n",
       "      <td>Zillah 002</td>\n",
       "      <td>31356</td>\n",
       "      <td>Valid</td>\n",
       "      <td>Eucrite</td>\n",
       "      <td>172.0</td>\n",
       "      <td>Found</td>\n",
       "      <td>1990.0</td>\n",
       "      <td>29.03700</td>\n",
       "      <td>17.01850</td>\n",
       "      <td>(29.037000, 17.018500)</td>\n",
       "    </tr>\n",
       "    <tr>\n",
       "      <th>45712</th>\n",
       "      <td>Zinder</td>\n",
       "      <td>30409</td>\n",
       "      <td>Valid</td>\n",
       "      <td>Pallasite, ungrouped</td>\n",
       "      <td>46.0</td>\n",
       "      <td>Found</td>\n",
       "      <td>1999.0</td>\n",
       "      <td>13.78333</td>\n",
       "      <td>8.96667</td>\n",
       "      <td>(13.783330, 8.966670)</td>\n",
       "    </tr>\n",
       "    <tr>\n",
       "      <th>45713</th>\n",
       "      <td>Zlin</td>\n",
       "      <td>30410</td>\n",
       "      <td>Valid</td>\n",
       "      <td>H4</td>\n",
       "      <td>3.3</td>\n",
       "      <td>Found</td>\n",
       "      <td>1939.0</td>\n",
       "      <td>49.25000</td>\n",
       "      <td>17.66667</td>\n",
       "      <td>(49.250000, 17.666670)</td>\n",
       "    </tr>\n",
       "    <tr>\n",
       "      <th>45714</th>\n",
       "      <td>Zubkovsky</td>\n",
       "      <td>31357</td>\n",
       "      <td>Valid</td>\n",
       "      <td>L6</td>\n",
       "      <td>2167.0</td>\n",
       "      <td>Found</td>\n",
       "      <td>2003.0</td>\n",
       "      <td>49.78917</td>\n",
       "      <td>41.50460</td>\n",
       "      <td>(49.789170, 41.504600)</td>\n",
       "    </tr>\n",
       "    <tr>\n",
       "      <th>45715</th>\n",
       "      <td>Zulu Queen</td>\n",
       "      <td>30414</td>\n",
       "      <td>Valid</td>\n",
       "      <td>L3.7</td>\n",
       "      <td>200.0</td>\n",
       "      <td>Found</td>\n",
       "      <td>1976.0</td>\n",
       "      <td>33.98333</td>\n",
       "      <td>-115.68333</td>\n",
       "      <td>(33.983330, -115.683330)</td>\n",
       "    </tr>\n",
       "  </tbody>\n",
       "</table>\n",
       "<p>45716 rows × 10 columns</p>\n",
       "</div>"
      ],
      "text/plain": [
       "             name     id nametype                 class      mass   fall  \\\n",
       "0          Aachen      1    Valid                    L5      21.0   Fell   \n",
       "1          Aarhus      2    Valid                    H6     720.0   Fell   \n",
       "2            Abee      6    Valid                   EH4  107000.0   Fell   \n",
       "3        Acapulco     10    Valid           Acapulcoite    1914.0   Fell   \n",
       "4         Achiras    370    Valid                    L6     780.0   Fell   \n",
       "...           ...    ...      ...                   ...       ...    ...   \n",
       "45711  Zillah 002  31356    Valid               Eucrite     172.0  Found   \n",
       "45712      Zinder  30409    Valid  Pallasite, ungrouped      46.0  Found   \n",
       "45713        Zlin  30410    Valid                    H4       3.3  Found   \n",
       "45714   Zubkovsky  31357    Valid                    L6    2167.0  Found   \n",
       "45715  Zulu Queen  30414    Valid                  L3.7     200.0  Found   \n",
       "\n",
       "         year       lat       long               GeoLocation  \n",
       "0      1880.0  50.77500    6.08333     (50.775000, 6.083330)  \n",
       "1      1951.0  56.18333   10.23333    (56.183330, 10.233330)  \n",
       "2      1952.0  54.21667 -113.00000  (54.216670, -113.000000)  \n",
       "3      1976.0  16.88333  -99.90000   (16.883330, -99.900000)  \n",
       "4      1902.0 -33.16667  -64.95000  (-33.166670, -64.950000)  \n",
       "...       ...       ...        ...                       ...  \n",
       "45711  1990.0  29.03700   17.01850    (29.037000, 17.018500)  \n",
       "45712  1999.0  13.78333    8.96667     (13.783330, 8.966670)  \n",
       "45713  1939.0  49.25000   17.66667    (49.250000, 17.666670)  \n",
       "45714  2003.0  49.78917   41.50460    (49.789170, 41.504600)  \n",
       "45715  1976.0  33.98333 -115.68333  (33.983330, -115.683330)  \n",
       "\n",
       "[45716 rows x 10 columns]"
      ]
     },
     "execution_count": 4,
     "metadata": {},
     "output_type": "execute_result"
    }
   ],
   "source": [
    "data.rename(columns={'recclass':'class', 'reclat':'lat', 'reclong':'long', 'mass (g)':'mass'}, inplace=True)\n",
    "data"
   ]
  },
  {
   "cell_type": "markdown",
   "metadata": {},
   "source": [
    "*Conclusions / Questions*\n",
    "    - ..."
   ]
  },
  {
   "cell_type": "markdown",
   "metadata": {},
   "source": [
    "## Sampling\n",
    "---\n",
    "## (Test sample size is set to 10%)\n",
    "## **Only comment out once all testing / experiment is done, to use real data)**"
   ]
  },
  {
   "cell_type": "code",
   "execution_count": 5,
   "metadata": {},
   "outputs": [
    {
     "name": "stdout",
     "output_type": "stream",
     "text": [
      "Original Data Stats: \n",
      "\n",
      "                 id          mass          year           lat          long\n",
      "count  45716.000000  4.558500e+04  45428.000000  38401.000000  38401.000000\n",
      "mean   26889.735104  1.327808e+04   1991.772189    -39.122580     61.074319\n",
      "std    16860.683030  5.749889e+05     27.181247     46.378511     80.647298\n",
      "min        1.000000  0.000000e+00    301.000000    -87.366670   -165.433330\n",
      "25%    12688.750000  7.200000e+00   1987.000000    -76.714240      0.000000\n",
      "50%    24261.500000  3.260000e+01   1998.000000    -71.500000     35.666670\n",
      "75%    40656.750000  2.026000e+02   2003.000000      0.000000    157.166670\n",
      "max    57458.000000  6.000000e+07   2501.000000     81.166670    354.473330\n",
      "\n",
      "--------\n",
      "\n",
      "New Sample Data Stats: \n",
      "\n",
      "                 id          mass         year          lat         long\n",
      "count   4572.000000  4.554000e+03  4539.000000  3807.000000  3807.000000\n",
      "mean   26840.427165  6.464544e+03  1991.618198   -39.613531    61.355065\n",
      "std    16753.395807  1.476050e+05    24.181905    46.146392    80.950433\n",
      "min       13.000000  0.000000e+00  1583.000000   -86.716670  -165.116670\n",
      "25%    12861.750000  7.300000e+00  1987.000000   -76.708255     0.000000\n",
      "50%    24247.500000  3.305000e+01  1998.000000   -71.500000    35.666670\n",
      "75%    40521.500000  1.920000e+02  2003.000000     0.000000   157.166670\n",
      "max    57453.000000  8.600000e+06  2012.000000    68.000000   175.000000\n"
     ]
    }
   ],
   "source": [
    "# *****************************\n",
    "# HIGHLY IMPORTANT\n",
    "# *****************************\n",
    "\n",
    "# Sample data\n",
    "print(\"Original Data Stats: \\n\")\n",
    "print(data.describe())\n",
    "\n",
    "print('\\n--------\\n')\n",
    "\n",
    "print(\"New Sample Data Stats: \\n\")\n",
    "data['year'].fillna(0).astype(int)\n",
    "data['mass'].fillna(0).astype(int)\n",
    "\n",
    "\n",
    "data = data.sample(frac=0.1)  # 10% sample set\n",
    "print(data.describe())"
   ]
  },
  {
   "cell_type": "markdown",
   "metadata": {},
   "source": [
    "*Conclusions / Questions*\n",
    "    - ..."
   ]
  },
  {
   "cell_type": "markdown",
   "metadata": {},
   "source": [
    "## Outliers"
   ]
  },
  {
   "cell_type": "code",
   "execution_count": 6,
   "metadata": {},
   "outputs": [
    {
     "data": {
      "text/plain": [
       "<matplotlib.axes._subplots.AxesSubplot at 0x1250279d0>"
      ]
     },
     "execution_count": 6,
     "metadata": {},
     "output_type": "execute_result"
    },
    {
     "data": {
      "image/png": "[encoded data removed]",
      "text/plain": [
       "<Figure size 432x288 with 1 Axes>"
      ]
     },
     "metadata": {
      "needs_background": "light"
     },
     "output_type": "display_data"
    }
   ],
   "source": [
    "sns.boxplot(x=data['year'])"
   ]
  },
  {
   "cell_type": "code",
   "execution_count": 7,
   "metadata": {},
   "outputs": [
    {
     "data": {
      "image/png": "[encoded data removed]",
      "text/plain": [
       "<Figure size 1152x576 with 1 Axes>"
      ]
     },
     "metadata": {
      "needs_background": "light"
     },
     "output_type": "display_data"
    }
   ],
   "source": [
    "fig, ax = plt.subplots(figsize=(16,8))\n",
    "ax.scatter(data['year'], data['mass'])\n",
    "# ax.set_xlabel('Proportion of non-retail business acres per town')\n",
    "# ax.set_ylabel('Full-value property-tax rate per $10,000')\n",
    "plt.show()"
   ]
  },
  {
   "cell_type": "code",
   "execution_count": 8,
   "metadata": {},
   "outputs": [],
   "source": [
    "# z = np.abs(stats.zscore(data['mass']))\n",
    "# threshold = 3\n",
    "# print(np.where(z > 3))"
   ]
  },
  {
   "cell_type": "code",
   "execution_count": null,
   "metadata": {},
   "outputs": [],
   "source": []
  },
  {
   "cell_type": "code",
   "execution_count": null,
   "metadata": {},
   "outputs": [],
   "source": []
  },
  {
   "cell_type": "markdown",
   "metadata": {},
   "source": [
    "# ***Statistical Plotting***\n",
    "---\n",
    "---"
   ]
  },
  {
   "cell_type": "markdown",
   "metadata": {},
   "source": [
    "## Fall vs Fallen Histogram"
   ]
  },
  {
   "cell_type": "code",
   "execution_count": 9,
   "metadata": {
    "scrolled": true
   },
   "outputs": [
    {
     "data": {
      "image/png": "[encoded data removed]",
      "text/plain": [
       "<Figure size 432x288 with 1 Axes>"
      ]
     },
     "metadata": {
      "needs_background": "light"
     },
     "output_type": "display_data"
    }
   ],
   "source": [
    "data['fall'].hist(bins=3)  # \n",
    "plt.show()"
   ]
  },
  {
   "cell_type": "markdown",
   "metadata": {},
   "source": [
    "*Conclusions / Questions*\n",
    "    - ..."
   ]
  },
  {
   "cell_type": "markdown",
   "metadata": {},
   "source": [
    "## Equator or Poles"
   ]
  },
  {
   "cell_type": "code",
   "execution_count": 10,
   "metadata": {
    "scrolled": true
   },
   "outputs": [
    {
     "data": {
      "image/png": "[encoded data removed]",
      "text/plain": [
       "<Figure size 432x288 with 1 Axes>"
      ]
     },
     "metadata": {
      "needs_background": "light"
     },
     "output_type": "display_data"
    },
    {
     "name": "stdout",
     "output_type": "stream",
     "text": [
      "Above Equator: 826 \n",
      "\n",
      "At Equator: 637 \n",
      "\n",
      "Below Equator: 2344 \n",
      "\n"
     ]
    },
    {
     "data": {
      "image/png": "[encoded data removed]",
      "text/plain": [
       "<Figure size 432x288 with 1 Axes>"
      ]
     },
     "metadata": {},
     "output_type": "display_data"
    }
   ],
   "source": [
    "plt.scatter(data.mass, data.lat)\n",
    "# print(data[data['lat']>0].count())\n",
    "# print(data[data['lat']<0].count())\n",
    "axes = plt.gca()\n",
    "axes.set_ylim([-90,90])\n",
    "above_equator = data[data.lat >0].shape[0]\n",
    "at_equator = data[data.lat ==0].shape[0]\n",
    "below_equator = data[data.lat <0].shape[0]\n",
    "plt.show()\n",
    "\n",
    "print(\"Above Equator:\", above_equator, '\\n')\n",
    "print(\"At Equator:\", at_equator, '\\n')\n",
    "print(\"Below Equator:\", below_equator, '\\n')\n",
    "\n",
    "labels = [\"Above\", 'At', 'Below']\n",
    "values = [above_equator, at_equator, below_equator]\n",
    "plt.pie(values, labels=labels)\n",
    "plt.show()"
   ]
  },
  {
   "cell_type": "markdown",
   "metadata": {},
   "source": [
    "*Conclusions / Questions*\n",
    "    - There are missig values because of the `Nan` values that I didn't remove. If I do remove then and replace them with 0, then it'ss alter results of values that actually are on the equator or prime meridian"
   ]
  },
  {
   "cell_type": "code",
   "execution_count": null,
   "metadata": {},
   "outputs": [],
   "source": []
  },
  {
   "cell_type": "code",
   "execution_count": null,
   "metadata": {},
   "outputs": [],
   "source": []
  },
  {
   "cell_type": "markdown",
   "metadata": {},
   "source": [
    "## PDF"
   ]
  },
  {
   "cell_type": "markdown",
   "metadata": {},
   "source": [
    "*Conclusions / Questions*\n",
    "    - ..."
   ]
  },
  {
   "cell_type": "code",
   "execution_count": 11,
   "metadata": {
    "scrolled": true
   },
   "outputs": [
    {
     "data": {
      "text/plain": [
       "<matplotlib.axes._subplots.AxesSubplot at 0x1258f3890>"
      ]
     },
     "execution_count": 11,
     "metadata": {},
     "output_type": "execute_result"
    },
    {
     "data": {
      "image/png": "[encoded data removed]",
      "text/plain": [
       "<Figure size 432x288 with 1 Axes>"
      ]
     },
     "metadata": {
      "needs_background": "light"
     },
     "output_type": "display_data"
    }
   ],
   "source": [
    "sns.distplot(data['year'].dropna(), hist=True, kde=True, bins=16)"
   ]
  },
  {
   "cell_type": "markdown",
   "metadata": {},
   "source": [
    "*Conclusions / Questions*\n",
    "    - ..."
   ]
  },
  {
   "cell_type": "markdown",
   "metadata": {},
   "source": [
    "## CDF"
   ]
  },
  {
   "cell_type": "code",
   "execution_count": 12,
   "metadata": {},
   "outputs": [
    {
     "data": {
      "text/plain": [
       "[<matplotlib.lines.Line2D at 0x115d95790>]"
      ]
     },
     "execution_count": 12,
     "metadata": {},
     "output_type": "execute_result"
    },
    {
     "data": {
      "image/png": "[encoded data removed]",
      "text/plain": [
       "<Figure size 432x288 with 1 Axes>"
      ]
     },
     "metadata": {
      "needs_background": "light"
     },
     "output_type": "display_data"
    }
   ],
   "source": [
    "ls_year = data['year'].dropna().values\n",
    "\n",
    "def calculate_cdf(x, threshold):\n",
    "    return np.sum(x <= threshold)\n",
    "\n",
    "# Create an array cdf_age where each value is the cdf of the age for each threshold\n",
    "cdf_year = [calculate_cdf(ls_year, r)/len(ls_year) for r in range(int(np.min(ls_year)), int(np.max(ls_year)))]\n",
    "\n",
    "plt.plot(range(int(np.min(ls_year)), int(np.max(ls_year))), cdf_year)\n"
   ]
  },
  {
   "cell_type": "markdown",
   "metadata": {},
   "source": [
    "*Conclusions / Questions*\n",
    "    - ..."
   ]
  },
  {
   "cell_type": "markdown",
   "metadata": {},
   "source": [
    "## Violin Plot"
   ]
  },
  {
   "cell_type": "code",
   "execution_count": 13,
   "metadata": {},
   "outputs": [
    {
     "data": {
      "text/plain": [
       "<matplotlib.axes._subplots.AxesSubplot at 0x125482910>"
      ]
     },
     "execution_count": 13,
     "metadata": {},
     "output_type": "execute_result"
    },
    {
     "data": {
      "image/png": "[encoded data removed]",
      "text/plain": [
       "<Figure size 432x288 with 1 Axes>"
      ]
     },
     "metadata": {
      "needs_background": "light"
     },
     "output_type": "display_data"
    }
   ],
   "source": [
    "sns.violinplot(x=\"year\", y=\"mass\", data=data)"
   ]
  },
  {
   "cell_type": "markdown",
   "metadata": {},
   "source": [
    "*Conclusions / Questions*\n",
    "    - Why are the masses in the violin plot negative?"
   ]
  },
  {
   "cell_type": "markdown",
   "metadata": {},
   "source": [
    "## Correlation"
   ]
  },
  {
   "cell_type": "code",
   "execution_count": 14,
   "metadata": {},
   "outputs": [
    {
     "data": {
      "text/plain": [
       "<matplotlib.axes._subplots.AxesSubplot at 0x1265f4610>"
      ]
     },
     "execution_count": 14,
     "metadata": {},
     "output_type": "execute_result"
    },
    {
     "data": {
      "image/png": "[encoded data removed]",
      "text/plain": [
       "<Figure size 432x288 with 2 Axes>"
      ]
     },
     "metadata": {
      "needs_background": "light"
     },
     "output_type": "display_data"
    }
   ],
   "source": [
    "sns.heatmap(data.corr(), annot=True, cmap='coolwarm')\n"
   ]
  },
  {
   "cell_type": "code",
   "execution_count": null,
   "metadata": {},
   "outputs": [],
   "source": []
  },
  {
   "cell_type": "code",
   "execution_count": null,
   "metadata": {},
   "outputs": [],
   "source": []
  },
  {
   "cell_type": "markdown",
   "metadata": {},
   "source": [
    "# ***Various Plotting***\n",
    "---\n",
    "---"
   ]
  },
  {
   "cell_type": "markdown",
   "metadata": {},
   "source": [
    "## See the top 10 classification of meteors"
   ]
  },
  {
   "cell_type": "code",
   "execution_count": 15,
   "metadata": {},
   "outputs": [
    {
     "data": {
      "text/plain": [
       "<matplotlib.axes._subplots.AxesSubplot at 0x126774910>"
      ]
     },
     "execution_count": 15,
     "metadata": {},
     "output_type": "execute_result"
    },
    {
     "data": {
      "image/png": "[encoded data removed]",
      "text/plain": [
       "<Figure size 432x288 with 1 Axes>"
      ]
     },
     "metadata": {
      "needs_background": "light"
     },
     "output_type": "display_data"
    }
   ],
   "source": [
    "top_10_class = data['class'].value_counts()[:10]\n",
    "plt.bar(top_10_class, height = 1)\n",
    "\n",
    "top_10_class.plot(kind='bar')"
   ]
  },
  {
   "cell_type": "markdown",
   "metadata": {},
   "source": [
    "*Conclusions / Questions*\n",
    "    - ..."
   ]
  },
  {
   "cell_type": "code",
   "execution_count": null,
   "metadata": {},
   "outputs": [],
   "source": []
  },
  {
   "cell_type": "markdown",
   "metadata": {},
   "source": [
    "## Lat and Long scatter plot, using mass as bubble size"
   ]
  },
  {
   "cell_type": "code",
   "execution_count": 16,
   "metadata": {},
   "outputs": [
    {
     "data": {
      "image/png": "[encoded data removed]",
      "text/plain": [
       "<Figure size 720x504 with 1 Axes>"
      ]
     },
     "metadata": {
      "needs_background": "light"
     },
     "output_type": "display_data"
    }
   ],
   "source": [
    "plt.figure(figsize=(10,7))\n",
    "N = len(data['mass'])\n",
    "area = (30 * np.random.rand(N))**2  # 0 to 15 point radii\n",
    "colors = np.random.rand(N)\n",
    "plt.scatter(data['lat'], data['long'], s=area, c=colors, alpha=0.2)\n",
    "\n",
    "plt.grid(True)\n",
    "axes = plt.gca()\n",
    "axes.set_xlim([-90,90])\n",
    "axes.set_ylim([-180,180])\n",
    "plt.show()\n"
   ]
  },
  {
   "cell_type": "markdown",
   "metadata": {},
   "source": [
    "*Conclusions / Questions*\n",
    "    - I notice here about a problem. There are values that the lat and long do not make sense. But because they were 'found' and had not 'fell' the lat and long are for the research labs that they were discovered in. EX. NASA headquarters in DC is at lat and long, approx 38.8N, -77.0W"
   ]
  },
  {
   "cell_type": "markdown",
   "metadata": {},
   "source": []
  },
  {
   "cell_type": "code",
   "execution_count": 17,
   "metadata": {},
   "outputs": [
    {
     "name": "stdout",
     "output_type": "stream",
     "text": [
      "2003.0    327\n",
      "1979.0    308\n",
      "1998.0    255\n",
      "2006.0    247\n",
      "1988.0    224\n",
      "         ... \n",
      "1824.0      1\n",
      "1850.0      1\n",
      "1949.0      1\n",
      "1583.0      1\n",
      "1927.0      1\n",
      "Name: year, Length: 157, dtype: int64\n"
     ]
    }
   ],
   "source": [
    "print(data['year'].value_counts())\n",
    "# data['recclass'].value_counts().plot(kind='bar')  # bar chart of the amount embarked passengers by class"
   ]
  },
  {
   "cell_type": "code",
   "execution_count": null,
   "metadata": {},
   "outputs": [],
   "source": []
  },
  {
   "cell_type": "code",
   "execution_count": null,
   "metadata": {},
   "outputs": [],
   "source": []
  },
  {
   "cell_type": "markdown",
   "metadata": {},
   "source": [
    "## Time Analysis"
   ]
  },
  {
   "cell_type": "code",
   "execution_count": 18,
   "metadata": {},
   "outputs": [
    {
     "data": {
      "text/plain": [
       "21405    1988\n",
       "26440    1999\n",
       "39684    1979\n",
       "42479    1982\n",
       "15153    2006\n",
       "         ... \n",
       "12884    1998\n",
       "27112    2002\n",
       "43386    1986\n",
       "14407    2003\n",
       "41911    1979\n",
       "Name: year, Length: 4572, dtype: int64"
      ]
     },
     "execution_count": 18,
     "metadata": {},
     "output_type": "execute_result"
    }
   ],
   "source": [
    "data['year'].fillna(0).astype(int)\n"
   ]
  },
  {
   "cell_type": "markdown",
   "metadata": {},
   "source": [
    "*Conclusions / Questions*\n",
    "    - ..."
   ]
  },
  {
   "cell_type": "code",
   "execution_count": 19,
   "metadata": {},
   "outputs": [
    {
     "name": "stdout",
     "output_type": "stream",
     "text": [
      "Years describes:  count    157.000000\n",
      "mean      28.910828\n",
      "std       62.457717\n",
      "min        1.000000\n",
      "25%        1.000000\n",
      "50%        2.000000\n",
      "75%        8.000000\n",
      "max      327.000000\n",
      "Name: year, dtype: float64 \n",
      "\n",
      "Confirming amount of unique year 157 \n",
      "\n",
      "Year with most recorded data: 2012.0\n",
      "Total span of year data:  429.0 years\n",
      "\n"
     ]
    },
    {
     "data": {
      "image/png": "[encoded data removed]",
      "text/plain": [
       "<Figure size 720x576 with 1 Axes>"
      ]
     },
     "metadata": {
      "needs_background": "light"
     },
     "output_type": "display_data"
    }
   ],
   "source": [
    "year_count = data.groupby('year')['year'].count()\n",
    "plt.figure(figsize=(10,8))\n",
    "plt.plot(year_count)\n",
    "print(\"Years describes: \", year_count.describe(), '\\n')\n",
    "print(\"Confirming amount of unique year\", data.year.nunique(), '\\n')\n",
    "print(\"Year with most recorded data:\", data.year.max())\n",
    "print(\"Total span of year data: \", data.year.max()-data.year.min(), 'years\\n')\n",
    "# plt.hist(year_count)"
   ]
  },
  {
   "cell_type": "markdown",
   "metadata": {},
   "source": [
    "*Conclusions / Questions*\n",
    "    - ..."
   ]
  },
  {
   "cell_type": "markdown",
   "metadata": {},
   "source": [
    "## Geolocation"
   ]
  },
  {
   "cell_type": "code",
   "execution_count": 20,
   "metadata": {
    "scrolled": true
   },
   "outputs": [
    {
     "name": "stdout",
     "output_type": "stream",
     "text": [
      "[None, None, None, None, None, None, None, None, None, None, None, 'Niger', None, None, None, None, None, 'Saudi Arabia / السعودية', None, None]\n"
     ]
    }
   ],
   "source": [
    "geolocator = Nominatim(user_agent=\"project_impact\")\n",
    "# coor=gp.Point(data['lat'][0], data['long'][0])\n",
    "# location = geolocator.reverse(coor)\n",
    "# print(location.raw['address'].get('country'))\n",
    "\n",
    "\n",
    "# data['lat']= data['lat'].fillna(0).astype(float)\n",
    "# data['long'] =data['long'].fillna(0).astype(float)\n",
    "      \n",
    "\n",
    "\n",
    "lists = []\n",
    "for i in range(20):\n",
    "    lats = data['lat'].get(key = i)\n",
    "    longs = data['long'].get(key = i)\n",
    "    coor = gp.Point(lats, longs)\n",
    "    country = geolocator.reverse(gp.Point(coor)).raw['address'].get('country')\n",
    "    lists.append(country)\n",
    "print(lists)\n",
    "\n",
    "\n",
    "\n",
    "# print(data.head(20))\n",
    "\n",
    "\n",
    "# coord= gp.Point(data['lat'].iloc(0), data['long'].iloc(0))\n",
    "# print(coord)\n",
    "# location = geolocator.reverse(coord)\n",
    "# print(location)\n",
    "# # "
   ]
  },
  {
   "cell_type": "code",
   "execution_count": 21,
   "metadata": {},
   "outputs": [],
   "source": [
    "# import plotly_express as px\n",
    "# px.scatter_mapbox(data, lat=”lat”, lon=”long”, zoom=15)"
   ]
  },
  {
   "cell_type": "code",
   "execution_count": null,
   "metadata": {},
   "outputs": [],
   "source": []
  }
 ],
 "metadata": {
  "kernelspec": {
   "display_name": "Python 3",
   "language": "python",
   "name": "python3"
  },
  "language_info": {
   "codemirror_mode": {
    "name": "ipython",
    "version": 3
   },
   "file_extension": ".py",
   "mimetype": "text/x-python",
   "name": "python",
   "nbconvert_exporter": "python",
   "pygments_lexer": "ipython3",
   "version": "3.7.4"
  }
 },
 "nbformat": 4,
 "nbformat_minor": 4
}
