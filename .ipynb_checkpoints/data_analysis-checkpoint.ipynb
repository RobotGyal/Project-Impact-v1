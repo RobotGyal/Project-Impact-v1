{
 "cells": [
  {
   "cell_type": "markdown",
   "metadata": {},
   "source": [
    "# Analyzing Meteorite Dataset "
   ]
  },
  {
   "cell_type": "code",
   "execution_count": 16,
   "metadata": {},
   "outputs": [
    {
     "data": {
      "text/plain": [
       "'/usr/local/opt/python/bin/python3.7'"
      ]
     },
     "execution_count": 16,
     "metadata": {},
     "output_type": "execute_result"
    }
   ],
   "source": [
    "# imports\n",
    "import numpy as np\n",
    "import pandas as pd\n",
    "import matplotlib.pyplot as plt\n",
    "import seaborn as sns\n",
    "import timeit   # for testing code runtime\n",
    "from statistics import mode \n",
    "# from geopy.geocoders import Nominatim  # for geolocation conversion\n",
    "import csv\n",
    "import sys\n",
    "sys.executable"
   ]
  },
  {
   "cell_type": "markdown",
   "metadata": {},
   "source": [
    "# Important Variables"
   ]
  },
  {
   "cell_type": "markdown",
   "metadata": {},
   "source": [
    "* meteor \n",
    "* api_meteor_data\n",
    "* api_meteor_data_arr\n",
    "* meteor_test\n",
    "* meteor_test_2000 - "
   ]
  },
  {
   "cell_type": "code",
   "execution_count": 5,
   "metadata": {},
   "outputs": [
    {
     "name": "stdout",
     "output_type": "stream",
     "text": [
      "             name     id nametype              recclass      mass   fall  \\\n",
      "0          Aachen      1    Valid                    L5      21.0   Fell   \n",
      "1          Aarhus      2    Valid                    H6     720.0   Fell   \n",
      "2            Abee      6    Valid                   EH4  107000.0   Fell   \n",
      "3        Acapulco     10    Valid           Acapulcoite    1914.0   Fell   \n",
      "4         Achiras    370    Valid                    L6     780.0   Fell   \n",
      "...           ...    ...      ...                   ...       ...    ...   \n",
      "45711  Zillah 002  31356    Valid               Eucrite     172.0  Found   \n",
      "45712      Zinder  30409    Valid  Pallasite, ungrouped      46.0  Found   \n",
      "45713        Zlin  30410    Valid                    H4       3.3  Found   \n",
      "45714   Zubkovsky  31357    Valid                    L6    2167.0  Found   \n",
      "45715  Zulu Queen  30414    Valid                  L3.7     200.0  Found   \n",
      "\n",
      "         year    reclat    reclong               GeoLocation  \n",
      "0      1880.0  50.77500    6.08333     (50.775000, 6.083330)  \n",
      "1      1951.0  56.18333   10.23333    (56.183330, 10.233330)  \n",
      "2      1952.0  54.21667 -113.00000  (54.216670, -113.000000)  \n",
      "3      1976.0  16.88333  -99.90000   (16.883330, -99.900000)  \n",
      "4      1902.0 -33.16667  -64.95000  (-33.166670, -64.950000)  \n",
      "...       ...       ...        ...                       ...  \n",
      "45711  1990.0  29.03700   17.01850    (29.037000, 17.018500)  \n",
      "45712  1999.0  13.78333    8.96667     (13.783330, 8.966670)  \n",
      "45713  1939.0  49.25000   17.66667    (49.250000, 17.666670)  \n",
      "45714  2003.0  49.78917   41.50460    (49.789170, 41.504600)  \n",
      "45715  1976.0  33.98333 -115.68333  (33.983330, -115.683330)  \n",
      "\n",
      "[45716 rows x 10 columns]\n",
      "\n",
      "\n",
      "\n",
      "\n",
      "<class 'pandas.core.frame.DataFrame'>\n",
      "RangeIndex: 45716 entries, 0 to 45715\n",
      "Data columns (total 10 columns):\n",
      " #   Column       Non-Null Count  Dtype  \n",
      "---  ------       --------------  -----  \n",
      " 0   name         45716 non-null  object \n",
      " 1   id           45716 non-null  int64  \n",
      " 2   nametype     45716 non-null  object \n",
      " 3   recclass     45716 non-null  object \n",
      " 4   mass         45585 non-null  float64\n",
      " 5   fall         45716 non-null  object \n",
      " 6   year         45428 non-null  float64\n",
      " 7   reclat       38401 non-null  float64\n",
      " 8   reclong      38401 non-null  float64\n",
      " 9   GeoLocation  38401 non-null  object \n",
      "dtypes: float64(4), int64(1), object(5)\n",
      "memory usage: 3.5+ MB\n",
      "\n",
      "\n",
      "\n",
      "\n",
      "['name', 'id', 'nametype', 'recclass', 'mass', 'fall', 'year', 'reclat', 'reclong', 'GeoLocation']\n",
      "\n",
      "\n",
      "\n",
      "\n",
      "2501.0\n",
      "301.0\n",
      "2003.0\n"
     ]
    }
   ],
   "source": [
    "meteor = pd.read_csv('meteorite-landings.csv')\n",
    "meteor = pd.DataFrame(meteor)\n",
    "\n",
    "\n",
    "print(meteor)\n",
    "print(\"\\n\\n\\n\")\n",
    "\n",
    "# print(meteor.describe())\n",
    "meteor.info()\n",
    "print(\"\\n\\n\\n\")\n",
    "\n",
    "#list all column names\n",
    "print(list(meteor.columns))\n",
    "\n",
    "print(\"\\n\\n\\n\")\n",
    "# print(meteor['fall'])\n",
    "\n",
    "print(np.max(meteor['year']))\n",
    "print(np.min(meteor['year']))\n",
    "print(mode(meteor['year']))"
   ]
  },
  {
   "cell_type": "markdown",
   "metadata": {},
   "source": [
    "# visualizing mass"
   ]
  },
  {
   "cell_type": "code",
   "execution_count": 6,
   "metadata": {},
   "outputs": [
    {
     "name": "stdout",
     "output_type": "stream",
     "text": [
      "Maximum mass:  60000000.0\n",
      "Minimum mass:  0.0\n",
      "Mean mass:  13278.078548601516\n"
     ]
    },
    {
     "data": {
      "text/plain": [
       "Text(0, 0.5, 'year')"
      ]
     },
     "execution_count": 6,
     "metadata": {},
     "output_type": "execute_result"
    },
    {
     "data": {
      "image/png": "[encoded data removed]",
      "text/plain": [
       "<Figure size 432x288 with 1 Axes>"
      ]
     },
     "metadata": {
      "needs_background": "light"
     },
     "output_type": "display_data"
    }
   ],
   "source": [
    "\n",
    "print(\"Maximum mass: \", np.max(meteor['mass']))\n",
    "print(\"Minimum mass: \", np.min(meteor['mass']))\n",
    "print(\"Mean mass: \",np.mean(meteor['mass']))\n",
    "\n",
    "\n",
    "# create a figure and axis \n",
    "fig, ax = plt.subplots() \n",
    "\n",
    "\n",
    "# scatter the sepal_length against the sepal_width\n",
    "ax.scatter(meteor['mass'], meteor['year'])\n",
    "# set a title and labels\n",
    "ax.set_title('Meteor Dataset (mass vs year)')\n",
    "ax.set_xlabel('mass')\n",
    "ax.set_ylabel('year')"
   ]
  },
  {
   "cell_type": "markdown",
   "metadata": {},
   "source": [
    "# Time Analysis Testing"
   ]
  },
  {
   "cell_type": "code",
   "execution_count": 6,
   "metadata": {},
   "outputs": [
    {
     "name": "stdout",
     "output_type": "stream",
     "text": [
      "0.020687164910000035\n"
     ]
    }
   ],
   "source": [
    "# Testing a time analysis function\n",
    "import timeit\n",
    "code_to_test = \"\"\"\n",
    "a = range(100000)\n",
    "b = []\n",
    "for i in a:\n",
    "    b.append(i*2)\n",
    "\"\"\"\n",
    "elapsed_time = timeit.timeit(code_to_test, number=100)/100\n",
    "print(elapsed_time)"
   ]
  },
  {
   "cell_type": "code",
   "execution_count": 8,
   "metadata": {},
   "outputs": [],
   "source": [
    "\n",
    "bar_chart_time=\"\"\"\n",
    "# create a figure and axis \n",
    "fig, ax = plt.subplots() \n",
    "\n",
    "\n",
    "# scatter the sepal_length against the sepal_width\n",
    "ax.scatter(meteor['mass'], meteor['year'])\n",
    "# set a title and labels\n",
    "ax.set_title('Meteor Dataset (mass vs year)')\n",
    "ax.set_xlabel('mass')\n",
    "ax.set_ylabel('year')\n",
    "\"\"\""
   ]
  },
  {
   "cell_type": "markdown",
   "metadata": {},
   "source": [
    "\n",
    "# 2000 random points\n"
   ]
  },
  {
   "cell_type": "code",
   "execution_count": 7,
   "metadata": {},
   "outputs": [
    {
     "name": "stdout",
     "output_type": "stream",
     "text": [
      "                         name     id nametype recclass      mass   fall  \\\n",
      "16858   Jiddat al Harasis 408  48559    Valid       L5   280.972  Found   \n",
      "41523           Yamato 792844  28193    Valid       H5     3.640  Found   \n",
      "9352            El Médano 125  56690    Valid       L6    93.000  Found   \n",
      "24107      Miller Range 03341  36406    Valid      LL5   717.200  Found   \n",
      "14527  Grove Mountains 022794  50073    Valid      H5      1.330  Found   \n",
      "...                       ...    ...      ...      ...       ...    ...   \n",
      "15543  Grove Mountains 053256  50512    Valid       L5     0.500  Found   \n",
      "2366        Allan Hills 90411   1254    Valid     L3.7  5836.500  Found   \n",
      "15997   Hammadah al Hamra 027  11510    Valid       H4    44.000  Found   \n",
      "12722   Graves Nunataks 06183  46041    Valid       L5     7.100  Found   \n",
      "18794    LaPaz Icefield 04667  45215    Valid       L6     9.800  Found   \n",
      "\n",
      "         year    reclat    reclong               GeoLocation  \n",
      "16858  2007.0  19.73472   56.45558    (19.734720, 56.455580)  \n",
      "41523  1979.0 -71.50000   35.66667   (-71.500000, 35.666670)  \n",
      "9352   2011.0 -24.85000  -70.53333  (-24.850000, -70.533330)  \n",
      "24107  2003.0       NaN        NaN                       NaN  \n",
      "14527  2003.0 -72.77556   75.33861   (-72.775560, 75.338610)  \n",
      "...       ...       ...        ...                       ...  \n",
      "15543  2006.0 -72.77472   75.34000   (-72.774720, 75.340000)  \n",
      "2366   1990.0 -76.98079  156.93013  (-76.980790, 156.930130)  \n",
      "15997  1990.0  28.81667   12.96667    (28.816670, 12.966670)  \n",
      "12722  2006.0       NaN        NaN                       NaN  \n",
      "18794  2004.0       NaN        NaN                       NaN  \n",
      "\n",
      "[2000 rows x 10 columns]\n",
      "<class 'pandas.core.frame.DataFrame'>\n"
     ]
    }
   ],
   "source": [
    "# api_meteor_data.to_csv('api_meteor_data.csv')  \n",
    "# randomly selects 2000 data points and puts them in data frame\n",
    "api_meteor_data = meteor.loc[np.random.randint(len(meteor), size = 2000)]\n",
    "print(api_meteor_data)\n",
    "print(type(api_meteor_data))"
   ]
  },
  {
   "cell_type": "markdown",
   "metadata": {},
   "source": [
    "# Select 2000 points and save as CSV "
   ]
  },
  {
   "cell_type": "code",
   "execution_count": 14,
   "metadata": {},
   "outputs": [
    {
     "ename": "AttributeError",
     "evalue": "'builtin_function_or_method' object has no attribute 'append'",
     "output_type": "error",
     "traceback": [
      "\u001b[0;31m-------------------------------------------------------------------------\u001b[0m",
      "\u001b[0;31mAttributeError\u001b[0m                          Traceback (most recent call last)",
      "\u001b[0;32m<ipython-input-14-3711f13ae569>\u001b[0m in \u001b[0;36m<module>\u001b[0;34m\u001b[0m\n\u001b[1;32m     12\u001b[0m \u001b[0;32mfor\u001b[0m \u001b[0mrow\u001b[0m \u001b[0;32min\u001b[0m \u001b[0mreader\u001b[0m\u001b[0;34m:\u001b[0m\u001b[0;34m\u001b[0m\u001b[0;34m\u001b[0m\u001b[0m\n\u001b[1;32m     13\u001b[0m \u001b[0;31m#     print(row)\u001b[0m\u001b[0;34m\u001b[0m\u001b[0;34m\u001b[0m\u001b[0;34m\u001b[0m\u001b[0m\n\u001b[0;32m---> 14\u001b[0;31m     \u001b[0mall\u001b[0m\u001b[0;34m.\u001b[0m\u001b[0mappend\u001b[0m\u001b[0;34m(\u001b[0m\u001b[0mrow\u001b[0m\u001b[0;34m)\u001b[0m\u001b[0;34m\u001b[0m\u001b[0;34m\u001b[0m\u001b[0m\n\u001b[0m\u001b[1;32m     15\u001b[0m \u001b[0;31m#     print(all, '\\n')\u001b[0m\u001b[0;34m\u001b[0m\u001b[0;34m\u001b[0m\u001b[0;34m\u001b[0m\u001b[0m\n\u001b[1;32m     16\u001b[0m \u001b[0mprint\u001b[0m\u001b[0;34m(\u001b[0m\u001b[0mall\u001b[0m\u001b[0;34m)\u001b[0m\u001b[0;34m\u001b[0m\u001b[0;34m\u001b[0m\u001b[0m\n",
      "\u001b[0;31mAttributeError\u001b[0m: 'builtin_function_or_method' object has no attribute 'append'"
     ]
    }
   ],
   "source": [
    "meteor_test = pd.read_csv('meteorite-landings.csv')\n",
    "meteor_test_2000 = meteor.loc[np.random.randint(len(meteor), size = 2000)]\n",
    "\n",
    "reader = csv.DictReader(\n",
    "    open(\"meteor_test_2000.csv\"),\n",
    "    fieldnames=['order', 'name', 'id', 'nametype', 'recclass', 'mass', 'fall', 'year', 'reclat', 'reclong', 'GeoLocation']\n",
    ")\n",
    "all_meteors = []\n",
    "for row in reader:\n",
    "#     print(row)\n",
    "    all.append(row)\n",
    "#     print(all, '\\n')\n",
    "print(all)\n",
    "\n",
    "# all.to_csv('meteor_test_50.csv')\n"
   ]
  },
  {
   "cell_type": "markdown",
   "metadata": {},
   "source": [
    "# Convert to Key : Value pairs"
   ]
  },
  {
   "cell_type": "code",
   "execution_count": 51,
   "metadata": {},
   "outputs": [
    {
     "name": "stdout",
     "output_type": "stream",
     "text": [
      "<class 'list'>\n"
     ]
    }
   ],
   "source": [
    "file = \"meteor_test_2000.csv\"\n",
    "\n",
    "meteor_kv = []\n",
    "\n",
    "with open(file, mode='r') as input_file:\n",
    "    rows = []\n",
    "    for row in input_file:\n",
    "        rows.append(row.rstrip('\\n').split(\",\"))\n",
    "    keys = rows[0]\n",
    "    for values in rows[1:]:\n",
    "        meteor_kv.append(dict(zip(keys, values)))\n",
    "print(meteor_kv)\n",
    "\n",
    "# file = \"meteor_test_2000.csv\"\n",
    "# meteor_kv = []\n",
    "# with open(file, mode='r') as input_file:\n",
    "#     rows = []\n",
    "#     for row in input_file:\n",
    "#         rows.append(row.rstrip('/n').split(\",\"))\n",
    "#     keys = rows[0]\n",
    "#     for values in rows[1:]:\n",
    "#         meteor_kv.append(dict(zip(keys, values)))\n",
    "# print(meteor_kv)\n",
    "# # print(meteor_test_2000)"
   ]
  },
  {
   "cell_type": "markdown",
   "metadata": {},
   "source": [
    "# Convert to txt file\n"
   ]
  },
  {
   "cell_type": "code",
   "execution_count": 46,
   "metadata": {},
   "outputs": [],
   "source": [
    "with open('2000_meteors.txt', 'w') as f:\n",
    "    for item in my_list:\n",
    "        f.write(\"%s\\n\" % item)"
   ]
  },
  {
   "cell_type": "markdown",
   "metadata": {},
   "source": [
    "# Geolocation conversion"
   ]
  },
  {
   "cell_type": "code",
   "execution_count": 47,
   "metadata": {
    "scrolled": true
   },
   "outputs": [
    {
     "ename": "NameError",
     "evalue": "name 'api_meteor_data_arr' is not defined",
     "output_type": "error",
     "traceback": [
      "\u001b[0;31m-------------------------------------------------------------------------\u001b[0m",
      "\u001b[0;31mNameError\u001b[0m                               Traceback (most recent call last)",
      "\u001b[0;32m<ipython-input-47-0893811203ed>\u001b[0m in \u001b[0;36m<module>\u001b[0;34m\u001b[0m\n\u001b[1;32m      1\u001b[0m \u001b[0;31m# Testing Geolocation conversion\u001b[0m\u001b[0;34m\u001b[0m\u001b[0;34m\u001b[0m\u001b[0;34m\u001b[0m\u001b[0m\n\u001b[0;32m----> 2\u001b[0;31m \u001b[0mgeo_test\u001b[0m \u001b[0;34m=\u001b[0m \u001b[0mapi_meteor_data_arr\u001b[0m\u001b[0;34m[\u001b[0m\u001b[0;36m2\u001b[0m\u001b[0;34m]\u001b[0m\u001b[0;34m\u001b[0m\u001b[0;34m\u001b[0m\u001b[0m\n\u001b[0m\u001b[1;32m      3\u001b[0m \u001b[0mgeolocator\u001b[0m \u001b[0;34m=\u001b[0m \u001b[0mNominatim\u001b[0m\u001b[0;34m(\u001b[0m\u001b[0muser_agent\u001b[0m\u001b[0;34m=\u001b[0m\u001b[0;34m\"api_meteor_data_arr\"\u001b[0m\u001b[0;34m)\u001b[0m\u001b[0;34m\u001b[0m\u001b[0;34m\u001b[0m\u001b[0m\n\u001b[1;32m      4\u001b[0m \u001b[0mprint\u001b[0m\u001b[0;34m(\u001b[0m\u001b[0mgeo_test\u001b[0m\u001b[0;34m[\u001b[0m\u001b[0;36m9\u001b[0m\u001b[0;34m]\u001b[0m\u001b[0;34m)\u001b[0m\u001b[0;34m\u001b[0m\u001b[0;34m\u001b[0m\u001b[0m\n\u001b[1;32m      5\u001b[0m \u001b[0;34m\u001b[0m\u001b[0m\n",
      "\u001b[0;31mNameError\u001b[0m: name 'api_meteor_data_arr' is not defined"
     ]
    }
   ],
   "source": [
    "# Testing Geolocation conversion\n",
    "geo_test = api_meteor_data_arr[2]\n",
    "geolocator = Nominatim(user_agent=\"api_meteor_data_arr\")\n",
    "print(geo_test[9])\n",
    "\n",
    "location = geolocator.reverse(\"52.509669, 13.376294\")\n",
    "print(location)\n",
    "coor = str(geo_test[9])[1:-1]\n",
    "print(coor)\n",
    "location = geolocator.reverse(coor)\n",
    "print(location)\n",
    "print(location.address)"
   ]
  },
  {
   "cell_type": "markdown",
   "metadata": {},
   "source": [
    "# Testing graph with 2000 points "
   ]
  },
  {
   "cell_type": "code",
   "execution_count": 52,
   "metadata": {},
   "outputs": [
    {
     "name": "stdout",
     "output_type": "stream",
     "text": [
      "Maximum mass:  3000000.0\n",
      "Minimum mass:  0.0\n",
      "Mean mass:  3681.119818866031\n",
      "<class 'pandas.core.frame.DataFrame'>\n"
     ]
    },
    {
     "data": {
      "text/plain": [
       "Text(0, 0.5, 'year')"
      ]
     },
     "execution_count": 52,
     "metadata": {},
     "output_type": "execute_result"
    },
    {
     "data": {
      "image/png": "[encoded data removed]",
      "text/plain": [
       "<Figure size 432x288 with 1 Axes>"
      ]
     },
     "metadata": {
      "needs_background": "light"
     },
     "output_type": "display_data"
    }
   ],
   "source": [
    "\n",
    "print(\"Maximum mass: \", np.max(meteor_test_2000['mass']))\n",
    "print(\"Minimum mass: \", np.min(meteor_test_2000['mass']))\n",
    "print(\"Mean mass: \",np.mean(meteor_test_2000['mass']))\n",
    "print(type(meteor_test_2000))\n",
    "\n",
    "# create a figure and axis \n",
    "fig, ax = plt.subplots() \n",
    "\n",
    "# scatter the sepal_length against the sepal_width\n",
    "ax.scatter(meteor_test_2000['mass'], meteor_test_2000['year'])\n",
    "\n",
    "# set a title and labels\n",
    "ax.set_title('Meteor Dataset (mass vs year)')\n",
    "ax.set_xlabel('mass')\n",
    "ax.set_ylabel('year')"
   ]
  },
  {
   "cell_type": "markdown",
   "metadata": {},
   "source": []
  },
  {
   "cell_type": "code",
   "execution_count": null,
   "metadata": {},
   "outputs": [],
   "source": [
    "fig, ax = plt.subplots() \n",
    "\n",
    "# scatter the sepal_length against the sepal_width\n",
    "ax.scatter(metero_kv['mass'], meteor_kv['year'])\n",
    "\n",
    "# set a title and labels\n",
    "ax.set_title('Meteor Dataset (mass vs year)')\n",
    "ax.set_xlabel('mass')\n",
    "ax.set_ylabel('year')"
   ]
  }
 ],
 "metadata": {
  "kernelspec": {
   "display_name": "Python 3",
   "language": "python",
   "name": "python3"
  },
  "language_info": {
   "codemirror_mode": {
    "name": "ipython",
    "version": 3
   },
   "file_extension": ".py",
   "mimetype": "text/x-python",
   "name": "python",
   "nbconvert_exporter": "python",
   "pygments_lexer": "ipython3",
   "version": "3.7.6"
  }
 },
 "nbformat": 4,
 "nbformat_minor": 4
}
