{
 "cells": [
  {
   "cell_type": "markdown",
   "metadata": {},
   "source": [
    "# Analyzing Meteorite Dataset "
   ]
  },
  {
   "cell_type": "code",
   "execution_count": 14,
   "metadata": {},
   "outputs": [
    {
     "name": "stdout",
     "output_type": "stream",
     "text": [
      "Requirement already satisfied: geopy in ./env/lib/python3.7/site-packages (1.21.0)\n",
      "Requirement already satisfied: geographiclib<2,>=1.49 in ./env/lib/python3.7/site-packages (from geopy) (1.50)\n",
      "\u001b[33mWARNING: You are using pip version 19.2.3, however version 20.0.2 is available.\n",
      "You should consider upgrading via the 'pip install --upgrade pip' command.\u001b[0m\n"
     ]
    }
   ],
   "source": [
    "# !pip3 install geopy"
   ]
  },
  {
   "cell_type": "code",
   "execution_count": 15,
   "metadata": {},
   "outputs": [
    {
     "ename": "ModuleNotFoundError",
     "evalue": "No module named 'geopy'",
     "output_type": "error",
     "traceback": [
      "\u001b[0;31m---------------------------------------------------------------------------\u001b[0m",
      "\u001b[0;31mModuleNotFoundError\u001b[0m                       Traceback (most recent call last)",
      "\u001b[0;32m<ipython-input-15-d6aeb35eaf2b>\u001b[0m in \u001b[0;36m<module>\u001b[0;34m\u001b[0m\n\u001b[1;32m      7\u001b[0m \u001b[0;32mimport\u001b[0m \u001b[0mtimeit\u001b[0m   \u001b[0;31m# for testing code runtime\u001b[0m\u001b[0;34m\u001b[0m\u001b[0;34m\u001b[0m\u001b[0m\n\u001b[1;32m      8\u001b[0m \u001b[0;32mfrom\u001b[0m \u001b[0mstatistics\u001b[0m \u001b[0;32mimport\u001b[0m \u001b[0mmode\u001b[0m\u001b[0;34m\u001b[0m\u001b[0;34m\u001b[0m\u001b[0m\n\u001b[0;32m----> 9\u001b[0;31m \u001b[0;32mfrom\u001b[0m \u001b[0mgeopy\u001b[0m\u001b[0;34m.\u001b[0m\u001b[0mgeocoders\u001b[0m \u001b[0;32mimport\u001b[0m \u001b[0mNominatim\u001b[0m  \u001b[0;31m# for geolocation conversion\u001b[0m\u001b[0;34m\u001b[0m\u001b[0;34m\u001b[0m\u001b[0m\n\u001b[0m\u001b[1;32m     10\u001b[0m \u001b[0;32mimport\u001b[0m \u001b[0mcsv\u001b[0m\u001b[0;34m\u001b[0m\u001b[0;34m\u001b[0m\u001b[0m\n\u001b[1;32m     11\u001b[0m \u001b[0;32mimport\u001b[0m \u001b[0msys\u001b[0m\u001b[0;34m\u001b[0m\u001b[0;34m\u001b[0m\u001b[0m\n",
      "\u001b[0;31mModuleNotFoundError\u001b[0m: No module named 'geopy'"
     ]
    }
   ],
   "source": [
    "# imports\n",
    "import numpy as np\n",
    "import pandas as pd\n",
    "import matplotlib.pyplot as plt\n",
    "%matplotlib inline\n",
    "import seaborn as sns\n",
    "import timeit   # for testing code runtime\n",
    "from statistics import mode \n",
    "from geopy.geocoders import Nominatim  # for geolocation conversion\n",
    "import csv\n",
    "import sys\n",
    "sys.executable\n",
    "\n",
    "# import descartes\n",
    "# import geopandas as gpd\n",
    "# from shapely.geometry import Point, Polygon\n",
    "# from mpl_toolkits.basemap import Basemap"
   ]
  },
  {
   "cell_type": "markdown",
   "metadata": {},
   "source": [
    "# Important Variables"
   ]
  },
  {
   "cell_type": "markdown",
   "metadata": {},
   "source": [
    "* meteor \n",
    "* api_meteor_data\n",
    "* api_meteor_data_arr\n",
    "* meteor_test\n",
    "* meteor_test_2000 - Dataframe - hold 2000 points"
   ]
  },
  {
   "cell_type": "code",
   "execution_count": 9,
   "metadata": {},
   "outputs": [
    {
     "name": "stdout",
     "output_type": "stream",
     "text": [
      "             name     id nametype              recclass      mass   fall  \\\n",
      "0          Aachen      1    Valid                    L5      21.0   Fell   \n",
      "1          Aarhus      2    Valid                    H6     720.0   Fell   \n",
      "2            Abee      6    Valid                   EH4  107000.0   Fell   \n",
      "3        Acapulco     10    Valid           Acapulcoite    1914.0   Fell   \n",
      "4         Achiras    370    Valid                    L6     780.0   Fell   \n",
      "...           ...    ...      ...                   ...       ...    ...   \n",
      "45711  Zillah 002  31356    Valid               Eucrite     172.0  Found   \n",
      "45712      Zinder  30409    Valid  Pallasite, ungrouped      46.0  Found   \n",
      "45713        Zlin  30410    Valid                    H4       3.3  Found   \n",
      "45714   Zubkovsky  31357    Valid                    L6    2167.0  Found   \n",
      "45715  Zulu Queen  30414    Valid                  L3.7     200.0  Found   \n",
      "\n",
      "         year    reclat    reclong               GeoLocation  \n",
      "0      1880.0  50.77500    6.08333     (50.775000, 6.083330)  \n",
      "1      1951.0  56.18333   10.23333    (56.183330, 10.233330)  \n",
      "2      1952.0  54.21667 -113.00000  (54.216670, -113.000000)  \n",
      "3      1976.0  16.88333  -99.90000   (16.883330, -99.900000)  \n",
      "4      1902.0 -33.16667  -64.95000  (-33.166670, -64.950000)  \n",
      "...       ...       ...        ...                       ...  \n",
      "45711  1990.0  29.03700   17.01850    (29.037000, 17.018500)  \n",
      "45712  1999.0  13.78333    8.96667     (13.783330, 8.966670)  \n",
      "45713  1939.0  49.25000   17.66667    (49.250000, 17.666670)  \n",
      "45714  2003.0  49.78917   41.50460    (49.789170, 41.504600)  \n",
      "45715  1976.0  33.98333 -115.68333  (33.983330, -115.683330)  \n",
      "\n",
      "[45716 rows x 10 columns]\n",
      "\n",
      "\n",
      "\n",
      "\n",
      "<class 'pandas.core.frame.DataFrame'>\n",
      "RangeIndex: 45716 entries, 0 to 45715\n",
      "Data columns (total 10 columns):\n",
      " #   Column       Non-Null Count  Dtype  \n",
      "---  ------       --------------  -----  \n",
      " 0   name         45716 non-null  object \n",
      " 1   id           45716 non-null  int64  \n",
      " 2   nametype     45716 non-null  object \n",
      " 3   recclass     45716 non-null  object \n",
      " 4   mass         45585 non-null  float64\n",
      " 5   fall         45716 non-null  object \n",
      " 6   year         45428 non-null  float64\n",
      " 7   reclat       38401 non-null  float64\n",
      " 8   reclong      38401 non-null  float64\n",
      " 9   GeoLocation  38401 non-null  object \n",
      "dtypes: float64(4), int64(1), object(5)\n",
      "memory usage: 3.5+ MB\n",
      "\n",
      "\n",
      "\n",
      "\n",
      "['name', 'id', 'nametype', 'recclass', 'mass', 'fall', 'year', 'reclat', 'reclong', 'GeoLocation']\n",
      "\n",
      "\n",
      "\n",
      "\n",
      "2501.0\n",
      "301.0\n",
      "2003.0\n"
     ]
    }
   ],
   "source": [
    "meteor = pd.read_csv('meteorite-landings.csv')\n",
    "meteor = pd.DataFrame(meteor)\n",
    "\n",
    "\n",
    "print(meteor)\n",
    "print(\"\\n\\n\\n\")\n",
    "\n",
    "# print(meteor.describe())\n",
    "meteor.info()\n",
    "print(\"\\n\\n\\n\")\n",
    "\n",
    "#list all column names\n",
    "print(list(meteor.columns))\n",
    "\n",
    "print(\"\\n\\n\\n\")\n",
    "# print(meteor['fall'])\n",
    "\n",
    "print(np.max(meteor['year']))\n",
    "print(np.min(meteor['year']))\n",
    "print(mode(meteor['year']))"
   ]
  },
  {
   "cell_type": "markdown",
   "metadata": {},
   "source": [
    "# visualizing mass"
   ]
  },
  {
   "cell_type": "markdown",
   "metadata": {},
   "source": [
    "#### print(\"Maximum mass: \", np.max(meteor['mass']))\n",
    "print(\"Minimum mass: \", np.min(meteor['mass']))\n",
    "print(\"Mean mass: \",np.mean(meteor['mass']))\n",
    "\n",
    "\n",
    "# create a figure and axis \n",
    "fig, ax = plt.subplots() \n",
    "\n",
    "\n",
    "# scatter the sepal_length against the sepal_width\n",
    "ax.scatter(meteor['mass'], meteor['year'])\n",
    "# set a title and labels\n",
    "ax.set_title('Meteor Dataset (mass vs year)')\n",
    "ax.set_xlabel('mass')\n",
    "ax.set_ylabel('year')"
   ]
  },
  {
   "cell_type": "code",
   "execution_count": 25,
   "metadata": {},
   "outputs": [
    {
     "data": {
      "text/plain": [
       "Text(0.5, 0, 'Year')"
      ]
     },
     "execution_count": 25,
     "metadata": {},
     "output_type": "execute_result"
    },
    {
     "data": {
      "image/png": "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\n",
      "text/plain": [
       "<Figure size 1440x720 with 1 Axes>"
      ]
     },
     "metadata": {
      "needs_background": "light"
     },
     "output_type": "display_data"
    }
   ],
   "source": [
    "# Daily sales volume for august 2018\n",
    "mass = meteor[\"year\"].value_counts()\n",
    "mass.plot()\n",
    "plt.title('Mass vs Year')\n",
    "plt.ylabel('Mass')\n",
    "plt.xlabel('Year')\n"
   ]
  },
  {
   "cell_type": "code",
   "execution_count": 37,
   "metadata": {},
   "outputs": [
    {
     "ename": "KeyboardInterrupt",
     "evalue": "",
     "output_type": "error",
     "traceback": [
      "\u001b[0;31m---------------------------------------------------------------------------\u001b[0m",
      "\u001b[0;31mKeyboardInterrupt\u001b[0m                         Traceback (most recent call last)",
      "\u001b[0;32m<ipython-input-37-ae7e4b788053>\u001b[0m in \u001b[0;36m<module>\u001b[0;34m\u001b[0m\n\u001b[1;32m      1\u001b[0m \u001b[0;31m# Daily sales volume by property type\u001b[0m\u001b[0;34m\u001b[0m\u001b[0;34m\u001b[0m\u001b[0;34m\u001b[0m\u001b[0m\n\u001b[0;32m----> 2\u001b[0;31m \u001b[0mmeteor\u001b[0m\u001b[0;34m.\u001b[0m\u001b[0mgroupby\u001b[0m\u001b[0;34m(\u001b[0m\u001b[0;34m[\u001b[0m\u001b[0;34m'year'\u001b[0m\u001b[0;34m,\u001b[0m\u001b[0;34m'mass'\u001b[0m\u001b[0;34m]\u001b[0m\u001b[0;34m)\u001b[0m\u001b[0;34m.\u001b[0m\u001b[0msize\u001b[0m\u001b[0;34m(\u001b[0m\u001b[0;34m)\u001b[0m\u001b[0;34m.\u001b[0m\u001b[0munstack\u001b[0m\u001b[0;34m(\u001b[0m\u001b[0;34m)\u001b[0m\u001b[0;34m.\u001b[0m\u001b[0mplot\u001b[0m\u001b[0;34m(\u001b[0m\u001b[0mkind\u001b[0m\u001b[0;34m=\u001b[0m\u001b[0;34m'bar'\u001b[0m\u001b[0;34m,\u001b[0m \u001b[0mstacked\u001b[0m\u001b[0;34m=\u001b[0m\u001b[0;32mTrue\u001b[0m\u001b[0;34m)\u001b[0m\u001b[0;34m\u001b[0m\u001b[0;34m\u001b[0m\u001b[0m\n\u001b[0m\u001b[1;32m      3\u001b[0m \u001b[0mplt\u001b[0m\u001b[0;34m.\u001b[0m\u001b[0mtitle\u001b[0m\u001b[0;34m(\u001b[0m\u001b[0;34m'...'\u001b[0m\u001b[0;34m)\u001b[0m\u001b[0;34m\u001b[0m\u001b[0;34m\u001b[0m\u001b[0m\n\u001b[1;32m      4\u001b[0m \u001b[0mplt\u001b[0m\u001b[0;34m.\u001b[0m\u001b[0mylabel\u001b[0m\u001b[0;34m(\u001b[0m\u001b[0;34m'Mass'\u001b[0m\u001b[0;34m)\u001b[0m\u001b[0;34m\u001b[0m\u001b[0;34m\u001b[0m\u001b[0m\n\u001b[1;32m      5\u001b[0m \u001b[0mplt\u001b[0m\u001b[0;34m.\u001b[0m\u001b[0mxlabel\u001b[0m\u001b[0;34m(\u001b[0m\u001b[0;34m'Date'\u001b[0m\u001b[0;34m)\u001b[0m\u001b[0;34m\u001b[0m\u001b[0;34m\u001b[0m\u001b[0m\n",
      "\u001b[0;32m~/Library/Python/3.7/lib/python/site-packages/pandas/plotting/_core.py\u001b[0m in \u001b[0;36m__call__\u001b[0;34m(self, *args, **kwargs)\u001b[0m\n\u001b[1;32m    845\u001b[0m                     \u001b[0mdata\u001b[0m\u001b[0;34m.\u001b[0m\u001b[0mcolumns\u001b[0m \u001b[0;34m=\u001b[0m \u001b[0mlabel_name\u001b[0m\u001b[0;34m\u001b[0m\u001b[0;34m\u001b[0m\u001b[0m\n\u001b[1;32m    846\u001b[0m \u001b[0;34m\u001b[0m\u001b[0m\n\u001b[0;32m--> 847\u001b[0;31m         \u001b[0;32mreturn\u001b[0m \u001b[0mplot_backend\u001b[0m\u001b[0;34m.\u001b[0m\u001b[0mplot\u001b[0m\u001b[0;34m(\u001b[0m\u001b[0mdata\u001b[0m\u001b[0;34m,\u001b[0m \u001b[0mkind\u001b[0m\u001b[0;34m=\u001b[0m\u001b[0mkind\u001b[0m\u001b[0;34m,\u001b[0m \u001b[0;34m**\u001b[0m\u001b[0mkwargs\u001b[0m\u001b[0;34m)\u001b[0m\u001b[0;34m\u001b[0m\u001b[0;34m\u001b[0m\u001b[0m\n\u001b[0m\u001b[1;32m    848\u001b[0m \u001b[0;34m\u001b[0m\u001b[0m\n\u001b[1;32m    849\u001b[0m     \u001b[0m__call__\u001b[0m\u001b[0;34m.\u001b[0m\u001b[0m__doc__\u001b[0m \u001b[0;34m=\u001b[0m \u001b[0m__doc__\u001b[0m\u001b[0;34m\u001b[0m\u001b[0;34m\u001b[0m\u001b[0m\n",
      "\u001b[0;32m~/Library/Python/3.7/lib/python/site-packages/pandas/plotting/_matplotlib/__init__.py\u001b[0m in \u001b[0;36mplot\u001b[0;34m(data, kind, **kwargs)\u001b[0m\n\u001b[1;32m     59\u001b[0m             \u001b[0mkwargs\u001b[0m\u001b[0;34m[\u001b[0m\u001b[0;34m\"ax\"\u001b[0m\u001b[0;34m]\u001b[0m \u001b[0;34m=\u001b[0m \u001b[0mgetattr\u001b[0m\u001b[0;34m(\u001b[0m\u001b[0max\u001b[0m\u001b[0;34m,\u001b[0m \u001b[0;34m\"left_ax\"\u001b[0m\u001b[0;34m,\u001b[0m \u001b[0max\u001b[0m\u001b[0;34m)\u001b[0m\u001b[0;34m\u001b[0m\u001b[0;34m\u001b[0m\u001b[0m\n\u001b[1;32m     60\u001b[0m     \u001b[0mplot_obj\u001b[0m \u001b[0;34m=\u001b[0m \u001b[0mPLOT_CLASSES\u001b[0m\u001b[0;34m[\u001b[0m\u001b[0mkind\u001b[0m\u001b[0;34m]\u001b[0m\u001b[0;34m(\u001b[0m\u001b[0mdata\u001b[0m\u001b[0;34m,\u001b[0m \u001b[0;34m**\u001b[0m\u001b[0mkwargs\u001b[0m\u001b[0;34m)\u001b[0m\u001b[0;34m\u001b[0m\u001b[0;34m\u001b[0m\u001b[0m\n\u001b[0;32m---> 61\u001b[0;31m     \u001b[0mplot_obj\u001b[0m\u001b[0;34m.\u001b[0m\u001b[0mgenerate\u001b[0m\u001b[0;34m(\u001b[0m\u001b[0;34m)\u001b[0m\u001b[0;34m\u001b[0m\u001b[0;34m\u001b[0m\u001b[0m\n\u001b[0m\u001b[1;32m     62\u001b[0m     \u001b[0mplot_obj\u001b[0m\u001b[0;34m.\u001b[0m\u001b[0mdraw\u001b[0m\u001b[0;34m(\u001b[0m\u001b[0;34m)\u001b[0m\u001b[0;34m\u001b[0m\u001b[0;34m\u001b[0m\u001b[0m\n\u001b[1;32m     63\u001b[0m     \u001b[0;32mreturn\u001b[0m \u001b[0mplot_obj\u001b[0m\u001b[0;34m.\u001b[0m\u001b[0mresult\u001b[0m\u001b[0;34m\u001b[0m\u001b[0;34m\u001b[0m\u001b[0m\n",
      "\u001b[0;32m~/Library/Python/3.7/lib/python/site-packages/pandas/plotting/_matplotlib/core.py\u001b[0m in \u001b[0;36mgenerate\u001b[0;34m(self)\u001b[0m\n\u001b[1;32m    261\u001b[0m         \u001b[0mself\u001b[0m\u001b[0;34m.\u001b[0m\u001b[0m_compute_plot_data\u001b[0m\u001b[0;34m(\u001b[0m\u001b[0;34m)\u001b[0m\u001b[0;34m\u001b[0m\u001b[0;34m\u001b[0m\u001b[0m\n\u001b[1;32m    262\u001b[0m         \u001b[0mself\u001b[0m\u001b[0;34m.\u001b[0m\u001b[0m_setup_subplots\u001b[0m\u001b[0;34m(\u001b[0m\u001b[0;34m)\u001b[0m\u001b[0;34m\u001b[0m\u001b[0;34m\u001b[0m\u001b[0m\n\u001b[0;32m--> 263\u001b[0;31m         \u001b[0mself\u001b[0m\u001b[0;34m.\u001b[0m\u001b[0m_make_plot\u001b[0m\u001b[0;34m(\u001b[0m\u001b[0;34m)\u001b[0m\u001b[0;34m\u001b[0m\u001b[0;34m\u001b[0m\u001b[0m\n\u001b[0m\u001b[1;32m    264\u001b[0m         \u001b[0mself\u001b[0m\u001b[0;34m.\u001b[0m\u001b[0m_add_table\u001b[0m\u001b[0;34m(\u001b[0m\u001b[0;34m)\u001b[0m\u001b[0;34m\u001b[0m\u001b[0;34m\u001b[0m\u001b[0m\n\u001b[1;32m    265\u001b[0m         \u001b[0mself\u001b[0m\u001b[0;34m.\u001b[0m\u001b[0m_make_legend\u001b[0m\u001b[0;34m(\u001b[0m\u001b[0;34m)\u001b[0m\u001b[0;34m\u001b[0m\u001b[0;34m\u001b[0m\u001b[0m\n",
      "\u001b[0;32m~/Library/Python/3.7/lib/python/site-packages/pandas/plotting/_matplotlib/core.py\u001b[0m in \u001b[0;36m_make_plot\u001b[0;34m(self)\u001b[0m\n\u001b[1;32m   1389\u001b[0m                     \u001b[0mlabel\u001b[0m\u001b[0;34m=\u001b[0m\u001b[0mlabel\u001b[0m\u001b[0;34m,\u001b[0m\u001b[0;34m\u001b[0m\u001b[0;34m\u001b[0m\u001b[0m\n\u001b[1;32m   1390\u001b[0m                     \u001b[0mlog\u001b[0m\u001b[0;34m=\u001b[0m\u001b[0mself\u001b[0m\u001b[0;34m.\u001b[0m\u001b[0mlog\u001b[0m\u001b[0;34m,\u001b[0m\u001b[0;34m\u001b[0m\u001b[0;34m\u001b[0m\u001b[0m\n\u001b[0;32m-> 1391\u001b[0;31m                     \u001b[0;34m**\u001b[0m\u001b[0mkwds\u001b[0m\u001b[0;34m,\u001b[0m\u001b[0;34m\u001b[0m\u001b[0;34m\u001b[0m\u001b[0m\n\u001b[0m\u001b[1;32m   1392\u001b[0m                 )\n\u001b[1;32m   1393\u001b[0m                 \u001b[0mpos_prior\u001b[0m \u001b[0;34m=\u001b[0m \u001b[0mpos_prior\u001b[0m \u001b[0;34m+\u001b[0m \u001b[0mnp\u001b[0m\u001b[0;34m.\u001b[0m\u001b[0mwhere\u001b[0m\u001b[0;34m(\u001b[0m\u001b[0mmask\u001b[0m\u001b[0;34m,\u001b[0m \u001b[0my\u001b[0m\u001b[0;34m,\u001b[0m \u001b[0;36m0\u001b[0m\u001b[0;34m)\u001b[0m\u001b[0;34m\u001b[0m\u001b[0;34m\u001b[0m\u001b[0m\n",
      "\u001b[0;32m~/Library/Python/3.7/lib/python/site-packages/pandas/plotting/_matplotlib/core.py\u001b[0m in \u001b[0;36m_plot\u001b[0;34m(cls, ax, x, y, w, start, log, **kwds)\u001b[0m\n\u001b[1;32m   1328\u001b[0m     \u001b[0;34m@\u001b[0m\u001b[0mclassmethod\u001b[0m\u001b[0;34m\u001b[0m\u001b[0;34m\u001b[0m\u001b[0m\n\u001b[1;32m   1329\u001b[0m     \u001b[0;32mdef\u001b[0m \u001b[0m_plot\u001b[0m\u001b[0;34m(\u001b[0m\u001b[0mcls\u001b[0m\u001b[0;34m,\u001b[0m \u001b[0max\u001b[0m\u001b[0;34m,\u001b[0m \u001b[0mx\u001b[0m\u001b[0;34m,\u001b[0m \u001b[0my\u001b[0m\u001b[0;34m,\u001b[0m \u001b[0mw\u001b[0m\u001b[0;34m,\u001b[0m \u001b[0mstart\u001b[0m\u001b[0;34m=\u001b[0m\u001b[0;36m0\u001b[0m\u001b[0;34m,\u001b[0m \u001b[0mlog\u001b[0m\u001b[0;34m=\u001b[0m\u001b[0;32mFalse\u001b[0m\u001b[0;34m,\u001b[0m \u001b[0;34m**\u001b[0m\u001b[0mkwds\u001b[0m\u001b[0;34m)\u001b[0m\u001b[0;34m:\u001b[0m\u001b[0;34m\u001b[0m\u001b[0;34m\u001b[0m\u001b[0m\n\u001b[0;32m-> 1330\u001b[0;31m         \u001b[0;32mreturn\u001b[0m \u001b[0max\u001b[0m\u001b[0;34m.\u001b[0m\u001b[0mbar\u001b[0m\u001b[0;34m(\u001b[0m\u001b[0mx\u001b[0m\u001b[0;34m,\u001b[0m \u001b[0my\u001b[0m\u001b[0;34m,\u001b[0m \u001b[0mw\u001b[0m\u001b[0;34m,\u001b[0m \u001b[0mbottom\u001b[0m\u001b[0;34m=\u001b[0m\u001b[0mstart\u001b[0m\u001b[0;34m,\u001b[0m \u001b[0mlog\u001b[0m\u001b[0;34m=\u001b[0m\u001b[0mlog\u001b[0m\u001b[0;34m,\u001b[0m \u001b[0;34m**\u001b[0m\u001b[0mkwds\u001b[0m\u001b[0;34m)\u001b[0m\u001b[0;34m\u001b[0m\u001b[0;34m\u001b[0m\u001b[0m\n\u001b[0m\u001b[1;32m   1331\u001b[0m \u001b[0;34m\u001b[0m\u001b[0m\n\u001b[1;32m   1332\u001b[0m     \u001b[0;34m@\u001b[0m\u001b[0mproperty\u001b[0m\u001b[0;34m\u001b[0m\u001b[0;34m\u001b[0m\u001b[0m\n",
      "\u001b[0;32m~/Library/Python/3.7/lib/python/site-packages/matplotlib/__init__.py\u001b[0m in \u001b[0;36minner\u001b[0;34m(ax, data, *args, **kwargs)\u001b[0m\n\u001b[1;32m   1597\u001b[0m     \u001b[0;32mdef\u001b[0m \u001b[0minner\u001b[0m\u001b[0;34m(\u001b[0m\u001b[0max\u001b[0m\u001b[0;34m,\u001b[0m \u001b[0;34m*\u001b[0m\u001b[0margs\u001b[0m\u001b[0;34m,\u001b[0m \u001b[0mdata\u001b[0m\u001b[0;34m=\u001b[0m\u001b[0;32mNone\u001b[0m\u001b[0;34m,\u001b[0m \u001b[0;34m**\u001b[0m\u001b[0mkwargs\u001b[0m\u001b[0;34m)\u001b[0m\u001b[0;34m:\u001b[0m\u001b[0;34m\u001b[0m\u001b[0;34m\u001b[0m\u001b[0m\n\u001b[1;32m   1598\u001b[0m         \u001b[0;32mif\u001b[0m \u001b[0mdata\u001b[0m \u001b[0;32mis\u001b[0m \u001b[0;32mNone\u001b[0m\u001b[0;34m:\u001b[0m\u001b[0;34m\u001b[0m\u001b[0;34m\u001b[0m\u001b[0m\n\u001b[0;32m-> 1599\u001b[0;31m             \u001b[0;32mreturn\u001b[0m \u001b[0mfunc\u001b[0m\u001b[0;34m(\u001b[0m\u001b[0max\u001b[0m\u001b[0;34m,\u001b[0m \u001b[0;34m*\u001b[0m\u001b[0mmap\u001b[0m\u001b[0;34m(\u001b[0m\u001b[0msanitize_sequence\u001b[0m\u001b[0;34m,\u001b[0m \u001b[0margs\u001b[0m\u001b[0;34m)\u001b[0m\u001b[0;34m,\u001b[0m \u001b[0;34m**\u001b[0m\u001b[0mkwargs\u001b[0m\u001b[0;34m)\u001b[0m\u001b[0;34m\u001b[0m\u001b[0;34m\u001b[0m\u001b[0m\n\u001b[0m\u001b[1;32m   1600\u001b[0m \u001b[0;34m\u001b[0m\u001b[0m\n\u001b[1;32m   1601\u001b[0m         \u001b[0mbound\u001b[0m \u001b[0;34m=\u001b[0m \u001b[0mnew_sig\u001b[0m\u001b[0;34m.\u001b[0m\u001b[0mbind\u001b[0m\u001b[0;34m(\u001b[0m\u001b[0max\u001b[0m\u001b[0;34m,\u001b[0m \u001b[0;34m*\u001b[0m\u001b[0margs\u001b[0m\u001b[0;34m,\u001b[0m \u001b[0;34m**\u001b[0m\u001b[0mkwargs\u001b[0m\u001b[0;34m)\u001b[0m\u001b[0;34m\u001b[0m\u001b[0;34m\u001b[0m\u001b[0m\n",
      "\u001b[0;32m~/Library/Python/3.7/lib/python/site-packages/matplotlib/axes/_axes.py\u001b[0m in \u001b[0;36mbar\u001b[0;34m(self, x, height, width, bottom, align, **kwargs)\u001b[0m\n\u001b[1;32m   2472\u001b[0m             \u001b[0mymin\u001b[0m \u001b[0;34m=\u001b[0m \u001b[0mmax\u001b[0m\u001b[0;34m(\u001b[0m\u001b[0mymin\u001b[0m \u001b[0;34m*\u001b[0m \u001b[0;36m0.9\u001b[0m\u001b[0;34m,\u001b[0m \u001b[0;36m1e-100\u001b[0m\u001b[0;34m)\u001b[0m\u001b[0;34m\u001b[0m\u001b[0;34m\u001b[0m\u001b[0m\n\u001b[1;32m   2473\u001b[0m             \u001b[0mself\u001b[0m\u001b[0;34m.\u001b[0m\u001b[0mdataLim\u001b[0m\u001b[0;34m.\u001b[0m\u001b[0mintervaly\u001b[0m \u001b[0;34m=\u001b[0m \u001b[0;34m(\u001b[0m\u001b[0mymin\u001b[0m\u001b[0;34m,\u001b[0m \u001b[0mymax\u001b[0m\u001b[0;34m)\u001b[0m\u001b[0;34m\u001b[0m\u001b[0;34m\u001b[0m\u001b[0m\n\u001b[0;32m-> 2474\u001b[0;31m         \u001b[0mself\u001b[0m\u001b[0;34m.\u001b[0m\u001b[0mautoscale_view\u001b[0m\u001b[0;34m(\u001b[0m\u001b[0;34m)\u001b[0m\u001b[0;34m\u001b[0m\u001b[0;34m\u001b[0m\u001b[0m\n\u001b[0m\u001b[1;32m   2475\u001b[0m \u001b[0;34m\u001b[0m\u001b[0m\n\u001b[1;32m   2476\u001b[0m         \u001b[0mbar_container\u001b[0m \u001b[0;34m=\u001b[0m \u001b[0mBarContainer\u001b[0m\u001b[0;34m(\u001b[0m\u001b[0mpatches\u001b[0m\u001b[0;34m,\u001b[0m \u001b[0merrorbar\u001b[0m\u001b[0;34m,\u001b[0m \u001b[0mlabel\u001b[0m\u001b[0;34m=\u001b[0m\u001b[0mlabel\u001b[0m\u001b[0;34m)\u001b[0m\u001b[0;34m\u001b[0m\u001b[0;34m\u001b[0m\u001b[0m\n",
      "\u001b[0;32m~/Library/Python/3.7/lib/python/site-packages/matplotlib/axes/_base.py\u001b[0m in \u001b[0;36mautoscale_view\u001b[0;34m(self, tight, scalex, scaley)\u001b[0m\n\u001b[1;32m   2415\u001b[0m             \u001b[0mstickies\u001b[0m \u001b[0;34m=\u001b[0m \u001b[0;34m[\u001b[0m\u001b[0martist\u001b[0m\u001b[0;34m.\u001b[0m\u001b[0msticky_edges\u001b[0m \u001b[0;32mfor\u001b[0m \u001b[0martist\u001b[0m \u001b[0;32min\u001b[0m \u001b[0mself\u001b[0m\u001b[0;34m.\u001b[0m\u001b[0mget_children\u001b[0m\u001b[0;34m(\u001b[0m\u001b[0;34m)\u001b[0m\u001b[0;34m]\u001b[0m\u001b[0;34m\u001b[0m\u001b[0;34m\u001b[0m\u001b[0m\n\u001b[1;32m   2416\u001b[0m             \u001b[0mx_stickies\u001b[0m \u001b[0;34m=\u001b[0m \u001b[0mnp\u001b[0m\u001b[0;34m.\u001b[0m\u001b[0marray\u001b[0m\u001b[0;34m(\u001b[0m\u001b[0;34m[\u001b[0m\u001b[0mx\u001b[0m \u001b[0;32mfor\u001b[0m \u001b[0msticky\u001b[0m \u001b[0;32min\u001b[0m \u001b[0mstickies\u001b[0m \u001b[0;32mfor\u001b[0m \u001b[0mx\u001b[0m \u001b[0;32min\u001b[0m \u001b[0msticky\u001b[0m\u001b[0;34m.\u001b[0m\u001b[0mx\u001b[0m\u001b[0;34m]\u001b[0m\u001b[0;34m)\u001b[0m\u001b[0;34m\u001b[0m\u001b[0;34m\u001b[0m\u001b[0m\n\u001b[0;32m-> 2417\u001b[0;31m             \u001b[0my_stickies\u001b[0m \u001b[0;34m=\u001b[0m \u001b[0mnp\u001b[0m\u001b[0;34m.\u001b[0m\u001b[0marray\u001b[0m\u001b[0;34m(\u001b[0m\u001b[0;34m[\u001b[0m\u001b[0my\u001b[0m \u001b[0;32mfor\u001b[0m \u001b[0msticky\u001b[0m \u001b[0;32min\u001b[0m \u001b[0mstickies\u001b[0m \u001b[0;32mfor\u001b[0m \u001b[0my\u001b[0m \u001b[0;32min\u001b[0m \u001b[0msticky\u001b[0m\u001b[0;34m.\u001b[0m\u001b[0my\u001b[0m\u001b[0;34m]\u001b[0m\u001b[0;34m)\u001b[0m\u001b[0;34m\u001b[0m\u001b[0;34m\u001b[0m\u001b[0m\n\u001b[0m\u001b[1;32m   2418\u001b[0m             \u001b[0;32mif\u001b[0m \u001b[0mself\u001b[0m\u001b[0;34m.\u001b[0m\u001b[0mget_xscale\u001b[0m\u001b[0;34m(\u001b[0m\u001b[0;34m)\u001b[0m\u001b[0;34m.\u001b[0m\u001b[0mlower\u001b[0m\u001b[0;34m(\u001b[0m\u001b[0;34m)\u001b[0m \u001b[0;34m==\u001b[0m \u001b[0;34m'log'\u001b[0m\u001b[0;34m:\u001b[0m\u001b[0;34m\u001b[0m\u001b[0;34m\u001b[0m\u001b[0m\n\u001b[1;32m   2419\u001b[0m                 \u001b[0mx_stickies\u001b[0m \u001b[0;34m=\u001b[0m \u001b[0mx_stickies\u001b[0m\u001b[0;34m[\u001b[0m\u001b[0mx_stickies\u001b[0m \u001b[0;34m>\u001b[0m \u001b[0;36m0\u001b[0m\u001b[0;34m]\u001b[0m\u001b[0;34m\u001b[0m\u001b[0;34m\u001b[0m\u001b[0m\n",
      "\u001b[0;31mKeyboardInterrupt\u001b[0m: "
     ]
    },
    {
     "name": "stdout",
     "output_type": "stream",
     "text": [
      "Error in callback <function flush_figures at 0x10fc9d320> (for post_execute):\n"
     ]
    },
    {
     "ename": "KeyboardInterrupt",
     "evalue": "",
     "output_type": "error",
     "traceback": [
      "\u001b[0;31m---------------------------------------------------------------------------\u001b[0m",
      "\u001b[0;31mKeyboardInterrupt\u001b[0m                         Traceback (most recent call last)",
      "\u001b[0;32m~/Library/Python/3.7/lib/python/site-packages/ipykernel/pylab/backend_inline.py\u001b[0m in \u001b[0;36mflush_figures\u001b[0;34m()\u001b[0m\n\u001b[1;32m    119\u001b[0m         \u001b[0;31m# ignore the tracking, just draw and close all figures\u001b[0m\u001b[0;34m\u001b[0m\u001b[0;34m\u001b[0m\u001b[0;34m\u001b[0m\u001b[0m\n\u001b[1;32m    120\u001b[0m         \u001b[0;32mtry\u001b[0m\u001b[0;34m:\u001b[0m\u001b[0;34m\u001b[0m\u001b[0;34m\u001b[0m\u001b[0m\n\u001b[0;32m--> 121\u001b[0;31m             \u001b[0;32mreturn\u001b[0m \u001b[0mshow\u001b[0m\u001b[0;34m(\u001b[0m\u001b[0;32mTrue\u001b[0m\u001b[0;34m)\u001b[0m\u001b[0;34m\u001b[0m\u001b[0;34m\u001b[0m\u001b[0m\n\u001b[0m\u001b[1;32m    122\u001b[0m         \u001b[0;32mexcept\u001b[0m \u001b[0mException\u001b[0m \u001b[0;32mas\u001b[0m \u001b[0me\u001b[0m\u001b[0;34m:\u001b[0m\u001b[0;34m\u001b[0m\u001b[0;34m\u001b[0m\u001b[0m\n\u001b[1;32m    123\u001b[0m             \u001b[0;31m# safely show traceback if in IPython, else raise\u001b[0m\u001b[0;34m\u001b[0m\u001b[0;34m\u001b[0m\u001b[0;34m\u001b[0m\u001b[0m\n",
      "\u001b[0;32m~/Library/Python/3.7/lib/python/site-packages/ipykernel/pylab/backend_inline.py\u001b[0m in \u001b[0;36mshow\u001b[0;34m(close, block)\u001b[0m\n\u001b[1;32m     41\u001b[0m             display(\n\u001b[1;32m     42\u001b[0m                 \u001b[0mfigure_manager\u001b[0m\u001b[0;34m.\u001b[0m\u001b[0mcanvas\u001b[0m\u001b[0;34m.\u001b[0m\u001b[0mfigure\u001b[0m\u001b[0;34m,\u001b[0m\u001b[0;34m\u001b[0m\u001b[0;34m\u001b[0m\u001b[0m\n\u001b[0;32m---> 43\u001b[0;31m                 \u001b[0mmetadata\u001b[0m\u001b[0;34m=\u001b[0m\u001b[0m_fetch_figure_metadata\u001b[0m\u001b[0;34m(\u001b[0m\u001b[0mfigure_manager\u001b[0m\u001b[0;34m.\u001b[0m\u001b[0mcanvas\u001b[0m\u001b[0;34m.\u001b[0m\u001b[0mfigure\u001b[0m\u001b[0;34m)\u001b[0m\u001b[0;34m\u001b[0m\u001b[0;34m\u001b[0m\u001b[0m\n\u001b[0m\u001b[1;32m     44\u001b[0m             )\n\u001b[1;32m     45\u001b[0m     \u001b[0;32mfinally\u001b[0m\u001b[0;34m:\u001b[0m\u001b[0;34m\u001b[0m\u001b[0;34m\u001b[0m\u001b[0m\n",
      "\u001b[0;32m~/Library/Python/3.7/lib/python/site-packages/IPython/core/display.py\u001b[0m in \u001b[0;36mdisplay\u001b[0;34m(include, exclude, metadata, transient, display_id, *objs, **kwargs)\u001b[0m\n\u001b[1;32m    311\u001b[0m             \u001b[0mpublish_display_data\u001b[0m\u001b[0;34m(\u001b[0m\u001b[0mdata\u001b[0m\u001b[0;34m=\u001b[0m\u001b[0mobj\u001b[0m\u001b[0;34m,\u001b[0m \u001b[0mmetadata\u001b[0m\u001b[0;34m=\u001b[0m\u001b[0mmetadata\u001b[0m\u001b[0;34m,\u001b[0m \u001b[0;34m**\u001b[0m\u001b[0mkwargs\u001b[0m\u001b[0;34m)\u001b[0m\u001b[0;34m\u001b[0m\u001b[0;34m\u001b[0m\u001b[0m\n\u001b[1;32m    312\u001b[0m         \u001b[0;32melse\u001b[0m\u001b[0;34m:\u001b[0m\u001b[0;34m\u001b[0m\u001b[0;34m\u001b[0m\u001b[0m\n\u001b[0;32m--> 313\u001b[0;31m             \u001b[0mformat_dict\u001b[0m\u001b[0;34m,\u001b[0m \u001b[0mmd_dict\u001b[0m \u001b[0;34m=\u001b[0m \u001b[0mformat\u001b[0m\u001b[0;34m(\u001b[0m\u001b[0mobj\u001b[0m\u001b[0;34m,\u001b[0m \u001b[0minclude\u001b[0m\u001b[0;34m=\u001b[0m\u001b[0minclude\u001b[0m\u001b[0;34m,\u001b[0m \u001b[0mexclude\u001b[0m\u001b[0;34m=\u001b[0m\u001b[0mexclude\u001b[0m\u001b[0;34m)\u001b[0m\u001b[0;34m\u001b[0m\u001b[0;34m\u001b[0m\u001b[0m\n\u001b[0m\u001b[1;32m    314\u001b[0m             \u001b[0;32mif\u001b[0m \u001b[0;32mnot\u001b[0m \u001b[0mformat_dict\u001b[0m\u001b[0;34m:\u001b[0m\u001b[0;34m\u001b[0m\u001b[0;34m\u001b[0m\u001b[0m\n\u001b[1;32m    315\u001b[0m                 \u001b[0;31m# nothing to display (e.g. _ipython_display_ took over)\u001b[0m\u001b[0;34m\u001b[0m\u001b[0;34m\u001b[0m\u001b[0;34m\u001b[0m\u001b[0m\n",
      "\u001b[0;32m~/Library/Python/3.7/lib/python/site-packages/IPython/core/formatters.py\u001b[0m in \u001b[0;36mformat\u001b[0;34m(self, obj, include, exclude)\u001b[0m\n\u001b[1;32m    178\u001b[0m             \u001b[0mmd\u001b[0m \u001b[0;34m=\u001b[0m \u001b[0;32mNone\u001b[0m\u001b[0;34m\u001b[0m\u001b[0;34m\u001b[0m\u001b[0m\n\u001b[1;32m    179\u001b[0m             \u001b[0;32mtry\u001b[0m\u001b[0;34m:\u001b[0m\u001b[0;34m\u001b[0m\u001b[0;34m\u001b[0m\u001b[0m\n\u001b[0;32m--> 180\u001b[0;31m                 \u001b[0mdata\u001b[0m \u001b[0;34m=\u001b[0m \u001b[0mformatter\u001b[0m\u001b[0;34m(\u001b[0m\u001b[0mobj\u001b[0m\u001b[0;34m)\u001b[0m\u001b[0;34m\u001b[0m\u001b[0;34m\u001b[0m\u001b[0m\n\u001b[0m\u001b[1;32m    181\u001b[0m             \u001b[0;32mexcept\u001b[0m\u001b[0;34m:\u001b[0m\u001b[0;34m\u001b[0m\u001b[0;34m\u001b[0m\u001b[0m\n\u001b[1;32m    182\u001b[0m                 \u001b[0;31m# FIXME: log the exception\u001b[0m\u001b[0;34m\u001b[0m\u001b[0;34m\u001b[0m\u001b[0;34m\u001b[0m\u001b[0m\n",
      "\u001b[0;32m<decorator-gen-9>\u001b[0m in \u001b[0;36m__call__\u001b[0;34m(self, obj)\u001b[0m\n",
      "\u001b[0;32m~/Library/Python/3.7/lib/python/site-packages/IPython/core/formatters.py\u001b[0m in \u001b[0;36mcatch_format_error\u001b[0;34m(method, self, *args, **kwargs)\u001b[0m\n\u001b[1;32m    222\u001b[0m     \u001b[0;34m\"\"\"show traceback on failed format call\"\"\"\u001b[0m\u001b[0;34m\u001b[0m\u001b[0;34m\u001b[0m\u001b[0m\n\u001b[1;32m    223\u001b[0m     \u001b[0;32mtry\u001b[0m\u001b[0;34m:\u001b[0m\u001b[0;34m\u001b[0m\u001b[0;34m\u001b[0m\u001b[0m\n\u001b[0;32m--> 224\u001b[0;31m         \u001b[0mr\u001b[0m \u001b[0;34m=\u001b[0m \u001b[0mmethod\u001b[0m\u001b[0;34m(\u001b[0m\u001b[0mself\u001b[0m\u001b[0;34m,\u001b[0m \u001b[0;34m*\u001b[0m\u001b[0margs\u001b[0m\u001b[0;34m,\u001b[0m \u001b[0;34m**\u001b[0m\u001b[0mkwargs\u001b[0m\u001b[0;34m)\u001b[0m\u001b[0;34m\u001b[0m\u001b[0;34m\u001b[0m\u001b[0m\n\u001b[0m\u001b[1;32m    225\u001b[0m     \u001b[0;32mexcept\u001b[0m \u001b[0mNotImplementedError\u001b[0m\u001b[0;34m:\u001b[0m\u001b[0;34m\u001b[0m\u001b[0;34m\u001b[0m\u001b[0m\n\u001b[1;32m    226\u001b[0m         \u001b[0;31m# don't warn on NotImplementedErrors\u001b[0m\u001b[0;34m\u001b[0m\u001b[0;34m\u001b[0m\u001b[0;34m\u001b[0m\u001b[0m\n",
      "\u001b[0;32m~/Library/Python/3.7/lib/python/site-packages/IPython/core/formatters.py\u001b[0m in \u001b[0;36m__call__\u001b[0;34m(self, obj)\u001b[0m\n\u001b[1;32m    339\u001b[0m                 \u001b[0;32mpass\u001b[0m\u001b[0;34m\u001b[0m\u001b[0;34m\u001b[0m\u001b[0m\n\u001b[1;32m    340\u001b[0m             \u001b[0;32melse\u001b[0m\u001b[0;34m:\u001b[0m\u001b[0;34m\u001b[0m\u001b[0;34m\u001b[0m\u001b[0m\n\u001b[0;32m--> 341\u001b[0;31m                 \u001b[0;32mreturn\u001b[0m \u001b[0mprinter\u001b[0m\u001b[0;34m(\u001b[0m\u001b[0mobj\u001b[0m\u001b[0;34m)\u001b[0m\u001b[0;34m\u001b[0m\u001b[0;34m\u001b[0m\u001b[0m\n\u001b[0m\u001b[1;32m    342\u001b[0m             \u001b[0;31m# Finally look for special method names\u001b[0m\u001b[0;34m\u001b[0m\u001b[0;34m\u001b[0m\u001b[0;34m\u001b[0m\u001b[0m\n\u001b[1;32m    343\u001b[0m             \u001b[0mmethod\u001b[0m \u001b[0;34m=\u001b[0m \u001b[0mget_real_method\u001b[0m\u001b[0;34m(\u001b[0m\u001b[0mobj\u001b[0m\u001b[0;34m,\u001b[0m \u001b[0mself\u001b[0m\u001b[0;34m.\u001b[0m\u001b[0mprint_method\u001b[0m\u001b[0;34m)\u001b[0m\u001b[0;34m\u001b[0m\u001b[0;34m\u001b[0m\u001b[0m\n",
      "\u001b[0;32m~/Library/Python/3.7/lib/python/site-packages/IPython/core/pylabtools.py\u001b[0m in \u001b[0;36m<lambda>\u001b[0;34m(fig)\u001b[0m\n\u001b[1;32m    246\u001b[0m \u001b[0;34m\u001b[0m\u001b[0m\n\u001b[1;32m    247\u001b[0m     \u001b[0;32mif\u001b[0m \u001b[0;34m'png'\u001b[0m \u001b[0;32min\u001b[0m \u001b[0mformats\u001b[0m\u001b[0;34m:\u001b[0m\u001b[0;34m\u001b[0m\u001b[0;34m\u001b[0m\u001b[0m\n\u001b[0;32m--> 248\u001b[0;31m         \u001b[0mpng_formatter\u001b[0m\u001b[0;34m.\u001b[0m\u001b[0mfor_type\u001b[0m\u001b[0;34m(\u001b[0m\u001b[0mFigure\u001b[0m\u001b[0;34m,\u001b[0m \u001b[0;32mlambda\u001b[0m \u001b[0mfig\u001b[0m\u001b[0;34m:\u001b[0m \u001b[0mprint_figure\u001b[0m\u001b[0;34m(\u001b[0m\u001b[0mfig\u001b[0m\u001b[0;34m,\u001b[0m \u001b[0;34m'png'\u001b[0m\u001b[0;34m,\u001b[0m \u001b[0;34m**\u001b[0m\u001b[0mkwargs\u001b[0m\u001b[0;34m)\u001b[0m\u001b[0;34m)\u001b[0m\u001b[0;34m\u001b[0m\u001b[0;34m\u001b[0m\u001b[0m\n\u001b[0m\u001b[1;32m    249\u001b[0m     \u001b[0;32mif\u001b[0m \u001b[0;34m'retina'\u001b[0m \u001b[0;32min\u001b[0m \u001b[0mformats\u001b[0m \u001b[0;32mor\u001b[0m \u001b[0;34m'png2x'\u001b[0m \u001b[0;32min\u001b[0m \u001b[0mformats\u001b[0m\u001b[0;34m:\u001b[0m\u001b[0;34m\u001b[0m\u001b[0;34m\u001b[0m\u001b[0m\n\u001b[1;32m    250\u001b[0m         \u001b[0mpng_formatter\u001b[0m\u001b[0;34m.\u001b[0m\u001b[0mfor_type\u001b[0m\u001b[0;34m(\u001b[0m\u001b[0mFigure\u001b[0m\u001b[0;34m,\u001b[0m \u001b[0;32mlambda\u001b[0m \u001b[0mfig\u001b[0m\u001b[0;34m:\u001b[0m \u001b[0mretina_figure\u001b[0m\u001b[0;34m(\u001b[0m\u001b[0mfig\u001b[0m\u001b[0;34m,\u001b[0m \u001b[0;34m**\u001b[0m\u001b[0mkwargs\u001b[0m\u001b[0;34m)\u001b[0m\u001b[0;34m)\u001b[0m\u001b[0;34m\u001b[0m\u001b[0;34m\u001b[0m\u001b[0m\n",
      "\u001b[0;32m~/Library/Python/3.7/lib/python/site-packages/IPython/core/pylabtools.py\u001b[0m in \u001b[0;36mprint_figure\u001b[0;34m(fig, fmt, bbox_inches, **kwargs)\u001b[0m\n\u001b[1;32m    130\u001b[0m         \u001b[0mFigureCanvasBase\u001b[0m\u001b[0;34m(\u001b[0m\u001b[0mfig\u001b[0m\u001b[0;34m)\u001b[0m\u001b[0;34m\u001b[0m\u001b[0;34m\u001b[0m\u001b[0m\n\u001b[1;32m    131\u001b[0m \u001b[0;34m\u001b[0m\u001b[0m\n\u001b[0;32m--> 132\u001b[0;31m     \u001b[0mfig\u001b[0m\u001b[0;34m.\u001b[0m\u001b[0mcanvas\u001b[0m\u001b[0;34m.\u001b[0m\u001b[0mprint_figure\u001b[0m\u001b[0;34m(\u001b[0m\u001b[0mbytes_io\u001b[0m\u001b[0;34m,\u001b[0m \u001b[0;34m**\u001b[0m\u001b[0mkw\u001b[0m\u001b[0;34m)\u001b[0m\u001b[0;34m\u001b[0m\u001b[0;34m\u001b[0m\u001b[0m\n\u001b[0m\u001b[1;32m    133\u001b[0m     \u001b[0mdata\u001b[0m \u001b[0;34m=\u001b[0m \u001b[0mbytes_io\u001b[0m\u001b[0;34m.\u001b[0m\u001b[0mgetvalue\u001b[0m\u001b[0;34m(\u001b[0m\u001b[0;34m)\u001b[0m\u001b[0;34m\u001b[0m\u001b[0;34m\u001b[0m\u001b[0m\n\u001b[1;32m    134\u001b[0m     \u001b[0;32mif\u001b[0m \u001b[0mfmt\u001b[0m \u001b[0;34m==\u001b[0m \u001b[0;34m'svg'\u001b[0m\u001b[0;34m:\u001b[0m\u001b[0;34m\u001b[0m\u001b[0;34m\u001b[0m\u001b[0m\n",
      "\u001b[0;32m~/Library/Python/3.7/lib/python/site-packages/matplotlib/backend_bases.py\u001b[0m in \u001b[0;36mprint_figure\u001b[0;34m(self, filename, dpi, facecolor, edgecolor, orientation, format, bbox_inches, **kwargs)\u001b[0m\n\u001b[1;32m   2063\u001b[0m                         \u001b[0morientation\u001b[0m\u001b[0;34m=\u001b[0m\u001b[0morientation\u001b[0m\u001b[0;34m,\u001b[0m\u001b[0;34m\u001b[0m\u001b[0;34m\u001b[0m\u001b[0m\n\u001b[1;32m   2064\u001b[0m                         \u001b[0mdryrun\u001b[0m\u001b[0;34m=\u001b[0m\u001b[0;32mTrue\u001b[0m\u001b[0;34m,\u001b[0m\u001b[0;34m\u001b[0m\u001b[0;34m\u001b[0m\u001b[0m\n\u001b[0;32m-> 2065\u001b[0;31m                         **kwargs)\n\u001b[0m\u001b[1;32m   2066\u001b[0m                     \u001b[0mrenderer\u001b[0m \u001b[0;34m=\u001b[0m \u001b[0mself\u001b[0m\u001b[0;34m.\u001b[0m\u001b[0mfigure\u001b[0m\u001b[0;34m.\u001b[0m\u001b[0m_cachedRenderer\u001b[0m\u001b[0;34m\u001b[0m\u001b[0;34m\u001b[0m\u001b[0m\n\u001b[1;32m   2067\u001b[0m                     \u001b[0mbbox_artists\u001b[0m \u001b[0;34m=\u001b[0m \u001b[0mkwargs\u001b[0m\u001b[0;34m.\u001b[0m\u001b[0mpop\u001b[0m\u001b[0;34m(\u001b[0m\u001b[0;34m\"bbox_extra_artists\"\u001b[0m\u001b[0;34m,\u001b[0m \u001b[0;32mNone\u001b[0m\u001b[0;34m)\u001b[0m\u001b[0;34m\u001b[0m\u001b[0;34m\u001b[0m\u001b[0m\n",
      "\u001b[0;32m~/Library/Python/3.7/lib/python/site-packages/matplotlib/backends/backend_agg.py\u001b[0m in \u001b[0;36mprint_png\u001b[0;34m(self, filename_or_obj, metadata, pil_kwargs, *args, **kwargs)\u001b[0m\n\u001b[1;32m    525\u001b[0m \u001b[0;34m\u001b[0m\u001b[0m\n\u001b[1;32m    526\u001b[0m         \u001b[0;32melse\u001b[0m\u001b[0;34m:\u001b[0m\u001b[0;34m\u001b[0m\u001b[0;34m\u001b[0m\u001b[0m\n\u001b[0;32m--> 527\u001b[0;31m             \u001b[0mFigureCanvasAgg\u001b[0m\u001b[0;34m.\u001b[0m\u001b[0mdraw\u001b[0m\u001b[0;34m(\u001b[0m\u001b[0mself\u001b[0m\u001b[0;34m)\u001b[0m\u001b[0;34m\u001b[0m\u001b[0;34m\u001b[0m\u001b[0m\n\u001b[0m\u001b[1;32m    528\u001b[0m             \u001b[0mrenderer\u001b[0m \u001b[0;34m=\u001b[0m \u001b[0mself\u001b[0m\u001b[0;34m.\u001b[0m\u001b[0mget_renderer\u001b[0m\u001b[0;34m(\u001b[0m\u001b[0;34m)\u001b[0m\u001b[0;34m\u001b[0m\u001b[0;34m\u001b[0m\u001b[0m\n\u001b[1;32m    529\u001b[0m             \u001b[0;32mwith\u001b[0m \u001b[0mcbook\u001b[0m\u001b[0;34m.\u001b[0m\u001b[0m_setattr_cm\u001b[0m\u001b[0;34m(\u001b[0m\u001b[0mrenderer\u001b[0m\u001b[0;34m,\u001b[0m \u001b[0mdpi\u001b[0m\u001b[0;34m=\u001b[0m\u001b[0mself\u001b[0m\u001b[0;34m.\u001b[0m\u001b[0mfigure\u001b[0m\u001b[0;34m.\u001b[0m\u001b[0mdpi\u001b[0m\u001b[0;34m)\u001b[0m\u001b[0;34m,\u001b[0m\u001b[0;31m \u001b[0m\u001b[0;31m\\\u001b[0m\u001b[0;34m\u001b[0m\u001b[0;34m\u001b[0m\u001b[0m\n",
      "\u001b[0;32m~/Library/Python/3.7/lib/python/site-packages/matplotlib/backends/backend_agg.py\u001b[0m in \u001b[0;36mdraw\u001b[0;34m(self)\u001b[0m\n\u001b[1;32m    386\u001b[0m         \u001b[0mself\u001b[0m\u001b[0;34m.\u001b[0m\u001b[0mrenderer\u001b[0m \u001b[0;34m=\u001b[0m \u001b[0mself\u001b[0m\u001b[0;34m.\u001b[0m\u001b[0mget_renderer\u001b[0m\u001b[0;34m(\u001b[0m\u001b[0mcleared\u001b[0m\u001b[0;34m=\u001b[0m\u001b[0;32mTrue\u001b[0m\u001b[0;34m)\u001b[0m\u001b[0;34m\u001b[0m\u001b[0;34m\u001b[0m\u001b[0m\n\u001b[1;32m    387\u001b[0m         \u001b[0;32mwith\u001b[0m \u001b[0mRendererAgg\u001b[0m\u001b[0;34m.\u001b[0m\u001b[0mlock\u001b[0m\u001b[0;34m:\u001b[0m\u001b[0;34m\u001b[0m\u001b[0;34m\u001b[0m\u001b[0m\n\u001b[0;32m--> 388\u001b[0;31m             \u001b[0mself\u001b[0m\u001b[0;34m.\u001b[0m\u001b[0mfigure\u001b[0m\u001b[0;34m.\u001b[0m\u001b[0mdraw\u001b[0m\u001b[0;34m(\u001b[0m\u001b[0mself\u001b[0m\u001b[0;34m.\u001b[0m\u001b[0mrenderer\u001b[0m\u001b[0;34m)\u001b[0m\u001b[0;34m\u001b[0m\u001b[0;34m\u001b[0m\u001b[0m\n\u001b[0m\u001b[1;32m    389\u001b[0m             \u001b[0;31m# A GUI class may be need to update a window using this draw, so\u001b[0m\u001b[0;34m\u001b[0m\u001b[0;34m\u001b[0m\u001b[0;34m\u001b[0m\u001b[0m\n\u001b[1;32m    390\u001b[0m             \u001b[0;31m# don't forget to call the superclass.\u001b[0m\u001b[0;34m\u001b[0m\u001b[0;34m\u001b[0m\u001b[0;34m\u001b[0m\u001b[0m\n",
      "\u001b[0;32m~/Library/Python/3.7/lib/python/site-packages/matplotlib/artist.py\u001b[0m in \u001b[0;36mdraw_wrapper\u001b[0;34m(artist, renderer, *args, **kwargs)\u001b[0m\n\u001b[1;32m     36\u001b[0m                 \u001b[0mrenderer\u001b[0m\u001b[0;34m.\u001b[0m\u001b[0mstart_filter\u001b[0m\u001b[0;34m(\u001b[0m\u001b[0;34m)\u001b[0m\u001b[0;34m\u001b[0m\u001b[0;34m\u001b[0m\u001b[0m\n\u001b[1;32m     37\u001b[0m \u001b[0;34m\u001b[0m\u001b[0m\n\u001b[0;32m---> 38\u001b[0;31m             \u001b[0;32mreturn\u001b[0m \u001b[0mdraw\u001b[0m\u001b[0;34m(\u001b[0m\u001b[0martist\u001b[0m\u001b[0;34m,\u001b[0m \u001b[0mrenderer\u001b[0m\u001b[0;34m,\u001b[0m \u001b[0;34m*\u001b[0m\u001b[0margs\u001b[0m\u001b[0;34m,\u001b[0m \u001b[0;34m**\u001b[0m\u001b[0mkwargs\u001b[0m\u001b[0;34m)\u001b[0m\u001b[0;34m\u001b[0m\u001b[0;34m\u001b[0m\u001b[0m\n\u001b[0m\u001b[1;32m     39\u001b[0m         \u001b[0;32mfinally\u001b[0m\u001b[0;34m:\u001b[0m\u001b[0;34m\u001b[0m\u001b[0;34m\u001b[0m\u001b[0m\n\u001b[1;32m     40\u001b[0m             \u001b[0;32mif\u001b[0m \u001b[0martist\u001b[0m\u001b[0;34m.\u001b[0m\u001b[0mget_agg_filter\u001b[0m\u001b[0;34m(\u001b[0m\u001b[0;34m)\u001b[0m \u001b[0;32mis\u001b[0m \u001b[0;32mnot\u001b[0m \u001b[0;32mNone\u001b[0m\u001b[0;34m:\u001b[0m\u001b[0;34m\u001b[0m\u001b[0;34m\u001b[0m\u001b[0m\n",
      "\u001b[0;32m~/Library/Python/3.7/lib/python/site-packages/matplotlib/figure.py\u001b[0m in \u001b[0;36mdraw\u001b[0;34m(self, renderer)\u001b[0m\n\u001b[1;32m   1707\u001b[0m             \u001b[0mself\u001b[0m\u001b[0;34m.\u001b[0m\u001b[0mpatch\u001b[0m\u001b[0;34m.\u001b[0m\u001b[0mdraw\u001b[0m\u001b[0;34m(\u001b[0m\u001b[0mrenderer\u001b[0m\u001b[0;34m)\u001b[0m\u001b[0;34m\u001b[0m\u001b[0;34m\u001b[0m\u001b[0m\n\u001b[1;32m   1708\u001b[0m             mimage._draw_list_compositing_images(\n\u001b[0;32m-> 1709\u001b[0;31m                 renderer, self, artists, self.suppressComposite)\n\u001b[0m\u001b[1;32m   1710\u001b[0m \u001b[0;34m\u001b[0m\u001b[0m\n\u001b[1;32m   1711\u001b[0m             \u001b[0mrenderer\u001b[0m\u001b[0;34m.\u001b[0m\u001b[0mclose_group\u001b[0m\u001b[0;34m(\u001b[0m\u001b[0;34m'figure'\u001b[0m\u001b[0;34m)\u001b[0m\u001b[0;34m\u001b[0m\u001b[0;34m\u001b[0m\u001b[0m\n",
      "\u001b[0;32m~/Library/Python/3.7/lib/python/site-packages/matplotlib/image.py\u001b[0m in \u001b[0;36m_draw_list_compositing_images\u001b[0;34m(renderer, parent, artists, suppress_composite)\u001b[0m\n\u001b[1;32m    133\u001b[0m     \u001b[0;32mif\u001b[0m \u001b[0mnot_composite\u001b[0m \u001b[0;32mor\u001b[0m \u001b[0;32mnot\u001b[0m \u001b[0mhas_images\u001b[0m\u001b[0;34m:\u001b[0m\u001b[0;34m\u001b[0m\u001b[0;34m\u001b[0m\u001b[0m\n\u001b[1;32m    134\u001b[0m         \u001b[0;32mfor\u001b[0m \u001b[0ma\u001b[0m \u001b[0;32min\u001b[0m \u001b[0martists\u001b[0m\u001b[0;34m:\u001b[0m\u001b[0;34m\u001b[0m\u001b[0;34m\u001b[0m\u001b[0m\n\u001b[0;32m--> 135\u001b[0;31m             \u001b[0ma\u001b[0m\u001b[0;34m.\u001b[0m\u001b[0mdraw\u001b[0m\u001b[0;34m(\u001b[0m\u001b[0mrenderer\u001b[0m\u001b[0;34m)\u001b[0m\u001b[0;34m\u001b[0m\u001b[0;34m\u001b[0m\u001b[0m\n\u001b[0m\u001b[1;32m    136\u001b[0m     \u001b[0;32melse\u001b[0m\u001b[0;34m:\u001b[0m\u001b[0;34m\u001b[0m\u001b[0;34m\u001b[0m\u001b[0m\n\u001b[1;32m    137\u001b[0m         \u001b[0;31m# Composite any adjacent images together\u001b[0m\u001b[0;34m\u001b[0m\u001b[0;34m\u001b[0m\u001b[0;34m\u001b[0m\u001b[0m\n",
      "\u001b[0;32m~/Library/Python/3.7/lib/python/site-packages/matplotlib/artist.py\u001b[0m in \u001b[0;36mdraw_wrapper\u001b[0;34m(artist, renderer, *args, **kwargs)\u001b[0m\n\u001b[1;32m     36\u001b[0m                 \u001b[0mrenderer\u001b[0m\u001b[0;34m.\u001b[0m\u001b[0mstart_filter\u001b[0m\u001b[0;34m(\u001b[0m\u001b[0;34m)\u001b[0m\u001b[0;34m\u001b[0m\u001b[0;34m\u001b[0m\u001b[0m\n\u001b[1;32m     37\u001b[0m \u001b[0;34m\u001b[0m\u001b[0m\n\u001b[0;32m---> 38\u001b[0;31m             \u001b[0;32mreturn\u001b[0m \u001b[0mdraw\u001b[0m\u001b[0;34m(\u001b[0m\u001b[0martist\u001b[0m\u001b[0;34m,\u001b[0m \u001b[0mrenderer\u001b[0m\u001b[0;34m,\u001b[0m \u001b[0;34m*\u001b[0m\u001b[0margs\u001b[0m\u001b[0;34m,\u001b[0m \u001b[0;34m**\u001b[0m\u001b[0mkwargs\u001b[0m\u001b[0;34m)\u001b[0m\u001b[0;34m\u001b[0m\u001b[0;34m\u001b[0m\u001b[0m\n\u001b[0m\u001b[1;32m     39\u001b[0m         \u001b[0;32mfinally\u001b[0m\u001b[0;34m:\u001b[0m\u001b[0;34m\u001b[0m\u001b[0;34m\u001b[0m\u001b[0m\n\u001b[1;32m     40\u001b[0m             \u001b[0;32mif\u001b[0m \u001b[0martist\u001b[0m\u001b[0;34m.\u001b[0m\u001b[0mget_agg_filter\u001b[0m\u001b[0;34m(\u001b[0m\u001b[0;34m)\u001b[0m \u001b[0;32mis\u001b[0m \u001b[0;32mnot\u001b[0m \u001b[0;32mNone\u001b[0m\u001b[0;34m:\u001b[0m\u001b[0;34m\u001b[0m\u001b[0;34m\u001b[0m\u001b[0m\n",
      "\u001b[0;32m~/Library/Python/3.7/lib/python/site-packages/matplotlib/axes/_base.py\u001b[0m in \u001b[0;36mdraw\u001b[0;34m(self, renderer, inframe)\u001b[0m\n\u001b[1;32m   2645\u001b[0m             \u001b[0mrenderer\u001b[0m\u001b[0;34m.\u001b[0m\u001b[0mstop_rasterizing\u001b[0m\u001b[0;34m(\u001b[0m\u001b[0;34m)\u001b[0m\u001b[0;34m\u001b[0m\u001b[0;34m\u001b[0m\u001b[0m\n\u001b[1;32m   2646\u001b[0m \u001b[0;34m\u001b[0m\u001b[0m\n\u001b[0;32m-> 2647\u001b[0;31m         \u001b[0mmimage\u001b[0m\u001b[0;34m.\u001b[0m\u001b[0m_draw_list_compositing_images\u001b[0m\u001b[0;34m(\u001b[0m\u001b[0mrenderer\u001b[0m\u001b[0;34m,\u001b[0m \u001b[0mself\u001b[0m\u001b[0;34m,\u001b[0m \u001b[0martists\u001b[0m\u001b[0;34m)\u001b[0m\u001b[0;34m\u001b[0m\u001b[0;34m\u001b[0m\u001b[0m\n\u001b[0m\u001b[1;32m   2648\u001b[0m \u001b[0;34m\u001b[0m\u001b[0m\n\u001b[1;32m   2649\u001b[0m         \u001b[0mrenderer\u001b[0m\u001b[0;34m.\u001b[0m\u001b[0mclose_group\u001b[0m\u001b[0;34m(\u001b[0m\u001b[0;34m'axes'\u001b[0m\u001b[0;34m)\u001b[0m\u001b[0;34m\u001b[0m\u001b[0;34m\u001b[0m\u001b[0m\n",
      "\u001b[0;32m~/Library/Python/3.7/lib/python/site-packages/matplotlib/image.py\u001b[0m in \u001b[0;36m_draw_list_compositing_images\u001b[0;34m(renderer, parent, artists, suppress_composite)\u001b[0m\n\u001b[1;32m    133\u001b[0m     \u001b[0;32mif\u001b[0m \u001b[0mnot_composite\u001b[0m \u001b[0;32mor\u001b[0m \u001b[0;32mnot\u001b[0m \u001b[0mhas_images\u001b[0m\u001b[0;34m:\u001b[0m\u001b[0;34m\u001b[0m\u001b[0;34m\u001b[0m\u001b[0m\n\u001b[1;32m    134\u001b[0m         \u001b[0;32mfor\u001b[0m \u001b[0ma\u001b[0m \u001b[0;32min\u001b[0m \u001b[0martists\u001b[0m\u001b[0;34m:\u001b[0m\u001b[0;34m\u001b[0m\u001b[0;34m\u001b[0m\u001b[0m\n\u001b[0;32m--> 135\u001b[0;31m             \u001b[0ma\u001b[0m\u001b[0;34m.\u001b[0m\u001b[0mdraw\u001b[0m\u001b[0;34m(\u001b[0m\u001b[0mrenderer\u001b[0m\u001b[0;34m)\u001b[0m\u001b[0;34m\u001b[0m\u001b[0;34m\u001b[0m\u001b[0m\n\u001b[0m\u001b[1;32m    136\u001b[0m     \u001b[0;32melse\u001b[0m\u001b[0;34m:\u001b[0m\u001b[0;34m\u001b[0m\u001b[0;34m\u001b[0m\u001b[0m\n\u001b[1;32m    137\u001b[0m         \u001b[0;31m# Composite any adjacent images together\u001b[0m\u001b[0;34m\u001b[0m\u001b[0;34m\u001b[0m\u001b[0;34m\u001b[0m\u001b[0m\n",
      "\u001b[0;32m~/Library/Python/3.7/lib/python/site-packages/matplotlib/artist.py\u001b[0m in \u001b[0;36mdraw_wrapper\u001b[0;34m(artist, renderer, *args, **kwargs)\u001b[0m\n\u001b[1;32m     36\u001b[0m                 \u001b[0mrenderer\u001b[0m\u001b[0;34m.\u001b[0m\u001b[0mstart_filter\u001b[0m\u001b[0;34m(\u001b[0m\u001b[0;34m)\u001b[0m\u001b[0;34m\u001b[0m\u001b[0;34m\u001b[0m\u001b[0m\n\u001b[1;32m     37\u001b[0m \u001b[0;34m\u001b[0m\u001b[0m\n\u001b[0;32m---> 38\u001b[0;31m             \u001b[0;32mreturn\u001b[0m \u001b[0mdraw\u001b[0m\u001b[0;34m(\u001b[0m\u001b[0martist\u001b[0m\u001b[0;34m,\u001b[0m \u001b[0mrenderer\u001b[0m\u001b[0;34m,\u001b[0m \u001b[0;34m*\u001b[0m\u001b[0margs\u001b[0m\u001b[0;34m,\u001b[0m \u001b[0;34m**\u001b[0m\u001b[0mkwargs\u001b[0m\u001b[0;34m)\u001b[0m\u001b[0;34m\u001b[0m\u001b[0;34m\u001b[0m\u001b[0m\n\u001b[0m\u001b[1;32m     39\u001b[0m         \u001b[0;32mfinally\u001b[0m\u001b[0;34m:\u001b[0m\u001b[0;34m\u001b[0m\u001b[0;34m\u001b[0m\u001b[0m\n\u001b[1;32m     40\u001b[0m             \u001b[0;32mif\u001b[0m \u001b[0martist\u001b[0m\u001b[0;34m.\u001b[0m\u001b[0mget_agg_filter\u001b[0m\u001b[0;34m(\u001b[0m\u001b[0;34m)\u001b[0m \u001b[0;32mis\u001b[0m \u001b[0;32mnot\u001b[0m \u001b[0;32mNone\u001b[0m\u001b[0;34m:\u001b[0m\u001b[0;34m\u001b[0m\u001b[0;34m\u001b[0m\u001b[0m\n",
      "\u001b[0;32m~/Library/Python/3.7/lib/python/site-packages/matplotlib/patches.py\u001b[0m in \u001b[0;36mdraw\u001b[0;34m(self, renderer)\u001b[0m\n\u001b[1;32m    571\u001b[0m                 \u001b[0mself\u001b[0m\u001b[0;34m.\u001b[0m\u001b[0m_bind_draw_path_function\u001b[0m\u001b[0;34m(\u001b[0m\u001b[0mrenderer\u001b[0m\u001b[0;34m)\u001b[0m \u001b[0;32mas\u001b[0m \u001b[0mdraw_path\u001b[0m\u001b[0;34m:\u001b[0m\u001b[0;34m\u001b[0m\u001b[0;34m\u001b[0m\u001b[0m\n\u001b[1;32m    572\u001b[0m             \u001b[0mpath\u001b[0m \u001b[0;34m=\u001b[0m \u001b[0mself\u001b[0m\u001b[0;34m.\u001b[0m\u001b[0mget_path\u001b[0m\u001b[0;34m(\u001b[0m\u001b[0;34m)\u001b[0m\u001b[0;34m\u001b[0m\u001b[0;34m\u001b[0m\u001b[0m\n\u001b[0;32m--> 573\u001b[0;31m             \u001b[0mtransform\u001b[0m \u001b[0;34m=\u001b[0m \u001b[0mself\u001b[0m\u001b[0;34m.\u001b[0m\u001b[0mget_transform\u001b[0m\u001b[0;34m(\u001b[0m\u001b[0;34m)\u001b[0m\u001b[0;34m\u001b[0m\u001b[0;34m\u001b[0m\u001b[0m\n\u001b[0m\u001b[1;32m    574\u001b[0m             \u001b[0mtpath\u001b[0m \u001b[0;34m=\u001b[0m \u001b[0mtransform\u001b[0m\u001b[0;34m.\u001b[0m\u001b[0mtransform_path_non_affine\u001b[0m\u001b[0;34m(\u001b[0m\u001b[0mpath\u001b[0m\u001b[0;34m)\u001b[0m\u001b[0;34m\u001b[0m\u001b[0;34m\u001b[0m\u001b[0m\n\u001b[1;32m    575\u001b[0m             \u001b[0maffine\u001b[0m \u001b[0;34m=\u001b[0m \u001b[0mtransform\u001b[0m\u001b[0;34m.\u001b[0m\u001b[0mget_affine\u001b[0m\u001b[0;34m(\u001b[0m\u001b[0;34m)\u001b[0m\u001b[0;34m\u001b[0m\u001b[0;34m\u001b[0m\u001b[0m\n",
      "\u001b[0;32m~/Library/Python/3.7/lib/python/site-packages/matplotlib/patches.py\u001b[0m in \u001b[0;36mget_transform\u001b[0;34m(self)\u001b[0m\n\u001b[1;32m    212\u001b[0m         \u001b[0mto\u001b[0m \u001b[0mthe\u001b[0m \u001b[0;34m:\u001b[0m\u001b[0;32mclass\u001b[0m\u001b[0;34m:\u001b[0m\u001b[0;31m`\u001b[0m\u001b[0mPatch\u001b[0m\u001b[0;31m`\u001b[0m\u001b[0;34m.\u001b[0m\u001b[0;34m\u001b[0m\u001b[0;34m\u001b[0m\u001b[0m\n\u001b[1;32m    213\u001b[0m         \"\"\"\n\u001b[0;32m--> 214\u001b[0;31m         \u001b[0;32mreturn\u001b[0m \u001b[0mself\u001b[0m\u001b[0;34m.\u001b[0m\u001b[0mget_patch_transform\u001b[0m\u001b[0;34m(\u001b[0m\u001b[0;34m)\u001b[0m \u001b[0;34m+\u001b[0m \u001b[0martist\u001b[0m\u001b[0;34m.\u001b[0m\u001b[0mArtist\u001b[0m\u001b[0;34m.\u001b[0m\u001b[0mget_transform\u001b[0m\u001b[0;34m(\u001b[0m\u001b[0mself\u001b[0m\u001b[0;34m)\u001b[0m\u001b[0;34m\u001b[0m\u001b[0;34m\u001b[0m\u001b[0m\n\u001b[0m\u001b[1;32m    215\u001b[0m \u001b[0;34m\u001b[0m\u001b[0m\n\u001b[1;32m    216\u001b[0m     \u001b[0;32mdef\u001b[0m \u001b[0mget_data_transform\u001b[0m\u001b[0;34m(\u001b[0m\u001b[0mself\u001b[0m\u001b[0;34m)\u001b[0m\u001b[0;34m:\u001b[0m\u001b[0;34m\u001b[0m\u001b[0;34m\u001b[0m\u001b[0m\n",
      "\u001b[0;32m~/Library/Python/3.7/lib/python/site-packages/matplotlib/patches.py\u001b[0m in \u001b[0;36mget_patch_transform\u001b[0;34m(self)\u001b[0m\n\u001b[1;32m    756\u001b[0m \u001b[0;34m\u001b[0m\u001b[0m\n\u001b[1;32m    757\u001b[0m     \u001b[0;32mdef\u001b[0m \u001b[0mget_patch_transform\u001b[0m\u001b[0;34m(\u001b[0m\u001b[0mself\u001b[0m\u001b[0;34m)\u001b[0m\u001b[0;34m:\u001b[0m\u001b[0;34m\u001b[0m\u001b[0;34m\u001b[0m\u001b[0m\n\u001b[0;32m--> 758\u001b[0;31m         \u001b[0mself\u001b[0m\u001b[0;34m.\u001b[0m\u001b[0m_update_patch_transform\u001b[0m\u001b[0;34m(\u001b[0m\u001b[0;34m)\u001b[0m\u001b[0;34m\u001b[0m\u001b[0;34m\u001b[0m\u001b[0m\n\u001b[0m\u001b[1;32m    759\u001b[0m         \u001b[0;32mreturn\u001b[0m \u001b[0mself\u001b[0m\u001b[0;34m.\u001b[0m\u001b[0m_rect_transform\u001b[0m\u001b[0;34m\u001b[0m\u001b[0;34m\u001b[0m\u001b[0m\n\u001b[1;32m    760\u001b[0m \u001b[0;34m\u001b[0m\u001b[0m\n",
      "\u001b[0;32m~/Library/Python/3.7/lib/python/site-packages/matplotlib/patches.py\u001b[0m in \u001b[0;36m_update_patch_transform\u001b[0;34m(self)\u001b[0m\n\u001b[1;32m    735\u001b[0m         \u001b[0mbbox\u001b[0m \u001b[0;34m=\u001b[0m \u001b[0mtransforms\u001b[0m\u001b[0;34m.\u001b[0m\u001b[0mBbox\u001b[0m\u001b[0;34m.\u001b[0m\u001b[0mfrom_extents\u001b[0m\u001b[0;34m(\u001b[0m\u001b[0mx0\u001b[0m\u001b[0;34m,\u001b[0m \u001b[0my0\u001b[0m\u001b[0;34m,\u001b[0m \u001b[0mx1\u001b[0m\u001b[0;34m,\u001b[0m \u001b[0my1\u001b[0m\u001b[0;34m)\u001b[0m\u001b[0;34m\u001b[0m\u001b[0;34m\u001b[0m\u001b[0m\n\u001b[1;32m    736\u001b[0m         \u001b[0mrot_trans\u001b[0m \u001b[0;34m=\u001b[0m \u001b[0mtransforms\u001b[0m\u001b[0;34m.\u001b[0m\u001b[0mAffine2D\u001b[0m\u001b[0;34m(\u001b[0m\u001b[0;34m)\u001b[0m\u001b[0;34m\u001b[0m\u001b[0;34m\u001b[0m\u001b[0m\n\u001b[0;32m--> 737\u001b[0;31m         \u001b[0mrot_trans\u001b[0m\u001b[0;34m.\u001b[0m\u001b[0mrotate_deg_around\u001b[0m\u001b[0;34m(\u001b[0m\u001b[0mx0\u001b[0m\u001b[0;34m,\u001b[0m \u001b[0my0\u001b[0m\u001b[0;34m,\u001b[0m \u001b[0mself\u001b[0m\u001b[0;34m.\u001b[0m\u001b[0mangle\u001b[0m\u001b[0;34m)\u001b[0m\u001b[0;34m\u001b[0m\u001b[0;34m\u001b[0m\u001b[0m\n\u001b[0m\u001b[1;32m    738\u001b[0m         \u001b[0mself\u001b[0m\u001b[0;34m.\u001b[0m\u001b[0m_rect_transform\u001b[0m \u001b[0;34m=\u001b[0m \u001b[0mtransforms\u001b[0m\u001b[0;34m.\u001b[0m\u001b[0mBboxTransformTo\u001b[0m\u001b[0;34m(\u001b[0m\u001b[0mbbox\u001b[0m\u001b[0;34m)\u001b[0m\u001b[0;34m\u001b[0m\u001b[0;34m\u001b[0m\u001b[0m\n\u001b[1;32m    739\u001b[0m         \u001b[0mself\u001b[0m\u001b[0;34m.\u001b[0m\u001b[0m_rect_transform\u001b[0m \u001b[0;34m+=\u001b[0m \u001b[0mrot_trans\u001b[0m\u001b[0;34m\u001b[0m\u001b[0;34m\u001b[0m\u001b[0m\n",
      "\u001b[0;32m~/Library/Python/3.7/lib/python/site-packages/matplotlib/transforms.py\u001b[0m in \u001b[0;36mrotate_deg_around\u001b[0;34m(self, x, y, degrees)\u001b[0m\n\u001b[1;32m   1958\u001b[0m         \u001b[0;31m# Cast to float to avoid wraparound issues with uint8's\u001b[0m\u001b[0;34m\u001b[0m\u001b[0;34m\u001b[0m\u001b[0;34m\u001b[0m\u001b[0m\n\u001b[1;32m   1959\u001b[0m         \u001b[0mx\u001b[0m\u001b[0;34m,\u001b[0m \u001b[0my\u001b[0m \u001b[0;34m=\u001b[0m \u001b[0mfloat\u001b[0m\u001b[0;34m(\u001b[0m\u001b[0mx\u001b[0m\u001b[0;34m)\u001b[0m\u001b[0;34m,\u001b[0m \u001b[0mfloat\u001b[0m\u001b[0;34m(\u001b[0m\u001b[0my\u001b[0m\u001b[0;34m)\u001b[0m\u001b[0;34m\u001b[0m\u001b[0;34m\u001b[0m\u001b[0m\n\u001b[0;32m-> 1960\u001b[0;31m         \u001b[0;32mreturn\u001b[0m \u001b[0mself\u001b[0m\u001b[0;34m.\u001b[0m\u001b[0mtranslate\u001b[0m\u001b[0;34m(\u001b[0m\u001b[0;34m-\u001b[0m\u001b[0mx\u001b[0m\u001b[0;34m,\u001b[0m \u001b[0;34m-\u001b[0m\u001b[0my\u001b[0m\u001b[0;34m)\u001b[0m\u001b[0;34m.\u001b[0m\u001b[0mrotate_deg\u001b[0m\u001b[0;34m(\u001b[0m\u001b[0mdegrees\u001b[0m\u001b[0;34m)\u001b[0m\u001b[0;34m.\u001b[0m\u001b[0mtranslate\u001b[0m\u001b[0;34m(\u001b[0m\u001b[0mx\u001b[0m\u001b[0;34m,\u001b[0m \u001b[0my\u001b[0m\u001b[0;34m)\u001b[0m\u001b[0;34m\u001b[0m\u001b[0;34m\u001b[0m\u001b[0m\n\u001b[0m\u001b[1;32m   1961\u001b[0m \u001b[0;34m\u001b[0m\u001b[0m\n\u001b[1;32m   1962\u001b[0m     \u001b[0;32mdef\u001b[0m \u001b[0mtranslate\u001b[0m\u001b[0;34m(\u001b[0m\u001b[0mself\u001b[0m\u001b[0;34m,\u001b[0m \u001b[0mtx\u001b[0m\u001b[0;34m,\u001b[0m \u001b[0mty\u001b[0m\u001b[0;34m)\u001b[0m\u001b[0;34m:\u001b[0m\u001b[0;34m\u001b[0m\u001b[0;34m\u001b[0m\u001b[0m\n",
      "\u001b[0;32m~/Library/Python/3.7/lib/python/site-packages/matplotlib/transforms.py\u001b[0m in \u001b[0;36mtranslate\u001b[0;34m(self, tx, ty)\u001b[0m\n\u001b[1;32m   1969\u001b[0m         \"\"\"\n\u001b[1;32m   1970\u001b[0m         translate_mtx = np.array(\n\u001b[0;32m-> 1971\u001b[0;31m             [[1.0, 0.0, tx], [0.0, 1.0, ty], [0.0, 0.0, 1.0]], float)\n\u001b[0m\u001b[1;32m   1972\u001b[0m         \u001b[0mself\u001b[0m\u001b[0;34m.\u001b[0m\u001b[0m_mtx\u001b[0m \u001b[0;34m=\u001b[0m \u001b[0mnp\u001b[0m\u001b[0;34m.\u001b[0m\u001b[0mdot\u001b[0m\u001b[0;34m(\u001b[0m\u001b[0mtranslate_mtx\u001b[0m\u001b[0;34m,\u001b[0m \u001b[0mself\u001b[0m\u001b[0;34m.\u001b[0m\u001b[0m_mtx\u001b[0m\u001b[0;34m)\u001b[0m\u001b[0;34m\u001b[0m\u001b[0;34m\u001b[0m\u001b[0m\n\u001b[1;32m   1973\u001b[0m         \u001b[0mself\u001b[0m\u001b[0;34m.\u001b[0m\u001b[0minvalidate\u001b[0m\u001b[0;34m(\u001b[0m\u001b[0;34m)\u001b[0m\u001b[0;34m\u001b[0m\u001b[0;34m\u001b[0m\u001b[0m\n",
      "\u001b[0;31mKeyboardInterrupt\u001b[0m: "
     ]
    }
   ],
   "source": [
    "# Daily sales volume by property type\n",
    "meteor.groupby(['year','mass']).size().unstack().plot(kind='bar', stacked=True)\n",
    "plt.title('...')\n",
    "plt.ylabel('Mass')\n",
    "plt.xlabel('Date')"
   ]
  },
  {
   "cell_type": "code",
   "execution_count": null,
   "metadata": {},
   "outputs": [],
   "source": []
  },
  {
   "cell_type": "code",
   "execution_count": null,
   "metadata": {},
   "outputs": [],
   "source": []
  },
  {
   "cell_type": "markdown",
   "metadata": {},
   "source": [
    "# Time Analysis Testing"
   ]
  },
  {
   "cell_type": "code",
   "execution_count": 11,
   "metadata": {},
   "outputs": [
    {
     "name": "stdout",
     "output_type": "stream",
     "text": [
      "0.024231741909999868\n"
     ]
    }
   ],
   "source": [
    "# Testing a time analysis function\n",
    "import timeit\n",
    "code_to_test = \"\"\"\n",
    "a = range(100000)\n",
    "b = []\n",
    "for i in a:\n",
    "    b.append(i*2)\n",
    "\"\"\"\n",
    "elapsed_time = timeit.timeit(code_to_test, number=100)/100\n",
    "print(elapsed_time)"
   ]
  },
  {
   "cell_type": "code",
   "execution_count": 36,
   "metadata": {},
   "outputs": [
    {
     "ename": "NameError",
     "evalue": "name 'plt' is not defined",
     "output_type": "error",
     "traceback": [
      "\u001b[0;31m---------------------------------------------------------------------------\u001b[0m",
      "\u001b[0;31mNameError\u001b[0m                                 Traceback (most recent call last)",
      "\u001b[0;32m<ipython-input-36-37a852187ee8>\u001b[0m in \u001b[0;36m<module>\u001b[0;34m\u001b[0m\n\u001b[1;32m     11\u001b[0m \u001b[0max\u001b[0m\u001b[0;34m.\u001b[0m\u001b[0mset_ylabel\u001b[0m\u001b[0;34m(\u001b[0m\u001b[0;34m'year'\u001b[0m\u001b[0;34m)\u001b[0m\u001b[0;34m\u001b[0m\u001b[0;34m\u001b[0m\u001b[0m\n\u001b[1;32m     12\u001b[0m \"\"\"\n\u001b[0;32m---> 13\u001b[0;31m \u001b[0melapsed_time_bar\u001b[0m \u001b[0;34m=\u001b[0m \u001b[0mtimeit\u001b[0m\u001b[0;34m.\u001b[0m\u001b[0mtimeit\u001b[0m\u001b[0;34m(\u001b[0m\u001b[0mbar_chart_time\u001b[0m\u001b[0;34m,\u001b[0m \u001b[0mnumber\u001b[0m\u001b[0;34m=\u001b[0m\u001b[0;36m100\u001b[0m\u001b[0;34m)\u001b[0m\u001b[0;34m/\u001b[0m\u001b[0;36m100\u001b[0m\u001b[0;34m\u001b[0m\u001b[0;34m\u001b[0m\u001b[0m\n\u001b[0m\u001b[1;32m     14\u001b[0m \u001b[0mprint\u001b[0m\u001b[0;34m(\u001b[0m\u001b[0melapsed_time_bar\u001b[0m\u001b[0;34m)\u001b[0m\u001b[0;34m\u001b[0m\u001b[0;34m\u001b[0m\u001b[0m\n",
      "\u001b[0;32m/usr/local/Cellar/python/3.7.6_1/Frameworks/Python.framework/Versions/3.7/lib/python3.7/timeit.py\u001b[0m in \u001b[0;36mtimeit\u001b[0;34m(stmt, setup, timer, number, globals)\u001b[0m\n\u001b[1;32m    230\u001b[0m            number=default_number, globals=None):\n\u001b[1;32m    231\u001b[0m     \u001b[0;34m\"\"\"Convenience function to create Timer object and call timeit method.\"\"\"\u001b[0m\u001b[0;34m\u001b[0m\u001b[0;34m\u001b[0m\u001b[0m\n\u001b[0;32m--> 232\u001b[0;31m     \u001b[0;32mreturn\u001b[0m \u001b[0mTimer\u001b[0m\u001b[0;34m(\u001b[0m\u001b[0mstmt\u001b[0m\u001b[0;34m,\u001b[0m \u001b[0msetup\u001b[0m\u001b[0;34m,\u001b[0m \u001b[0mtimer\u001b[0m\u001b[0;34m,\u001b[0m \u001b[0mglobals\u001b[0m\u001b[0;34m)\u001b[0m\u001b[0;34m.\u001b[0m\u001b[0mtimeit\u001b[0m\u001b[0;34m(\u001b[0m\u001b[0mnumber\u001b[0m\u001b[0;34m)\u001b[0m\u001b[0;34m\u001b[0m\u001b[0;34m\u001b[0m\u001b[0m\n\u001b[0m\u001b[1;32m    233\u001b[0m \u001b[0;34m\u001b[0m\u001b[0m\n\u001b[1;32m    234\u001b[0m def repeat(stmt=\"pass\", setup=\"pass\", timer=default_timer,\n",
      "\u001b[0;32m/usr/local/Cellar/python/3.7.6_1/Frameworks/Python.framework/Versions/3.7/lib/python3.7/timeit.py\u001b[0m in \u001b[0;36mtimeit\u001b[0;34m(self, number)\u001b[0m\n\u001b[1;32m    174\u001b[0m         \u001b[0mgc\u001b[0m\u001b[0;34m.\u001b[0m\u001b[0mdisable\u001b[0m\u001b[0;34m(\u001b[0m\u001b[0;34m)\u001b[0m\u001b[0;34m\u001b[0m\u001b[0;34m\u001b[0m\u001b[0m\n\u001b[1;32m    175\u001b[0m         \u001b[0;32mtry\u001b[0m\u001b[0;34m:\u001b[0m\u001b[0;34m\u001b[0m\u001b[0;34m\u001b[0m\u001b[0m\n\u001b[0;32m--> 176\u001b[0;31m             \u001b[0mtiming\u001b[0m \u001b[0;34m=\u001b[0m \u001b[0mself\u001b[0m\u001b[0;34m.\u001b[0m\u001b[0minner\u001b[0m\u001b[0;34m(\u001b[0m\u001b[0mit\u001b[0m\u001b[0;34m,\u001b[0m \u001b[0mself\u001b[0m\u001b[0;34m.\u001b[0m\u001b[0mtimer\u001b[0m\u001b[0;34m)\u001b[0m\u001b[0;34m\u001b[0m\u001b[0;34m\u001b[0m\u001b[0m\n\u001b[0m\u001b[1;32m    177\u001b[0m         \u001b[0;32mfinally\u001b[0m\u001b[0;34m:\u001b[0m\u001b[0;34m\u001b[0m\u001b[0;34m\u001b[0m\u001b[0m\n\u001b[1;32m    178\u001b[0m             \u001b[0;32mif\u001b[0m \u001b[0mgcold\u001b[0m\u001b[0;34m:\u001b[0m\u001b[0;34m\u001b[0m\u001b[0;34m\u001b[0m\u001b[0m\n",
      "\u001b[0;32m/usr/local/Cellar/python/3.7.6_1/Frameworks/Python.framework/Versions/3.7/lib/python3.7/timeit.py\u001b[0m in \u001b[0;36minner\u001b[0;34m(_it, _timer)\u001b[0m\n",
      "\u001b[0;31mNameError\u001b[0m: name 'plt' is not defined"
     ]
    }
   ],
   "source": [
    "\n",
    "bar_chart_time=\"\"\"\n",
    "# create a figure and axis \n",
    "fig, ax = plt.subplots() \n",
    "\n",
    "\n",
    "# scatter the sepal_length against the sepal_width\n",
    "ax.scatter(meteor['mass'], meteor['year'])\n",
    "# set a title and labels\n",
    "ax.set_title('Meteor Dataset (mass vs year)')\n",
    "ax.set_xlabel('mass')\n",
    "ax.set_ylabel('year')\n",
    "\"\"\"\n",
    "elapsed_time_bar = timeit.timeit(bar_chart_time, number=100)/100\n",
    "print(elapsed_time_bar)"
   ]
  },
  {
   "cell_type": "markdown",
   "metadata": {},
   "source": [
    "\n",
    "# 2000 random points\n"
   ]
  },
  {
   "cell_type": "code",
   "execution_count": 13,
   "metadata": {},
   "outputs": [
    {
     "name": "stdout",
     "output_type": "stream",
     "text": [
      "                              name     id nametype   recclass     mass   fall  \\\n",
      "35353  Queen Alexandra Range 99752  22198    Valid        CM2     1.38  Found   \n",
      "23779        Meteorite Hills 01087  16320    Valid  Howardite    28.41  Found   \n",
      "28748        Northwest Africa 4553  45513    Valid       L3.7   531.00  Found   \n",
      "33082  Queen Alexandra Range 94291  19927    Valid         L5    60.40  Found   \n",
      "42782                 Yamato 86027  29533    Valid         L6     2.21  Found   \n",
      "...                            ...    ...      ...        ...      ...    ...   \n",
      "26373                New Westville  16961    Valid  Iron, IVA  4800.00  Found   \n",
      "42123                Yamato 793480  28829    Valid         L5     6.18  Found   \n",
      "8351          Dominion Range 03225  32577    Valid         L5    11.60  Found   \n",
      "42791                 Yamato 86037  29543    Valid         L6     7.90  Found   \n",
      "44793                Yamato 982802  39424    Valid         H4     4.27  Found   \n",
      "\n",
      "         year    reclat    reclong               GeoLocation  \n",
      "35353  1999.0 -84.00000  168.00000  (-84.000000, 168.000000)  \n",
      "23779  2001.0 -79.68333  155.75000  (-79.683330, 155.750000)  \n",
      "28748  2006.0   0.00000    0.00000      (0.000000, 0.000000)  \n",
      "33082  1994.0 -84.00000  168.00000  (-84.000000, 168.000000)  \n",
      "42782  1986.0 -71.50000   35.66667   (-71.500000, 35.666670)  \n",
      "...       ...       ...        ...                       ...  \n",
      "26373  1941.0  39.80000  -84.81667   (39.800000, -84.816670)  \n",
      "42123  1979.0 -71.50000   35.66667   (-71.500000, 35.666670)  \n",
      "8351   2002.0       NaN        NaN                       NaN  \n",
      "42791  1986.0 -71.50000   35.66667   (-71.500000, 35.666670)  \n",
      "44793  1998.0   0.00000    0.00000      (0.000000, 0.000000)  \n",
      "\n",
      "[2000 rows x 10 columns]\n",
      "<class 'pandas.core.frame.DataFrame'>\n"
     ]
    }
   ],
   "source": [
    "# api_meteor_data.to_csv('api_meteor_data.csv')  \n",
    "# randomly selects 2000 data points and puts them in data frame\n",
    "api_meteor_data = meteor.loc[np.random.randint(len(meteor), size = 2000)]\n",
    "print(api_meteor_data)\n",
    "print(type(api_meteor_data))"
   ]
  },
  {
   "cell_type": "markdown",
   "metadata": {},
   "source": [
    "# Select 2000 points and save as CSV "
   ]
  },
  {
   "cell_type": "code",
   "execution_count": 14,
   "metadata": {},
   "outputs": [
    {
     "name": "stdout",
     "output_type": "stream",
     "text": [
      "<class 'pandas.core.frame.DataFrame'>\n"
     ]
    },
    {
     "ename": "AttributeError",
     "evalue": "'builtin_function_or_method' object has no attribute 'append'",
     "output_type": "error",
     "traceback": [
      "\u001b[0;31m---------------------------------------------------------------------------\u001b[0m",
      "\u001b[0;31mAttributeError\u001b[0m                            Traceback (most recent call last)",
      "\u001b[0;32m<ipython-input-14-8e0103c74584>\u001b[0m in \u001b[0;36m<module>\u001b[0;34m\u001b[0m\n\u001b[1;32m      9\u001b[0m \u001b[0;32mfor\u001b[0m \u001b[0mrow\u001b[0m \u001b[0;32min\u001b[0m \u001b[0mreader\u001b[0m\u001b[0;34m:\u001b[0m\u001b[0;34m\u001b[0m\u001b[0;34m\u001b[0m\u001b[0m\n\u001b[1;32m     10\u001b[0m \u001b[0;31m#     print(row)\u001b[0m\u001b[0;34m\u001b[0m\u001b[0;34m\u001b[0m\u001b[0;34m\u001b[0m\u001b[0m\n\u001b[0;32m---> 11\u001b[0;31m     \u001b[0mall\u001b[0m\u001b[0;34m.\u001b[0m\u001b[0mappend\u001b[0m\u001b[0;34m(\u001b[0m\u001b[0mrow\u001b[0m\u001b[0;34m)\u001b[0m\u001b[0;34m\u001b[0m\u001b[0;34m\u001b[0m\u001b[0m\n\u001b[0m\u001b[1;32m     12\u001b[0m \u001b[0;31m#     print(all, '\\n')\u001b[0m\u001b[0;34m\u001b[0m\u001b[0;34m\u001b[0m\u001b[0;34m\u001b[0m\u001b[0m\n\u001b[1;32m     13\u001b[0m \u001b[0mprint\u001b[0m\u001b[0;34m(\u001b[0m\u001b[0mall\u001b[0m\u001b[0;34m)\u001b[0m\u001b[0;34m\u001b[0m\u001b[0;34m\u001b[0m\u001b[0m\n",
      "\u001b[0;31mAttributeError\u001b[0m: 'builtin_function_or_method' object has no attribute 'append'"
     ]
    }
   ],
   "source": [
    "meteor_test = pd.read_csv('meteorite-landings.csv')\n",
    "meteor_test_2000 = meteor.loc[np.random.randint(len(meteor), size = 2000)]\n",
    "\n",
    "reader = csv.DictReader(\n",
    "    open(\"meteor_test_2000.csv\"),\n",
    "    fieldnames=['order', 'name', 'id', 'nametype', 'recclass', 'mass', 'fall', 'year', 'reclat', 'reclong', 'GeoLocation']\n",
    ")\n",
    "all_meteors = []\n",
    "for row in reader:\n",
    "#     print(row)\n",
    "    all.append(row)\n",
    "#     print(all, '\\n')\n",
    "print(all)\n",
    "\n",
    "# all.to_csv('meteor_test_50.csv')\n"
   ]
  },
  {
   "cell_type": "code",
   "execution_count": null,
   "metadata": {},
   "outputs": [],
   "source": [
    "# Formatting"
   ]
  },
  {
   "cell_type": "code",
   "execution_count": 20,
   "metadata": {},
   "outputs": [
    {
     "ename": "KeyError",
     "evalue": "'msss'",
     "output_type": "error",
     "traceback": [
      "\u001b[0;31m---------------------------------------------------------------------------\u001b[0m",
      "\u001b[0;31mKeyError\u001b[0m                                  Traceback (most recent call last)",
      "\u001b[0;32m~/Library/Python/3.7/lib/python/site-packages/pandas/core/indexes/base.py\u001b[0m in \u001b[0;36mget_loc\u001b[0;34m(self, key, method, tolerance)\u001b[0m\n\u001b[1;32m   2645\u001b[0m             \u001b[0;32mtry\u001b[0m\u001b[0;34m:\u001b[0m\u001b[0;34m\u001b[0m\u001b[0;34m\u001b[0m\u001b[0m\n\u001b[0;32m-> 2646\u001b[0;31m                 \u001b[0;32mreturn\u001b[0m \u001b[0mself\u001b[0m\u001b[0;34m.\u001b[0m\u001b[0m_engine\u001b[0m\u001b[0;34m.\u001b[0m\u001b[0mget_loc\u001b[0m\u001b[0;34m(\u001b[0m\u001b[0mkey\u001b[0m\u001b[0;34m)\u001b[0m\u001b[0;34m\u001b[0m\u001b[0;34m\u001b[0m\u001b[0m\n\u001b[0m\u001b[1;32m   2647\u001b[0m             \u001b[0;32mexcept\u001b[0m \u001b[0mKeyError\u001b[0m\u001b[0;34m:\u001b[0m\u001b[0;34m\u001b[0m\u001b[0;34m\u001b[0m\u001b[0m\n",
      "\u001b[0;32mpandas/_libs/index.pyx\u001b[0m in \u001b[0;36mpandas._libs.index.IndexEngine.get_loc\u001b[0;34m()\u001b[0m\n",
      "\u001b[0;32mpandas/_libs/index.pyx\u001b[0m in \u001b[0;36mpandas._libs.index.IndexEngine.get_loc\u001b[0;34m()\u001b[0m\n",
      "\u001b[0;32mpandas/_libs/hashtable_class_helper.pxi\u001b[0m in \u001b[0;36mpandas._libs.hashtable.PyObjectHashTable.get_item\u001b[0;34m()\u001b[0m\n",
      "\u001b[0;32mpandas/_libs/hashtable_class_helper.pxi\u001b[0m in \u001b[0;36mpandas._libs.hashtable.PyObjectHashTable.get_item\u001b[0;34m()\u001b[0m\n",
      "\u001b[0;31mKeyError\u001b[0m: 'msss'",
      "\nDuring handling of the above exception, another exception occurred:\n",
      "\u001b[0;31mKeyError\u001b[0m                                  Traceback (most recent call last)",
      "\u001b[0;32m<ipython-input-20-a5c38d4bf542>\u001b[0m in \u001b[0;36m<module>\u001b[0;34m\u001b[0m\n\u001b[1;32m      1\u001b[0m \u001b[0;31m# Daily sales volume for august 2018\u001b[0m\u001b[0;34m\u001b[0m\u001b[0;34m\u001b[0m\u001b[0;34m\u001b[0m\u001b[0m\n\u001b[0;32m----> 2\u001b[0;31m \u001b[0mmass\u001b[0m \u001b[0;34m=\u001b[0m \u001b[0mmeteor_test_2000\u001b[0m\u001b[0;34m[\u001b[0m\u001b[0;34m\"msss\"\u001b[0m\u001b[0;34m]\u001b[0m\u001b[0;34m.\u001b[0m\u001b[0mvalue_counts\u001b[0m\u001b[0;34m(\u001b[0m\u001b[0;34m)\u001b[0m\u001b[0;34m\u001b[0m\u001b[0;34m\u001b[0m\u001b[0m\n\u001b[0m\u001b[1;32m      3\u001b[0m \u001b[0mmass\u001b[0m\u001b[0;34m.\u001b[0m\u001b[0mplot\u001b[0m\u001b[0;34m(\u001b[0m\u001b[0;34m)\u001b[0m\u001b[0;34m\u001b[0m\u001b[0;34m\u001b[0m\u001b[0m\n\u001b[1;32m      4\u001b[0m \u001b[0mplt\u001b[0m\u001b[0;34m.\u001b[0m\u001b[0mtitle\u001b[0m\u001b[0;34m(\u001b[0m\u001b[0;34m'Mass vs Year'\u001b[0m\u001b[0;34m)\u001b[0m\u001b[0;34m\u001b[0m\u001b[0;34m\u001b[0m\u001b[0m\n\u001b[1;32m      5\u001b[0m \u001b[0mplt\u001b[0m\u001b[0;34m.\u001b[0m\u001b[0mylabel\u001b[0m\u001b[0;34m(\u001b[0m\u001b[0;34m'Mass'\u001b[0m\u001b[0;34m)\u001b[0m\u001b[0;34m\u001b[0m\u001b[0;34m\u001b[0m\u001b[0m\n",
      "\u001b[0;32m~/Library/Python/3.7/lib/python/site-packages/pandas/core/frame.py\u001b[0m in \u001b[0;36m__getitem__\u001b[0;34m(self, key)\u001b[0m\n\u001b[1;32m   2798\u001b[0m             \u001b[0;32mif\u001b[0m \u001b[0mself\u001b[0m\u001b[0;34m.\u001b[0m\u001b[0mcolumns\u001b[0m\u001b[0;34m.\u001b[0m\u001b[0mnlevels\u001b[0m \u001b[0;34m>\u001b[0m \u001b[0;36m1\u001b[0m\u001b[0;34m:\u001b[0m\u001b[0;34m\u001b[0m\u001b[0;34m\u001b[0m\u001b[0m\n\u001b[1;32m   2799\u001b[0m                 \u001b[0;32mreturn\u001b[0m \u001b[0mself\u001b[0m\u001b[0;34m.\u001b[0m\u001b[0m_getitem_multilevel\u001b[0m\u001b[0;34m(\u001b[0m\u001b[0mkey\u001b[0m\u001b[0;34m)\u001b[0m\u001b[0;34m\u001b[0m\u001b[0;34m\u001b[0m\u001b[0m\n\u001b[0;32m-> 2800\u001b[0;31m             \u001b[0mindexer\u001b[0m \u001b[0;34m=\u001b[0m \u001b[0mself\u001b[0m\u001b[0;34m.\u001b[0m\u001b[0mcolumns\u001b[0m\u001b[0;34m.\u001b[0m\u001b[0mget_loc\u001b[0m\u001b[0;34m(\u001b[0m\u001b[0mkey\u001b[0m\u001b[0;34m)\u001b[0m\u001b[0;34m\u001b[0m\u001b[0;34m\u001b[0m\u001b[0m\n\u001b[0m\u001b[1;32m   2801\u001b[0m             \u001b[0;32mif\u001b[0m \u001b[0mis_integer\u001b[0m\u001b[0;34m(\u001b[0m\u001b[0mindexer\u001b[0m\u001b[0;34m)\u001b[0m\u001b[0;34m:\u001b[0m\u001b[0;34m\u001b[0m\u001b[0;34m\u001b[0m\u001b[0m\n\u001b[1;32m   2802\u001b[0m                 \u001b[0mindexer\u001b[0m \u001b[0;34m=\u001b[0m \u001b[0;34m[\u001b[0m\u001b[0mindexer\u001b[0m\u001b[0;34m]\u001b[0m\u001b[0;34m\u001b[0m\u001b[0;34m\u001b[0m\u001b[0m\n",
      "\u001b[0;32m~/Library/Python/3.7/lib/python/site-packages/pandas/core/indexes/base.py\u001b[0m in \u001b[0;36mget_loc\u001b[0;34m(self, key, method, tolerance)\u001b[0m\n\u001b[1;32m   2646\u001b[0m                 \u001b[0;32mreturn\u001b[0m \u001b[0mself\u001b[0m\u001b[0;34m.\u001b[0m\u001b[0m_engine\u001b[0m\u001b[0;34m.\u001b[0m\u001b[0mget_loc\u001b[0m\u001b[0;34m(\u001b[0m\u001b[0mkey\u001b[0m\u001b[0;34m)\u001b[0m\u001b[0;34m\u001b[0m\u001b[0;34m\u001b[0m\u001b[0m\n\u001b[1;32m   2647\u001b[0m             \u001b[0;32mexcept\u001b[0m \u001b[0mKeyError\u001b[0m\u001b[0;34m:\u001b[0m\u001b[0;34m\u001b[0m\u001b[0;34m\u001b[0m\u001b[0m\n\u001b[0;32m-> 2648\u001b[0;31m                 \u001b[0;32mreturn\u001b[0m \u001b[0mself\u001b[0m\u001b[0;34m.\u001b[0m\u001b[0m_engine\u001b[0m\u001b[0;34m.\u001b[0m\u001b[0mget_loc\u001b[0m\u001b[0;34m(\u001b[0m\u001b[0mself\u001b[0m\u001b[0;34m.\u001b[0m\u001b[0m_maybe_cast_indexer\u001b[0m\u001b[0;34m(\u001b[0m\u001b[0mkey\u001b[0m\u001b[0;34m)\u001b[0m\u001b[0;34m)\u001b[0m\u001b[0;34m\u001b[0m\u001b[0;34m\u001b[0m\u001b[0m\n\u001b[0m\u001b[1;32m   2649\u001b[0m         \u001b[0mindexer\u001b[0m \u001b[0;34m=\u001b[0m \u001b[0mself\u001b[0m\u001b[0;34m.\u001b[0m\u001b[0mget_indexer\u001b[0m\u001b[0;34m(\u001b[0m\u001b[0;34m[\u001b[0m\u001b[0mkey\u001b[0m\u001b[0;34m]\u001b[0m\u001b[0;34m,\u001b[0m \u001b[0mmethod\u001b[0m\u001b[0;34m=\u001b[0m\u001b[0mmethod\u001b[0m\u001b[0;34m,\u001b[0m \u001b[0mtolerance\u001b[0m\u001b[0;34m=\u001b[0m\u001b[0mtolerance\u001b[0m\u001b[0;34m)\u001b[0m\u001b[0;34m\u001b[0m\u001b[0;34m\u001b[0m\u001b[0m\n\u001b[1;32m   2650\u001b[0m         \u001b[0;32mif\u001b[0m \u001b[0mindexer\u001b[0m\u001b[0;34m.\u001b[0m\u001b[0mndim\u001b[0m \u001b[0;34m>\u001b[0m \u001b[0;36m1\u001b[0m \u001b[0;32mor\u001b[0m \u001b[0mindexer\u001b[0m\u001b[0;34m.\u001b[0m\u001b[0msize\u001b[0m \u001b[0;34m>\u001b[0m \u001b[0;36m1\u001b[0m\u001b[0;34m:\u001b[0m\u001b[0;34m\u001b[0m\u001b[0;34m\u001b[0m\u001b[0m\n",
      "\u001b[0;32mpandas/_libs/index.pyx\u001b[0m in \u001b[0;36mpandas._libs.index.IndexEngine.get_loc\u001b[0;34m()\u001b[0m\n",
      "\u001b[0;32mpandas/_libs/index.pyx\u001b[0m in \u001b[0;36mpandas._libs.index.IndexEngine.get_loc\u001b[0;34m()\u001b[0m\n",
      "\u001b[0;32mpandas/_libs/hashtable_class_helper.pxi\u001b[0m in \u001b[0;36mpandas._libs.hashtable.PyObjectHashTable.get_item\u001b[0;34m()\u001b[0m\n",
      "\u001b[0;32mpandas/_libs/hashtable_class_helper.pxi\u001b[0m in \u001b[0;36mpandas._libs.hashtable.PyObjectHashTable.get_item\u001b[0;34m()\u001b[0m\n",
      "\u001b[0;31mKeyError\u001b[0m: 'msss'"
     ]
    }
   ],
   "source": []
  },
  {
   "cell_type": "markdown",
   "metadata": {},
   "source": [
    "# Convert to Key : Value pairs"
   ]
  },
  {
   "cell_type": "code",
<<<<<<< HEAD
   "execution_count": 3,
=======
   "execution_count": 51,
>>>>>>> ff3f7b1452592735eca5d314e263a91bc3d685e2
   "metadata": {},
   "outputs": [
    {
     "name": "stdout",
     "output_type": "stream",
     "text": [
      "<class 'list'>\n"
     ]
    }
   ],
   "source": [
    "file = \"meteor_test_2000.csv\"\n",
    "\n",
    "meteor_kv = []\n",
    "\n",
    "with open(file, mode='r') as input_file:\n",
    "    rows = []\n",
    "    for row in input_file:\n",
    "        rows.append(row.rstrip('\\n').split(\",\"))\n",
    "    keys = rows[0]\n",
    "    for values in rows[1:]:\n",
    "        meteor_kv.append(dict(zip(keys, values)))\n",
    "print(meteor_kv)\n",
    "\n",
    "# file = \"meteor_test_2000.csv\"\n",
    "# meteor_kv = []\n",
    "# with open(file, mode='r') as input_file:\n",
    "#     rows = []\n",
    "#     for row in input_file:\n",
    "#         rows.append(row.rstrip('/n').split(\",\"))\n",
    "#     keys = rows[0]\n",
    "#     for values in rows[1:]:\n",
    "#         meteor_kv.append(dict(zip(keys, values)))\n",
    "# print(meteor_kv)\n",
    "# # print(meteor_test_2000)"
   ]
  },
  {
   "cell_type": "markdown",
   "metadata": {},
   "source": [
    "# Convert to txt file\n"
   ]
  },
  {
   "cell_type": "code",
   "execution_count": 46,
   "metadata": {},
   "outputs": [],
   "source": [
    "with open('2000_meteors.txt', 'w') as f:\n",
    "    for item in my_list:\n",
    "        f.write(\"%s\\n\" % item)"
   ]
  },
  {
   "cell_type": "markdown",
   "metadata": {},
   "source": [
    "# Geolocation conversion"
   ]
  },
  {
   "cell_type": "code",
   "execution_count": 10,
   "metadata": {
    "scrolled": true
   },
   "outputs": [
    {
     "ename": "ModuleNotFoundError",
     "evalue": "No module named 'geopy'",
     "output_type": "error",
     "traceback": [
      "\u001b[0;31m---------------------------------------------------------------------------\u001b[0m",
      "\u001b[0;31mModuleNotFoundError\u001b[0m                       Traceback (most recent call last)",
      "\u001b[0;32m<ipython-input-10-0b1551b7d707>\u001b[0m in \u001b[0;36m<module>\u001b[0;34m\u001b[0m\n\u001b[1;32m     12\u001b[0m \u001b[0;31m# print(location.address)\u001b[0m\u001b[0;34m\u001b[0m\u001b[0;34m\u001b[0m\u001b[0;34m\u001b[0m\u001b[0m\n\u001b[1;32m     13\u001b[0m \u001b[0;34m\u001b[0m\u001b[0m\n\u001b[0;32m---> 14\u001b[0;31m \u001b[0;32mfrom\u001b[0m \u001b[0mgeopy\u001b[0m\u001b[0;34m.\u001b[0m\u001b[0mgeocoders\u001b[0m \u001b[0;32mimport\u001b[0m \u001b[0mNominatim\u001b[0m\u001b[0;34m\u001b[0m\u001b[0;34m\u001b[0m\u001b[0m\n\u001b[0m\u001b[1;32m     15\u001b[0m \u001b[0mgeolocator\u001b[0m \u001b[0;34m=\u001b[0m \u001b[0mNominatim\u001b[0m\u001b[0;34m(\u001b[0m\u001b[0muser_agent\u001b[0m\u001b[0;34m=\u001b[0m\u001b[0;34m\"meteor_kv\"\u001b[0m\u001b[0;34m)\u001b[0m\u001b[0;34m\u001b[0m\u001b[0;34m\u001b[0m\u001b[0m\n\u001b[1;32m     16\u001b[0m \u001b[0mlocation\u001b[0m \u001b[0;34m=\u001b[0m \u001b[0mgeolocator\u001b[0m\u001b[0;34m.\u001b[0m\u001b[0mreverse\u001b[0m\u001b[0;34m(\u001b[0m\u001b[0;34m\"52.509669, 13.376294\"\u001b[0m\u001b[0;34m)\u001b[0m\u001b[0;34m\u001b[0m\u001b[0;34m\u001b[0m\u001b[0m\n",
      "\u001b[0;31mModuleNotFoundError\u001b[0m: No module named 'geopy'"
     ]
    }
   ],
   "source": [
    "# # Testing Geolocation conversion\n",
    "# geo_test = meteor_kv[2]\n",
    "# geolocator = Nominatim(user_agent=\"meteor_kv\")\n",
    "# print(geo_test[9])\n",
    "\n",
    "# location = geolocator.reverse(\"52.509669, 13.376294\")\n",
    "# print(location)\n",
    "# coor = str(geo_test[9])[1:-1]\n",
    "# print(coor)\n",
    "# location = geolocator.reverse(coor)\n",
    "# print(location)\n",
    "# print(location.address)\n",
    "\n",
    "from geopy.geocoders import Nominatim\n",
    "geolocator = Nominatim(user_agent=\"meteor_kv\")\n",
    "location = geolocator.reverse(\"52.509669, 13.376294\")\n",
    "print(location.address)"
   ]
  },
  {
   "cell_type": "markdown",
   "metadata": {},
   "source": [
    "# Testing graph with 2000 points "
   ]
  },
  {
   "cell_type": "code",
<<<<<<< HEAD
   "execution_count": 16,
=======
   "execution_count": 52,
>>>>>>> ff3f7b1452592735eca5d314e263a91bc3d685e2
   "metadata": {},
   "outputs": [
    {
     "name": "stdout",
     "output_type": "stream",
     "text": [
      "Maximum mass:  3800000.0\n",
      "Minimum mass:  0.0\n",
<<<<<<< HEAD
      "Mean mass:  6203.516374057315\n",
=======
      "Mean mass:  3681.119818866031\n",
>>>>>>> ff3f7b1452592735eca5d314e263a91bc3d685e2
      "<class 'pandas.core.frame.DataFrame'>\n"
     ]
    },
    {
     "data": {
      "text/plain": [
       "Text(0, 0.5, 'year')"
      ]
     },
<<<<<<< HEAD
     "execution_count": 16,
=======
     "execution_count": 52,
>>>>>>> ff3f7b1452592735eca5d314e263a91bc3d685e2
     "metadata": {},
     "output_type": "execute_result"
    },
    {
     "data": {
      "image/png": "iVBORw0KGgoAAAANSUhEUgAAAYsAAAEWCAYAAACXGLsWAAAABHNCSVQICAgIfAhkiAAAAAlwSFlzAAALEgAACxIB0t1+/AAAADh0RVh0U29mdHdhcmUAbWF0cGxvdGxpYiB2ZXJzaW9uMy4xLjMsIGh0dHA6Ly9tYXRwbG90bGliLm9yZy+AADFEAAAgAElEQVR4nO3df5xdVXnv8c83kyEdEBiQaJMJIaAhCnIlMkK8VEWqBLRKBBWot1C1oKD3itrUpFpRlIJGa0UsiDUiKhEoMdCKTVFQLBIgaQIBSSQBlAyBRGEAZQz58dw/9jph5+T8mpnzYzLn+369zmv2WXufvZ+zZ+Y8Z6+19lqKCMzMzCoZ0+oAzMxs5HOyMDOzqpwszMysKicLMzOrysnCzMyqcrIwM7OqnCzMRghJMyUtanUco4Wk6ySd0Oo4RgsnC0PSw5Kek7RfUflySSFpSg37OEbSukbFWOaYIekPkn4v6XeSfiLplEG8vikxD+I4FwAXNTqeNvJ54HOtDmK0cLKwgoeA0wpPJB0G7N66cJ4naWyF1a+MiBcA04ArgEskndeUwOpI0quBvSNiSatj2dUpMyYi7gT2ktTb6phGAycLK/gOcHru+RnAlfkNJI2T9EVJv5H0uKTLJHVJ2gP4ETAxfcv/vaSJksZImiNpbfrmf42kfXP7e5uk+yT1S/qppJfn1j0s6eOS7gH+UCVhEBG/jYjvAGcDcyW9MO3nPZLul/SMpAclvT+Vl4v5SEm3p5jWS7pE0m7pNZL0ZUkbJD0taaWkVwzl3JR4CycAPys63yHpHEkPpPg/K+klkn6Rjn9NLrZ9JP2HpI2SnkzLk3L7+uv0/p+R9JCkd6fyl0r6maSnJP1W0tWlzq+kH0n6UFHZ3ZJOqnReirZ/p6RlRWUflXR9pXNY4/v7qaQLJN0GPAsclFb9FHhLqfdkgxQRfrT5A3gYeCOwGng50AGsAw4AApiStvsycAOwL7An8O/AhWndMcC6ov1+GFgCTALGAV8HFqR1BwN/AN4EdAJ/B6wBdsvFtALYH+gqE3cALy0q6wS2ACek528BXgIIeD3ZB8mrKsR8BDADGAtMAe4Hzk3rZgLLgO60v5cDE4Zybkq8l2uB2SXe3/XAXsChwCbgJ2QfhHsDvwTOSNu+EDiZ7Gpwz7S/RWndHsDTwLT0fAJwaFpeAHyC7IvjnwB/Via+04Hbcs8PAfrT77XseSnaxzjgCeDlubLlwMk1nMOy7y+t/ynwm3SexgKdqfyjwMJW/4+NhkfLA/Cj9Q+eTxafBC4EjgduSv90kT40Rfbh/pLc614DPJSWS33w3g/8ee75BGBz2u8/ANfk1o0B+oBjcjG9t0rcOyWLVP4Y8O4yr1kEfLhczCW2Pxf4QVo+FvgVWTIZk9tm0OemxHFuAj5Q4v0dnXu+DPh47vmXgH8us7/DgSfT8h7pg/1kihIv2dXj5cCkKvHtmd7jAen5BcD8SuelzH4uBS5Iy4cCT5IlkYrnsNL7S89/CpxfYrszgZtb9b81mh6uhrK87wB/Cfw1RVVQwHiyb3XLUhVNP/CfqbycA4Af5La/H9gKvBiYCPy6sGFEbAMeAXpyr39ksG9AUmeK6Yn0/ARJSyQ9kWJ4M7BfhdcfnKo4HpP0NPCPhe0j4mbgEuBrwAZJl0vai6Gdm2JPkn0gF3s8tzxQ4vkLUty7S/q6pF+nuG8FuiV1RMQfgFOADwDrJf1Q0svSPv6O7IP6zlQl+N5SwUXEM8APgVNT0WnA99K6cuellG8DfylJwF+RfWHYRJVzWOn95fZd6u9lT7JEacPkZGHbRcSvyRq63wwsLFr9W7IPp0Mjojs99o6scRmyb8HFHiGrDurOPf4kIvqAR8mSCZC1B5BVOfXlQxrC2ziRrBrqTknjgOuALwIvjohu4EayD8dy+78UWAVMjYi9gL/PbU9EXBwRR5BVwxwMzGZo56bYPWl/Q/Uxskb+o1Lcr0vlSnEvjog3kV3drQK+kcofi4gzI2Ii8H7gXyS9tMwxFgCnSXoNWZXVLYUVZc7LTiJrwH8OeC3ZF5PvpFXVzmHF91fYfYlDvhy4u8z7sUFwsrBi7wOOTd9Gt0vf/L8BfFnSiwAk9UiamTZ5HHihpL1zL7sMuEDSAWn78ZJOTOuuAd4i6c/T1cDHyOrkfzGUoCXtmxptvwZ8PiJ+B+xGVsWxEdiirM/9cbmXlYp5T7L6/d+nb99n547xaklHpXj/APwR2DbEc1PsRrI2laHak+zDtl9ZJ4LtPcIkvVjSicoa2zcBvwe2pXXvzDUUP0n2gbutQowHAOcDV6f3Xfa8VIj1SrIrkc0R8d9Q099X2fdXxevJOhjYMDlZ2A4iYm1ELC2z+uNkjdBLUlXAj8m+7RERq8i+eT6YqhEmAl8ha7D8L0nPkDV2H5W2Xw38H+CrZN8q3wq8NSKeG2TId0v6fYrrb4CPRMSn0jGeAf4fWWJ6kuyb7A2591oq5r9N2z1D9uGV7x20Vyp7kqwK7XfAvCGemx1ExP8AT0k6apDvv+CfgS6yc7mErAqnYAxZQ++jZNVzr+f5JPhq4I50Dm8ga895sNQBUnXRQrL2ratyqyqdl1K+A7wC+G5RedlzWOX9laSsO/LvI+tCa8OkCE9+ZDYSSDoOOCciZrU6lkZK3WE3kPVKe6CBx7kO+GZE3NioY7QTJwszaypJHwX+IiKObXUsVruKNzqZmdWTpIfJGqVH9dXTaOQrCzMzq8oN3GZmVtWorYbab7/9YsqUKa0Ow8xsl7Fs2bLfRkTJm0lHbbKYMmUKS5eW6wFqZmbFJP263DpXQ5mZWVVOFmZmVpWThZmZVeVkYWZmVTlZmJlZVaO2N9RQvHTuD9mSu0dxrGDNhZ6R0czMVxZJcaIA2BJZuZlZu/OVRVKcKKqVt8Ki5X3MW7yaR/sHmNjdxeyZ05g1vaf6C60mPr9m5TlZ7CIWLe9j7sKVDGzeCkBf/wBzF64E8AdaHfj8mlXmaqgaTJnzQ46+6GYWLe+rvnGDzFu8evsHWcHA5q3MW7y6RRGNLj6/ZpU5WdSor3+Aj1y9omWJ49H+gUGV2+D4/JpV1rBkIWl/SbdI+qWk+yR9OJXvK+kmSQ+kn/ukckm6WNIaSfdIelVuX2ek7R+QdEajYq6m0HzR1z/AuVevYPr5/9W0pDGxu2tQ5TY4Pr9mlTXyymIL8LGIOASYAXxQ0iHAHOAnETEV+El6DnACMDU9zgIuhSy5kE3OfhRwJHBeIcG02pPPbmbuwpVNSRizZ06jq7Njh7Kuzg5mz5xW5hU2GD6/ZpU1LFlExPo0CT0R8QxwP9ADnAh8O232bZ6fMetE4MrILAG6JU0AZgI3RcQTEfEkcBNwfKPiHqxm1WvPmt7DhScdRk93FwJ6uru48KTD3PhaJz6/ZpU1pTeUpCnAdOAO4MURsT6tegx4cVruAR7JvWxdKitXXuo4Z5FdlTB58uT6BF+DZtVrz5re4w+vBvL5NSuv4Q3ckl4AXAecGxFP59dFNqdr3e5kiIjLI6I3InrHjy85f0dDuF7bzEa7hl5ZSOokSxTfi4iFqfhxSRMiYn2qZtqQyvuA/XMvn5TK+oBjisp/2si4B6NzjLbXa/umLjMbrRrZG0rAN4H7I+KfcqtuAAo9ms4Ars+Vn556Rc0AnkrVVYuB4yTtkxq2j0tlI4OyH4Wbuvr6Bwiev6mrlfdmmJnVSyOvLI4G/gpYKWlFKvt74CLgGknvA34NvCutuxF4M7AGeBZ4D0BEPCHps8BdabvzI+KJBsY9KJu3xvYG7nI3dfnqwsx2dQ1LFhHx32z/3r2TPy+xfQAfLLOv+cD8+kVXX5UauH1Tl5mNBr6Duw4mdnf5pi4zG9WcLIapcOOWb+oys9HMo84Owz67d3LeWw/doU3CvaHMbDRyshiGP27etsNz39RlZqOVq6GGwUNYm1m7cLIYJvd2MrN24GQxTO7tZGbtwMliGNzbyczahRu4B6lDYlvEkHo7eewoM9tVOVkMQldnx5DnOCiMHVUYEqQwdhTghGFmI56roWrUIQ1rMpx5i1eXHTvKzGykc7Ko0baIYV0BlOs15d5UZrYrcLKo0XB7PXnsKDPblTlZ1Gg4vZ4WLe/j2ee27FTu3lRmtqtwA3eNCm0Lg62KKm7YLuju6uTTbzvUjdtmtkvwlUWNhjrzXamGbYA9xo11ojCzXYaTxSAMpfeSG7bNbDRo5Bzc8yVtkHRvruyVkm6XtFLSv0vaK5VPkTQgaUV6XJZ7zRFp+zWSLk5ze7fMYD/k3bBtZqNBI68srgCOLyr7V2BORBwG/ACYnVu3NiIOT48P5MovBc4EpqZH8T7rYp/dO2vabozEgXN+yNEX3VxTlZQnRTKz0aBhySIibgWeKCo+GLg1Ld8EnFxpH5ImAHtFxJI0R/eVwKx6xwpw3lsPrWm7rREEtbdhzJrew4UnHUZPdxcCerq7hnVzn5lZKzS7N9R9wInAIuCdwP65dQdKWg48DXwyIn4O9ADrctusS2UlSToLOAtg8uTJgwps1vQerl36G25bu2N+6xwDW7ZlVxRbI3ZYV2jDqPbB70mRzGxX1+wG7vcC50haBuwJPJfK1wOTI2I68FHgqkJ7xmBExOUR0RsRvePHjx/Uaz+5aOVOiQJgG+LLpxzOtqJEUeCGajNrB029soiIVcBxAJIOBt6SyjcBm9LyMklryaqs+oBJuV1MSmV1t+COR0qWb90WzFu8mondXfSVSAxuqDazdtDUKwtJL0o/xwCfBC5Lz8dL6kjLB5E1ZD8YEeuBpyXNSL2gTgeub0RsxVVMeX39Azz73BY6x+zYEcsN1WbWLhp2ZSFpAXAMsJ+kdcB5wAskfTBtshD4Vlp+HXC+pM3ANuADEVGoEzqHrGdVF/Cj9Gi6J5/dTGeH6O7q5KmBzZ6PwszaSsOSRUScVmbVV0psex1wXZn9LAVeUcfQhmzz1mCPcWNZcd5xrQ7FzKypfAf3ILlB28zakQcSTMYItpVvtthuJDRoe3pWM2s2J4uklkQBwxuqvB48PauZtYKroQZhn907W/6B7OlZzawVnCxq1NXZUfOQII3kUWzNrBWcLGowksZz8ii2ZtYKThY1uG3OsSMiUYBHsTWz1nADdx01o5dSYX/uDWVmzeRkUYNFy/uqfhg3s5eSR7E1s2ZzNVTSWeFM1NLTyL2UzGw0c7JI9hhXfqa8WnoauZeSmY1mThbJUwOby66rpaeReymZ2WjmNoukq3MMz27eVnLdG15WfSKl2TOn7dBmke2zsb2UhtOg7iFDzGwwnCySgTKJAuCWVRurvr7ZvZSG06DuIUPMbLCcLJJKQ0PV2u7QzF5KlRrUq8UwnNeaWXtysqhB9+7lG79bZbAN6vlqp3KJ0Y3xZlZOwxq4Jc2XtEHSvbmyV0q6XdJKSf8uaa/curmS1khaLWlmrvz4VLZG0pxGxdtVoe9shRlXW2YwDeqFaqe+Comi0j7NzBrZG+oK4Piisn8F5kTEYcAPgNkAkg4BTgUOTa/5F0kdaV7urwEnAIcAp6Vt6+7kIyaVXVepp1SrDGbYj1LVTsU8ZIiZVdKwZBERtwJPFBUfDNyalm8CTk7LJwLfj4hNEfEQsAY4Mj3WRMSDEfEc8P20bd39x93ry64bid+4Z03v4cKTDqOnuwtRebDDStVL1V5rZgbNb7O4j+zDfhHwTmD/VN4DLMltty6VATxSVH5UuZ1LOgs4C2Dy5MmDCqy/wtXDG142nqMvunnEdTOttUF9YncXfSUSRk93F7fNObYRoZnZKNPsm/LeC5wjaRmwJ/BcPXceEZdHRG9E9I4fX/3eiFpdfdcj2+v7C91MFy3vq9v+G80j1ZrZcDU1WUTEqog4LiKOABYAa9OqPp6/ygCYlMrKldfd7hUauDdv3bFZeFcb82kwVVZmZqU0tRpK0osiYoOkMcAngcvSqhuAqyT9EzARmArcSValPlXSgWRJ4lTgLxsR27jOjrJ3cJeyq3Uz9Ui1ZjYcDUsWkhYAxwD7SVoHnAe8QNIH0yYLgW8BRMR9kq4BfglsAT4YEVvTfj4ELAY6gPkRcV8j4n3y2cH1eBqJjd5mZo3SsGQREaeVWfWVMttfAFxQovxG4MY6hlaSVPv9FK7vN7ORptHjvfkO7qRSouju6mSPcWNHXG8oMzNoznhvHqK8Bv0Dm+nrH2Dvrk4nCjMbcZox+ZqTxSD0D2xm9rV371LdZs1s9GvG5Guuhhqkzdtie7b2fBBmNhKUu/G2nh1xfGUxBIX6wF35Rj0zGz2aceOtryyGoEOqWD/oKw4za6ZmTL7mZDFInWPE5m2lu04VrjA8A52ZNVujb7x1NdQgdHd1Mu+dr6SnQj1go3skmJm1gq8skj126+APz+0858Meu3Vw3/nF03KwwxVENbva0CBmZsV8ZZG8/VWlL99KlecH5quFhwYxs12dk0Vyy6qNgyqfNb2H2+Yci6rs10ODmNlo4GSRlKsq6usf4MA5P+Toi24u2TW20lWDhwI3s9HCySLZu6uz7LpK91KU69/8z6cczm1zjnWiMLNRwckiUbX6JEr3bPLEQmbWDtwbKumvcT6LUtVVnljIzEY7X1kku+/WUX0j3LPJzNpTw5KFpPmSNki6N1d2uKQlklZIWirpyFR+jKSnUvkKSZ/KveZ4SaslrZE0p1HxPlviHoti7tlkZu2qkVcWVwDFd7N9AfhMRBwOfCo9L/h5RByeHucDSOoAvgacABwCnCbpkEYEW2mSPLdFmFm7a+S0qrdKmlJcDOyVlvcGHq2ymyOBNRHxIICk7wMnks3VXVcdEltLTJcn4KGL3lLvw5mZ7VKa3WZxLjBP0iPAF4G5uXWvkXS3pB9JOjSV9QCP5LZZl8rq7rSj9i9ZPmaMPPS4mbW9ZieLs4GPRMT+wEeAb6by/wEOiIhXAl8FFg1l55LOSm0hSzduLH3n9WBtzU12ZGbWrpqdLM4AFqbla8mqmYiIpyPi92n5RqBT0n5AH5D/yj8plZUUEZdHRG9E9I4fP35QgV11x2/KrvNAgGbW7pqdLB4FXp+WjwUeAJD0p1J2W1zqITUG+B1wFzBV0oGSdgNOBW5oRGBlpqgA3F3WzKxhDdySFgDHAPtJWgecB5wJfEXSWOCPwFlp83cAZ0vaAgwAp0ZEAFskfQhYDHQA8yPivkbFXI67y5pZu2tkb6jTyqw6osS2lwCXlNnPjcCNdQxt0Nxd1szane/gNjOzqpwsko4yIwmWKzczaycVq6EkjQFmRMQvmhRPy5S6Ia9QfvRFN/No/wATu7uYPXOaq6XMrO1UvLKIiG1kw22MeuWmSBXZXBaV5rQwMxvtaqmG+omkkwtdW0erUpMYiZ3HjCo1p4WZ2WhXS7J4P9kNdJskPS3pGUlPNziupis1iVG5Wy98k56ZtZuqXWcjYs9mBDISFE9idPRFN9NXIjH4Jj0zazc19YaStI+kIyW9rvBodGAjQbn5tX2Tnpm1m6pXFpL+Bvgw2bhMK4AZwO1kw3WMaoWrjHmLV7s3lJm1tVru4P4w8GpgSUS8QdLLgH9sbFgjh+fXNjOrLVn8MSL+KAlJ4yJilaRRWw+zaHmfryTMzIrUkizWSeomm2PiJklPAr9ubFitsWh5H3MXrmRgczYfd+G+CvD4UGbW3mrpDfX2tPhpSbeQTYf6nw2NqkU+fcN92xNFQeG+CicLM2tnNY06K+nPgKkR8S1J48mmNn2ooZE12aLlffQPbC65zvdVmFm7q9p1VtJ5wMd5fr7sTuC7jQyqFSrdlb13V2cTIzEzG3lquc/i7cDbgD8ARMSjwKi7Ua/S1cPoHujEzKy6WpLFc2nWugCQtEdjQ2qNSndl9z9bunrKzKxd1JIsrpH0daBb0pnAj4Fv1LJzSfMlbZB0b67scElLJK2QtDTNuY0yF0taI+keSa/KveYMSQ+kxxmDe4u1mT1zGuUuIDy8h5m1u5quLMgSxHXANOBTEfHVGvd/BXB8UdkXgM9ExOHAp9JzgBOAqelxFnApgKR9yebvPgo4EjhP0j41Hr9ms6b38O4Zk3dKGB7ew8ystmTxIuBC4ACypPHjWnceEbcCTxQXA3ul5b2BR9PyicCVkVlCdiUzAZgJ3BQRT0TEk8BN7JyA6uJzsw7jy6ccvsPIsxeedJi7zZpZ26vlPotPSvoH4DjgPcAlkq4BvhkRa4dwzHOBxZK+SJas/ncq7wEeyW23LpWVK9+JpLPIrkqYPHnyEELz8B5mZqXUNOpsauB+LD22APsA/ybpCxVfWNrZwEciYn/gI8A3h7CPcnFeHhG9EdE7fvz4eu3WzKzt1XKfxYclLSNrW7gNOCwizgaOAE4ewjHPABam5WvJ2iEA+oD9c9tNSmXlys3MrElqubLYFzgpImZGxLURsRm2z8/9F0M45qPA69PyscADafkG4PTUK2oG8FRErAcWA8elOTX2IasOWzyE45qZ2RDV0mZxXoV191d6raQFwDHAfpLWkfVqOhP4iqSxwB9JbQzAjcCbgTXAs2TtI0TEE5I+C9yVtjs/Ioobzc3MrIGUNUeMPr29vbF06dJBvcbDk5tZO5O0LCJ6S62raSDBduDhyc3MyqupN1Q7mLd4ddnhyc3M2p2TRVJuIEEPT25m5mSxXbnxnzwulJmZk8V2s2dOo6uzY4cyjwtlZpZxA3dSaMR2bygzs505WeR4XCgzs9JcDWVmZlU5WZiZWVVOFmZmVpWThZmZVeVkYWZmVTlZmJlZVU4WZmZWlZOFmZlV5WRhZmZVNSxZSJovaYOke3NlV0takR4PS1qRyqdIGsituyz3miMkrZS0RtLFktSomM3MrLRGDvdxBXAJcGWhICJOKSxL+hLwVG77tRFxeIn9XEo2FesdZFOvHg/8qAHxmplZGQ27soiIW4GSc2Wnq4N3AQsq7UPSBGCviFgS2fyvVwKz6h2rmZlV1qo2i9cCj0fEA7myAyUtl/QzSa9NZT3Autw261JZSZLOkrRU0tKNGzfWP2ozszbVqmRxGjteVawHJkfEdOCjwFWS9hrsTiPi8ojojYje8ePH1ylUMzNr+hDlksYCJwFHFMoiYhOwKS0vk7QWOBjoAyblXj4plZmZWRO14srijcCqiNhevSRpvKSOtHwQMBV4MCLWA09LmpHaOU4Hrm9BzGZmba2RXWcXALcD0yStk/S+tOpUdm7Yfh1wT+pK+2/AByKi0Dh+DvCvwBpgLe4JZWbWdMo6GY0+vb29sXTp0laHYWa2y5C0LCJ6S63zHdxmZlaVk4WZmVXlZGFmZlU5WZiZWVVOFmZmVpWThZmZVeVkYWZmVTlZmJlZVU4WZmZWVdMHEhzJFi3vY97i1TzaP8DE7i5mz5zGrOllR0Q3M2sbThbJouV9zF24koHNWwHo6x9g7sKVAE4YZtb2XA2VzFu8enuiKBjYvJV5i1e3KCIzs5HDySJ5tH9gUOVmZu3EySKZ2N01qHIzs3biZJHMnjmNrs6OHcq6OjuYPXNaiyIyMxs53MCdFBqx3RvKzGxnThY5s6b3ODmYmZXQyGlV50vaIOneXNnVklakx8NpGtXCurmS1khaLWlmrvz4VLZG0pxGxWtmZuU18sriCuAS4MpCQUScUliW9CXgqbR8CNnc3IcCE4EfSzo4bfo14E3AOuAuSTdExC8bGLeZmRVpWLKIiFslTSm1TpKAdwHHpqITge9HxCbgIUlrgCPTujUR8WB63ffTtk4WZmZN1KreUK8FHo+IB9LzHuCR3Pp1qaxceUmSzpK0VNLSjRs31jlkM7P21apkcRqwoN47jYjLI6I3InrHjx9f792bmbWtpveGkjQWOAk4IlfcB+yfez4plVGh3MzMmqQVVxZvBFZFxLpc2Q3AqZLGSToQmArcCdwFTJV0oKTdyBrBb2h6xGZmba6RXWcXALcD0yStk/S+tOpUiqqgIuI+4Bqyhuv/BD4YEVsjYgvwIWAxcD9wTdrWzMyaSBHR6hgaore3N5YuXdrqMMzMdhmSlkVEb6l1HhvKzMyqcrIwM7OqnCzMzKwqJwszM6vKycLMzKpysjAzs6qcLMzMrConCzMzq8rJwszMqnKyMDOzqpwszMysKicLMzOrysnCzMyqcrIwM7OqnCzMzKwqJwszM6uqkTPlzZe0QdK9ReX/V9IqSfdJ+kIqmyJpQNKK9Lgst/0RklZKWiPpYklqVMxmZlba2Abu+wrgEuDKQoGkNwAnAq+MiE2SXpTbfm1EHF5iP5cCZwJ3ADcCxwM/alTQZma2s4ZdWUTErcATRcVnAxdFxKa0zYZK+5A0AdgrIpZENv/rlcCsRsRrZmblNbvN4mDgtZLukPQzSa/OrTtQ0vJU/tpU1gOsy22zLpWVJOksSUslLd24cWP9ozcza1ONrIYqd7x9gRnAq4FrJB0ErAcmR8TvJB0BLJJ06GB3HhGXA5cD9Pb2Rv3CNjNrb82+slgHLIzMncA2YL+I2BQRvwOIiGXAWrKrkD5gUu71k1KZmZk1UbOTxSLgDQCSDgZ2A34rabykjlR+EDAVeDAi1gNPS5qRekGdDlzf5JjNzNpew6qhJC0AjgH2k7QOOA+YD8xP3WmfA86IiJD0OuB8SZvJrjY+EBGFxvFzyHpWdZH1gnJPKDOzJlPWyWj06e3tjaVLl7Y6DDOzXYakZRHRW2qd7+A2M7OqnCzMzKyqZned3SUsWt7HvMWrebR/gIndXcyeOY1Z08ve3mFmNuo5WRRZtLyPuQtXMrB5KwB9/QPMXbgSwAnDzNqWq6GKzFu8enuiKBjYvJV5i1e3KCIzs9ZzsijS1z9QsvzRMuVmZu3AySJn0fI+yo1/PrG7q6mxmJmNJE4WOfMWr6bUXScCZs+c1uxwzMxGDCeLnHJVTYEbt82svTlZ5JSraupxFZSZtTkni5zZM6fR1dmxQ1lXZ4eroMys7fk+i5xCVZNvyDMz25GTRZFZ03ucHMzMirgayszMqnKyMDOzqpwszMysKicLMzOrysnCzMyqGrXTqkraCPx6iC/fD/htHcOpN8c3PI5veBzf8Izk+A6IiPGlVozaZDEckpaWm4d2JHB8w+P4hsfxDc9Ij68cV0OZmVlVThZmZlaVk0VplxTILtQAAAaqSURBVLc6gCoc3/A4vuFxfMMz0uMryW0WZmZWla8szMysKicLMzOrLiL8SA/geGA1sAaY06BjPAysBFYAS1PZvsBNwAPp5z6pXMDFKZ57gFfl9nNG2v4B4Ixc+RFp/2vSa1XlGPOBDcC9uX20Mp7iY1xfIr5PA33pHK4A3pxbNze9djUws9rvFjgQuCOVXw3slsrHpedr0vopZY7xbuAW4JfAfcCHR9g5vB+4q0R8I+Uc/gpYBdyd4vtMnX4v9Yr7znR+iuO7Angod/4Ob+H/yPZjNPTzsRkH2RUeQAewFjgI2C39cRzSgOM8DOxXVPaFwh8xMAf4fFp+M/Cj9McxA7gj90f0YPq5T1ou/CHdmbZVeu0JVY7xOuBV7Phh3Mp4io/xyxLxfRr42xLn9pD0extH9kGwNv1ey/5ugWuAU9PyZcDZafkc4LK0fCpwdZljPAz0pnV7kn34HTKCzuFbgJUl4htJ5/DBtP9Osg/vGXXYZz3jvi4t5+O7AnhHifPXiv+RO5ryGdmMg+wKD+A1wOLc87nA3AYc52F2ThargQlpeQKwOi1/HTiteDvgNODrufKvp7IJwKpc+fbtyh0jPZ/Cjh/GLYunzDFeTW3JYoffGbA4/V5L/m7TP9tvgbHFfwOF16blsWk7lTtG7vn1wJtG4DmcUBTfiDuHwO7A/wBH1XGf9Yw7H98VlE4WLf39NvLhNovn9QCP5J6vS2X1FsB/SVom6axU9uKIWJ+WHwNeXCWmSuXrSpRXOkYprYyn1L7+tESMH5J0j6T5kvYZYnwvBPojYkuJ+La/Jq1/Km1f9u9E0hRgOtm3z5F2DnuK4oORcw77gKvIqhtvIrsSqNfvpV5x31OILyIK5++CdP6+LGncEM9f3X6/NJiTRfP9WUS8CjgB+KCk1+VXRvZVIRoZwGCOMdLiSS4FXgIcDqwHvtSIuAZD0guA64BzI+Lp/LoRcg672DG+kXQOA5gNTAKOBF7WwljKeQMpPkmvILs6eRnZVe++wMcbefBm/A1V42TxvD5g/9zzSamsriKiL/3cAPyA7J/jcUkTANLPDVViqlQ+qcx7KHeMUloZT6l9PZYPLiIej4itEbEN+AbZORxKfL8DuiWNLSrfYV9p/d5p+3LxXQd8LyIWDuH9NeMcnp+PbwSew76I6CfrLPCaeu2znnHn4js+ItZHZhPwrWGcv3r9fuv+WVXMyeJ5dwFTJR0oaTeyhq0b6nkASXtI2rOwDBwH3JuOc0ba7AyyemVS+enKzACeSpeli4HjJO2Tqg+OI6tvXQ88LWmGJAGnF+2r1DFKaWU8Ox0D2Fh0Hifknr49ncPCa0+VNE7SgcBUssbDkr/b9G3tFuAdZeIoxPcO4Oa0faljvB+4PyL+aYSewxcCd+fjG0Hn8AhgGnCnpC6y9pT7h7nPesb9HuDnERG5+FblPsQFzCo6f03/H8lVVzVOoxtFdqUHWS+DX5HVmX6iAfs/iKw3RqEb3idS+QuBn5B1kfsxsG8qF/C1FM9KUq+btO69ZF3n1gDvyZX3kv3hrgUu4flueOWOsYCsGmIzWd3n+1ocT/ExFpeI7ztp3T1k/zgTcsf7RHrtalKvkkq/2/Q7uTPFfS0wLpX/SXpe6D55UJljfIyseuAect1QR9A5XFsmvpFyDh/m+S6g9wKfqtPvpV5xryT7Xy2O7+a07l7gu8ALWvg/sv0YjXx4uA8zM6vK1VBmZlaVk4WZmVXlZGFmZlU5WZiZWVVOFmZmVpWThZmZVeVkYWZmVTlZmA2TpCmSVkm6QtKvJH1P0hsl3SbpAUlHpsftkpZL+oWkaem1h0q6U9IKZYPSTU13+v9Q0t2S7pV0Sqvfo5lvyjMbJmWjua4hG9H1PrIhJu4mu9v8bWRDRpwOPBsRWyS9kWzuhJMlfRVYEhHfS8NRdJDdcXx8RJyZ9r93RDzV5LdltoOx1Tcxsxo8FBErASTdB/wkIkLSSrL5QvYGvi1pKtnwG53pdbcDn5A0CVgYEQ+k13xJ0ueB/4iInzf7zZgVczWUWX1syi1vyz3fRval7LPALRHxCuCtZOMPERFXkV19DAA3Sjo2In5FNjvgSuBzkj7VnLdgVp6vLMyaY2+eH0b6rwuFkg4CHoyIiyVNBv6XpFXAExHxXUn9wN80PVqzIr6yMGuOLwAXSlrOjl/S3gXcK2kF8ArgSuAwsiG7VwDnAZ9rdrBmxdzAbWZmVfnKwszMqnKyMDOzqpwszMysKicLMzOrysnCzMyqcrIwM7OqnCzMzKyq/w962EUSo/3+IwAAAABJRU5ErkJggg==\n",
      "text/plain": [
       "<Figure size 432x288 with 1 Axes>"
      ]
     },
     "metadata": {
      "needs_background": "light"
     },
     "output_type": "display_data"
    }
   ],
   "source": [
    "\n",
    "print(\"Maximum mass: \", np.max(meteor_test_2000['mass']))\n",
    "print(\"Minimum mass: \", np.min(meteor_test_2000['mass']))\n",
    "print(\"Mean mass: \",np.mean(meteor_test_2000['mass']))\n",
    "print(type(meteor_test_2000))\n",
    "\n",
    "# create a figure and axis \n",
    "fig, ax = plt.subplots() \n",
    "\n",
    "# scatter the sepal_length against the sepal_width\n",
    "ax.scatter(meteor_test_2000['mass'], meteor_test_2000['year'])\n",
    "\n",
    "# set a title and labels\n",
    "ax.set_title('Meteor Dataset (mass vs year)')\n",
    "ax.set_xlabel('mass')\n",
    "ax.set_ylabel('year')"
   ]
  },
  {
   "cell_type": "markdown",
   "metadata": {},
   "source": []
  },
  {
   "cell_type": "code",
   "execution_count": 54,
   "metadata": {},
   "outputs": [
    {
     "ename": "TypeError",
     "evalue": "list indices must be integers or slices, not str",
     "output_type": "error",
     "traceback": [
      "\u001b[0;31m-------------------------------------------------------------------------\u001b[0m",
      "\u001b[0;31mTypeError\u001b[0m                               Traceback (most recent call last)",
      "\u001b[0;32m<ipython-input-54-785a16f2a29b>\u001b[0m in \u001b[0;36m<module>\u001b[0;34m\u001b[0m\n\u001b[1;32m      2\u001b[0m \u001b[0;34m\u001b[0m\u001b[0m\n\u001b[1;32m      3\u001b[0m \u001b[0;31m# scatter the sepal_length against the sepal_width\u001b[0m\u001b[0;34m\u001b[0m\u001b[0;34m\u001b[0m\u001b[0;34m\u001b[0m\u001b[0m\n\u001b[0;32m----> 4\u001b[0;31m \u001b[0max\u001b[0m\u001b[0;34m.\u001b[0m\u001b[0mscatter\u001b[0m\u001b[0;34m(\u001b[0m\u001b[0mmeteor_kv\u001b[0m\u001b[0;34m[\u001b[0m\u001b[0;34m'mass'\u001b[0m\u001b[0;34m]\u001b[0m\u001b[0;34m,\u001b[0m \u001b[0mmeteor_kv\u001b[0m\u001b[0;34m[\u001b[0m\u001b[0;34m'year'\u001b[0m\u001b[0;34m]\u001b[0m\u001b[0;34m)\u001b[0m\u001b[0;34m\u001b[0m\u001b[0;34m\u001b[0m\u001b[0m\n\u001b[0m\u001b[1;32m      5\u001b[0m \u001b[0;34m\u001b[0m\u001b[0m\n\u001b[1;32m      6\u001b[0m \u001b[0;31m# set a title and labels\u001b[0m\u001b[0;34m\u001b[0m\u001b[0;34m\u001b[0m\u001b[0;34m\u001b[0m\u001b[0m\n",
      "\u001b[0;31mTypeError\u001b[0m: list indices must be integers or slices, not str"
     ]
    },
    {
     "data": {
      "image/png": "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\n",
      "text/plain": [
       "<Figure size 432x288 with 1 Axes>"
      ]
     },
     "metadata": {
      "needs_background": "light"
     },
     "output_type": "display_data"
    }
   ],
   "source": [
    "fig, ax = plt.subplots() \n",
    "\n",
    "# scatter the sepal_length against the sepal_width\n",
    "ax.scatter(meteor_kv['mass'], meteor_kv['year'])\n",
    "\n",
    "# set a title and labels\n",
    "ax.set_title('Meteor Dataset (mass vs year)')\n",
    "ax.set_xlabel('mass')\n",
    "ax.set_ylabel('year')"
   ]
  },
  {
   "cell_type": "code",
   "execution_count": null,
   "metadata": {},
   "outputs": [],
   "source": []
  }
 ],
 "metadata": {
  "kernelspec": {
   "display_name": "Python 3",
   "language": "python",
   "name": "python3"
  },
  "language_info": {
   "codemirror_mode": {
    "name": "ipython",
    "version": 3
   },
   "file_extension": ".py",
   "mimetype": "text/x-python",
   "name": "python",
   "nbconvert_exporter": "python",
   "pygments_lexer": "ipython3",
   "version": "3.7.6"
  }
 },
 "nbformat": 4,
 "nbformat_minor": 4
}
