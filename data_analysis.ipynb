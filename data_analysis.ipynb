{
 "cells": [
  {
   "cell_type": "markdown",
   "metadata": {},
   "source": [
    "# Analyzing Meteorite Dataset "
   ]
  },
  {
   "cell_type": "code",
   "execution_count": 3,
   "metadata": {},
   "outputs": [
    {
     "data": {
      "text/plain": [
       "'/usr/local/opt/python/bin/python3.7'"
      ]
     },
     "execution_count": 3,
     "metadata": {},
     "output_type": "execute_result"
    }
   ],
   "source": [
    "import sys\n",
    "sys.executable\n"
   ]
  },
  {
   "cell_type": "code",
   "execution_count": 4,
   "metadata": {},
   "outputs": [],
   "source": [
    "# imports\n",
    "import numpy as np\n",
    "import pandas as pd\n",
    "import matplotlib.pyplot as plt\n",
    "import seaborn as sns\n",
    "import timeit   # for testing code runtime\n",
    "from statistics import mode "
   ]
  },
  {
   "cell_type": "code",
   "execution_count": 17,
   "metadata": {},
   "outputs": [
    {
     "name": "stdout",
     "output_type": "stream",
     "text": [
      "             name     id nametype              recclass      mass   fall  \\\n",
      "0          Aachen      1    Valid                    L5      21.0   Fell   \n",
      "1          Aarhus      2    Valid                    H6     720.0   Fell   \n",
      "2            Abee      6    Valid                   EH4  107000.0   Fell   \n",
      "3        Acapulco     10    Valid           Acapulcoite    1914.0   Fell   \n",
      "4         Achiras    370    Valid                    L6     780.0   Fell   \n",
      "...           ...    ...      ...                   ...       ...    ...   \n",
      "45711  Zillah 002  31356    Valid               Eucrite     172.0  Found   \n",
      "45712      Zinder  30409    Valid  Pallasite, ungrouped      46.0  Found   \n",
      "45713        Zlin  30410    Valid                    H4       3.3  Found   \n",
      "45714   Zubkovsky  31357    Valid                    L6    2167.0  Found   \n",
      "45715  Zulu Queen  30414    Valid                  L3.7     200.0  Found   \n",
      "\n",
      "         year    reclat    reclong               GeoLocation  \n",
      "0      1880.0  50.77500    6.08333     (50.775000, 6.083330)  \n",
      "1      1951.0  56.18333   10.23333    (56.183330, 10.233330)  \n",
      "2      1952.0  54.21667 -113.00000  (54.216670, -113.000000)  \n",
      "3      1976.0  16.88333  -99.90000   (16.883330, -99.900000)  \n",
      "4      1902.0 -33.16667  -64.95000  (-33.166670, -64.950000)  \n",
      "...       ...       ...        ...                       ...  \n",
      "45711  1990.0  29.03700   17.01850    (29.037000, 17.018500)  \n",
      "45712  1999.0  13.78333    8.96667     (13.783330, 8.966670)  \n",
      "45713  1939.0  49.25000   17.66667    (49.250000, 17.666670)  \n",
      "45714  2003.0  49.78917   41.50460    (49.789170, 41.504600)  \n",
      "45715  1976.0  33.98333 -115.68333  (33.983330, -115.683330)  \n",
      "\n",
      "[45716 rows x 10 columns]\n",
      "\n",
      "\n",
      "\n",
      "\n",
      "<class 'pandas.core.frame.DataFrame'>\n",
      "RangeIndex: 45716 entries, 0 to 45715\n",
      "Data columns (total 10 columns):\n",
      " #   Column       Non-Null Count  Dtype  \n",
      "---  ------       --------------  -----  \n",
      " 0   name         45716 non-null  object \n",
      " 1   id           45716 non-null  int64  \n",
      " 2   nametype     45716 non-null  object \n",
      " 3   recclass     45716 non-null  object \n",
      " 4   mass         45585 non-null  float64\n",
      " 5   fall         45716 non-null  object \n",
      " 6   year         45428 non-null  float64\n",
      " 7   reclat       38401 non-null  float64\n",
      " 8   reclong      38401 non-null  float64\n",
      " 9   GeoLocation  38401 non-null  object \n",
      "dtypes: float64(4), int64(1), object(5)\n",
      "memory usage: 3.5+ MB\n",
      "\n",
      "\n",
      "\n",
      "\n",
      "['name', 'id', 'nametype', 'recclass', 'mass', 'fall', 'year', 'reclat', 'reclong', 'GeoLocation']\n",
      "\n",
      "\n",
      "\n",
      "\n",
      "2501.0\n",
      "301.0\n",
      "2003.0\n"
     ]
    }
   ],
   "source": [
    "meteor = pd.read_csv('meteorite-landings.csv')\n",
    "meteor = pd.DataFrame(meteor)\n",
    "\n",
    "\n",
    "print(meteor)\n",
    "print(\"\\n\\n\\n\")\n",
    "\n",
    "# print(meteor.describe())\n",
    "meteor.info()\n",
    "print(\"\\n\\n\\n\")\n",
    "\n",
    "#list all column names\n",
    "print(list(meteor.columns))\n",
    "\n",
    "print(\"\\n\\n\\n\")\n",
    "# print(meteor['fall'])\n",
    "\n",
    "print(np.max(meteor['year']))\n",
    "print(np.min(meteor['year']))\n",
    "print(mode(meteor['year']))"
   ]
  },
  {
   "cell_type": "code",
   "execution_count": 6,
   "metadata": {},
   "outputs": [
    {
     "name": "stdout",
     "output_type": "stream",
     "text": [
      "Maximum mass:  60000000.0\n",
      "Minimum mass:  0.0\n",
      "Mean mass:  13278.078548601516\n"
     ]
    },
    {
     "data": {
      "text/plain": [
       "Text(0, 0.5, 'year')"
      ]
     },
     "execution_count": 6,
     "metadata": {},
     "output_type": "execute_result"
    },
    {
     "data": {
      "image/png": "[encoded data removed]",
      "text/plain": [
       "<Figure size 432x288 with 1 Axes>"
      ]
     },
     "metadata": {
      "needs_background": "light"
     },
     "output_type": "display_data"
    }
   ],
   "source": [
    "# # visualizing mass\n",
    "\n",
    "print(\"Maximum mass: \", np.max(meteor['mass']))\n",
    "print(\"Minimum mass: \", np.min(meteor['mass']))\n",
    "print(\"Mean mass: \",np.mean(meteor['mass']))\n",
    "\n",
    "\n",
    "# create a figure and axis \n",
    "fig, ax = plt.subplots() \n",
    "\n",
    "\n",
    "# scatter the sepal_length against the sepal_width\n",
    "ax.scatter(meteor['mass'], meteor['year'])\n",
    "# set a title and labels\n",
    "ax.set_title('Meteor Dataset (mass vs year)')\n",
    "ax.set_xlabel('mass')\n",
    "ax.set_ylabel('year')"
   ]
  },
  {
   "cell_type": "code",
   "execution_count": 3,
   "metadata": {},
   "outputs": [
    {
     "name": "stdout",
     "output_type": "stream",
     "text": [
      "0.018367920410000026\n"
     ]
    }
   ],
   "source": [
    "# Testing a time analysis function\n",
    "import timeit\n",
    "code_to_test = \"\"\"\n",
    "a = range(100000)\n",
    "b = []\n",
    "for i in a:\n",
    "    b.append(i*2)\n",
    "\"\"\"\n",
    "elapsed_time = timeit.timeit(code_to_test, number=100)/100\n",
    "print(elapsed_time)"
   ]
  },
  {
   "cell_type": "code",
   "execution_count": 8,
   "metadata": {},
   "outputs": [],
   "source": [
    "\n",
    "bar_chart_time=\"\"\"\n",
    "# create a figure and axis \n",
    "fig, ax = plt.subplots() \n",
    "\n",
    "\n",
    "# scatter the sepal_length against the sepal_width\n",
    "ax.scatter(meteor['mass'], meteor['year'])\n",
    "# set a title and labels\n",
    "ax.set_title('Meteor Dataset (mass vs year)')\n",
    "ax.set_xlabel('mass')\n",
    "ax.set_ylabel('year')\n",
    "\"\"\""
   ]
  },
  {
   "cell_type": "code",
   "execution_count": 9,
   "metadata": {},
   "outputs": [],
   "source": [
    "\n",
    "# SAVE AS CSV FOR USE IN API DATABASE\n",
    "# api_meteor_data.to_csv('api_meteor_data.csv')"
   ]
  },
  {
   "cell_type": "code",
   "execution_count": 10,
   "metadata": {},
   "outputs": [
    {
     "name": "stdout",
     "output_type": "stream",
     "text": [
      "                              name     id nametype               recclass  \\\n",
      "37556                    Shişr 124  51678    Valid                    H~5   \n",
      "42934                 Yamato 86180  29686    Valid                     H4   \n",
      "16314                      Hammond  11813    Valid        Iron, ungrouped   \n",
      "23793        Meteorite Hills 01101  16334    Valid                     L5   \n",
      "32441  Queen Alexandra Range 93197  19286    Valid                     L5   \n",
      "41929                Yamato 793283  28632    Valid                     H6   \n",
      "40739                Yamato 791545  26894    Valid                     L4   \n",
      "13781       Grove Mountains 020936  49810    Valid                     L5   \n",
      "23431        Meteorite Hills 00738  15972    Valid                     H5   \n",
      "16481                  Ilafegh 004  12009    Valid                     H5   \n",
      "41379                Yamato 792671  28020    Valid                     H4   \n",
      "21916        MacAlpine Hills 02599  14899    Valid                     L5   \n",
      "35002  Queen Alexandra Range 99398  21847    Valid                    LL5   \n",
      "21148            Lewis Cliff 88431  14176    Valid                     H5   \n",
      "32776  Queen Alexandra Range 93533  19621    Valid                     L6   \n",
      "18261         LaPaz Icefield 03709  36117    Valid                    LL6   \n",
      "4320                  Asuka 881337   4046    Valid                     H4   \n",
      "30670        Northwest Africa 7692  57145    Valid                    CV3   \n",
      "14340       Grove Mountains 022306  49976    Valid                     L6   \n",
      "42963                 Yamato 86209  29715    Valid                     H4   \n",
      "2298             Allan Hills 88069   1113    Valid                     H5   \n",
      "18264         LaPaz Icefield 03712  36120    Valid                     L5   \n",
      "37722           Stewart Valley 001  55530    Valid                     H6   \n",
      "29168        Northwest Africa 5111  47233    Valid                     L5   \n",
      "38479                 Yamato 74061  24439    Valid                     H4   \n",
      "2238             Allan Hills 88009   1053    Valid                     H5   \n",
      "1434                     Acfer 325    332    Valid                    LL6   \n",
      "29040        Northwest Africa 4925  47100    Valid  Martian (shergottite)   \n",
      "43444                 Yamato 86737  30243    Valid                    CI1   \n",
      "33379  Queen Alexandra Range 94593  20224    Valid                     L5   \n",
      "8407          Dominion Range 03281   7679    Valid                    LL6   \n",
      "14425       Grove Mountains 022457  50013    Valid                     H5   \n",
      "12228      Frontier Mountain 90116  10511    Valid                     H4   \n",
      "31055               Österplana 043  44843   Relict              Relict OC   \n",
      "7094                   Dhofar 1136  33839    Valid                     H5   \n",
      "12024      Frontier Mountain 09003  55351    Valid                     L5   \n",
      "21293            Lewis Cliff 88581  14321    Valid                     H5   \n",
      "42032                Yamato 793388  28737    Valid                      H   \n",
      "6523               Dar al Gani 760   6307    Valid                     L6   \n",
      "22902                     Maricopa  15420    Valid                      H   \n",
      "40732                Yamato 791538  26887    Valid               Ureilite   \n",
      "19908            Lewis Cliff 85468  12936    Valid                     H4   \n",
      "6519               Dar al Gani 756   6303    Valid                     L6   \n",
      "23285        Meteorite Hills 00592  15826    Valid                     L5   \n",
      "25762          Miller Range 090690  55123    Valid                     L6   \n",
      "41868                Yamato 793222  28571    Valid                     H5   \n",
      "1147                     Acfer 034     44    Valid                     L6   \n",
      "21235            Lewis Cliff 88520  14263    Valid                   L3.5   \n",
      "28806        Northwest Africa 4606  45552    Valid                     H6   \n",
      "4824                  Asuka 881982   4691    Valid                     H4   \n",
      "\n",
      "           mass   fall    year     reclat     reclong  \\\n",
      "37556      1.90  Found  2007.0  18.258680   53.993230   \n",
      "42934      0.41  Found  1986.0 -71.500000   35.666670   \n",
      "16314  24000.00  Found  1884.0  44.916670  -92.433330   \n",
      "23793     12.50  Found  2001.0 -79.683330  159.750000   \n",
      "32441    105.00  Found  1993.0 -84.593500  162.309360   \n",
      "41929    817.00  Found  1979.0 -71.500000   35.666670   \n",
      "40739    195.17  Found  1979.0 -71.500000   35.666670   \n",
      "13781      0.47  Found  2003.0 -72.983890   75.246390   \n",
      "23431     36.37  Found  2000.0 -79.683330  155.750000   \n",
      "16481    450.00  Found  1989.0  21.550000    1.533330   \n",
      "41379      5.56  Found  1979.0 -71.500000   35.666670   \n",
      "21916      1.58  Found  2002.0        NaN         NaN   \n",
      "35002      9.20  Found  1999.0 -84.000000  168.000000   \n",
      "21148      4.80  Found  1988.0 -84.250640  161.428430   \n",
      "32776      1.10  Found  1993.0 -84.000000  168.000000   \n",
      "18261     41.30  Found  2003.0        NaN         NaN   \n",
      "4320      62.09  Found  1988.0 -72.000000   26.000000   \n",
      "30670    444.00  Found  2012.0   0.000000    0.000000   \n",
      "14340      0.81  Found  2003.0 -72.778890   75.301390   \n",
      "42963      2.82  Found  1986.0 -71.500000   35.666670   \n",
      "2298      12.86  Found  1988.0 -76.716670  159.333330   \n",
      "18264     84.90  Found  2003.0        NaN         NaN   \n",
      "37722     75.60  Found  2001.0  36.205800 -116.170420   \n",
      "29168     16.00  Found  2001.0   0.000000    0.000000   \n",
      "38479      9.30  Found  1974.0 -71.500000   35.666670   \n",
      "2238     152.00  Found  1988.0 -76.692270  159.328840   \n",
      "1434      32.00  Found  1989.0  27.500000    3.616670   \n",
      "29040    282.30  Found  2007.0        NaN         NaN   \n",
      "43444      2.81  Found  1986.0 -71.500000   35.666670   \n",
      "33379     28.30  Found  1994.0 -84.000000  168.000000   \n",
      "8407      11.34  Found  2003.0        NaN         NaN   \n",
      "14425     10.38  Found  2003.0 -72.773890   75.326940   \n",
      "12228      4.30  Found  1991.0 -72.953990  160.445450   \n",
      "31055       NaN  Found  2002.0  58.583330   13.433330   \n",
      "7094     356.00  Found  2005.0  19.274778   54.672972   \n",
      "12024      8.40  Found  2009.0 -72.952950  160.447180   \n",
      "21293      9.20  Found  1988.0 -84.246600  161.407610   \n",
      "42032      8.24  Found  1979.0 -71.500000   35.666670   \n",
      "6523     316.00  Found  1999.0  26.958000   16.335000   \n",
      "22902     50.00  Found  1980.0  33.250000 -112.050000   \n",
      "40732    419.03  Found  1979.0 -71.500000   35.666670   \n",
      "19908     15.40  Found  1985.0 -84.279980  161.388370   \n",
      "6519     454.00  Found  1999.0  27.842500   15.884330   \n",
      "23285     95.78  Found  2000.0 -79.683330  155.750000   \n",
      "25762    100.50  Found  2009.0   0.000000    0.000000   \n",
      "41868    545.97  Found  1979.0 -71.500000   35.666670   \n",
      "1147     184.00  Found  1989.0  27.633330    4.350000   \n",
      "21235      3.10  Found  1988.0 -84.250510  161.403020   \n",
      "28806    383.20  Found  2006.0   0.000000    0.000000   \n",
      "4824     120.30  Found  1988.0 -72.000000   26.000000   \n",
      "\n",
      "                    GeoLocation  \n",
      "37556    (18.258680, 53.993230)  \n",
      "42934   (-71.500000, 35.666670)  \n",
      "16314   (44.916670, -92.433330)  \n",
      "23793  (-79.683330, 159.750000)  \n",
      "32441  (-84.593500, 162.309360)  \n",
      "41929   (-71.500000, 35.666670)  \n",
      "40739   (-71.500000, 35.666670)  \n",
      "13781   (-72.983890, 75.246390)  \n",
      "23431  (-79.683330, 155.750000)  \n",
      "16481     (21.550000, 1.533330)  \n",
      "41379   (-71.500000, 35.666670)  \n",
      "21916                       NaN  \n",
      "35002  (-84.000000, 168.000000)  \n",
      "21148  (-84.250640, 161.428430)  \n",
      "32776  (-84.000000, 168.000000)  \n",
      "18261                       NaN  \n",
      "4320    (-72.000000, 26.000000)  \n",
      "30670      (0.000000, 0.000000)  \n",
      "14340   (-72.778890, 75.301390)  \n",
      "42963   (-71.500000, 35.666670)  \n",
      "2298   (-76.716670, 159.333330)  \n",
      "18264                       NaN  \n",
      "37722  (36.205800, -116.170420)  \n",
      "29168      (0.000000, 0.000000)  \n",
      "38479   (-71.500000, 35.666670)  \n",
      "2238   (-76.692270, 159.328840)  \n",
      "1434      (27.500000, 3.616670)  \n",
      "29040                       NaN  \n",
      "43444   (-71.500000, 35.666670)  \n",
      "33379  (-84.000000, 168.000000)  \n",
      "8407                        NaN  \n",
      "14425   (-72.773890, 75.326940)  \n",
      "12228  (-72.953990, 160.445450)  \n",
      "31055    (58.583330, 13.433330)  \n",
      "7094     (19.274778, 54.672972)  \n",
      "12024  (-72.952950, 160.447180)  \n",
      "21293  (-84.246600, 161.407610)  \n",
      "42032   (-71.500000, 35.666670)  \n",
      "6523     (26.958000, 16.335000)  \n",
      "22902  (33.250000, -112.050000)  \n",
      "40732   (-71.500000, 35.666670)  \n",
      "19908  (-84.279980, 161.388370)  \n",
      "6519     (27.842500, 15.884330)  \n",
      "23285  (-79.683330, 155.750000)  \n",
      "25762      (0.000000, 0.000000)  \n",
      "41868   (-71.500000, 35.666670)  \n",
      "1147      (27.633330, 4.350000)  \n",
      "21235  (-84.250510, 161.403020)  \n",
      "28806      (0.000000, 0.000000)  \n",
      "4824    (-72.000000, 26.000000)  \n",
      "<class 'pandas.core.frame.DataFrame'>\n"
     ]
    }
   ],
   "source": [
    "   \n",
    "# randomly selects 50 data points and puts them in data frame\n",
    "api_meteor_data = meteor.loc[np.random.randint(len(meteor), size = 50)]\n",
    "print(api_meteor_data)\n",
    "print(type(api_meteor_data))"
   ]
  },
  {
   "cell_type": "code",
   "execution_count": 30,
   "metadata": {},
   "outputs": [
    {
     "ename": "AttributeError",
     "evalue": "'numpy.ndarray' object has no attribute 'keys'",
     "output_type": "error",
     "traceback": [
      "\u001b[0;31m---------------------------------------------------------------------------\u001b[0m",
      "\u001b[0;31mAttributeError\u001b[0m                            Traceback (most recent call last)",
      "\u001b[0;32m<ipython-input-30-7f1f00a98bd8>\u001b[0m in \u001b[0;36m<module>\u001b[0;34m\u001b[0m\n\u001b[1;32m      1\u001b[0m \u001b[0;31m# Convert to numpy array\u001b[0m\u001b[0;34m\u001b[0m\u001b[0;34m\u001b[0m\u001b[0;34m\u001b[0m\u001b[0m\n\u001b[1;32m      2\u001b[0m \u001b[0mapi_meteor_data_arr\u001b[0m \u001b[0;34m=\u001b[0m \u001b[0mapi_meteor_data\u001b[0m\u001b[0;34m.\u001b[0m\u001b[0mto_numpy\u001b[0m\u001b[0;34m(\u001b[0m\u001b[0;34m)\u001b[0m\u001b[0;34m\u001b[0m\u001b[0;34m\u001b[0m\u001b[0m\n\u001b[0;32m----> 3\u001b[0;31m \u001b[0mprint\u001b[0m\u001b[0;34m(\u001b[0m\u001b[0mapi_meteor_data_arr\u001b[0m\u001b[0;34m[\u001b[0m\u001b[0;36m6\u001b[0m\u001b[0;34m]\u001b[0m\u001b[0;34m.\u001b[0m\u001b[0mkeys\u001b[0m\u001b[0;34m,\u001b[0m \u001b[0mapi_meteor_data_arr\u001b[0m\u001b[0;34m[\u001b[0m\u001b[0;36m6\u001b[0m\u001b[0;34m]\u001b[0m\u001b[0;34m)\u001b[0m\u001b[0;34m\u001b[0m\u001b[0;34m\u001b[0m\u001b[0m\n\u001b[0m\u001b[1;32m      4\u001b[0m \u001b[0;31m# print(api_meteor_data.keys)\u001b[0m\u001b[0;34m\u001b[0m\u001b[0;34m\u001b[0m\u001b[0;34m\u001b[0m\u001b[0m\n",
      "\u001b[0;31mAttributeError\u001b[0m: 'numpy.ndarray' object has no attribute 'keys'"
     ]
    }
   ],
   "source": [
    "# Convert to numpy array\n",
    "api_meteor_data_arr = api_meteor_data.to_numpy()\n",
    "print(api_meteor_data_arr[6].keys, api_meteor_data_arr[6])\n",
    "# print(api_meteor_data.keys)"
   ]
  },
  {
   "cell_type": "code",
   "execution_count": 50,
   "metadata": {},
   "outputs": [
    {
     "name": "stdout",
     "output_type": "stream",
     "text": [
      "[OrderedDict([('order', ''), ('name', 'name'), ('id', 'id'), ('nametype', 'nametype'), ('recclass', 'recclass'), ('mass', 'mass'), ('fall', 'fall'), ('year', 'year'), ('reclat', 'reclat'), ('reclong', 'reclong'), ('GeoLocation', 'GeoLocation')]), OrderedDict([('order', '21477'), ('name', 'Lewis Cliff 88768'), ('id', '14505'), ('nametype', 'Valid'), ('recclass', 'H6'), ('mass', '11.6'), ('fall', 'Found'), ('year', '1988.0'), ('reclat', '-84.23174'), ('reclong', '161.54752'), ('GeoLocation', '(-84.231740, 161.547520)')]), OrderedDict([('order', '36643'), ('name', 'Sahara 98058'), ('id', '23002'), ('nametype', 'Valid'), ('recclass', 'H5'), ('mass', '681.0'), ('fall', 'Found'), ('year', '1998.0'), ('reclat', ''), ('reclong', ''), ('GeoLocation', '')]), OrderedDict([('order', '33629'), ('name', 'Queen Alexandra Range 97067'), ('id', '20474'), ('nametype', 'Valid'), ('recclass', 'LL5'), ('mass', '17.4'), ('fall', 'Found'), ('year', '1997.0'), ('reclat', '-84.0'), ('reclong', '168.0'), ('GeoLocation', '(-84.000000, 168.000000)')]), OrderedDict([('order', '35958'), ('name', 'Red Dry Lake 002'), ('id', '22539'), ('nametype', 'Valid'), ('recclass', 'H6'), ('mass', '21.5'), ('fall', 'Found'), ('year', '2001.0'), ('reclat', '35.653059999999996'), ('reclong', '-114.02436999999999'), ('GeoLocation', '(35.653060, -114.024370)')]), OrderedDict([('order', '23178'), ('name', 'Meteorite Hills 00484'), ('id', '15719'), ('nametype', 'Valid'), ('recclass', 'L5'), ('mass', '233.7'), ('fall', 'Found'), ('year', '2000.0'), ('reclat', '-79.68333'), ('reclong', '155.75'), ('GeoLocation', '(-79.683330, 155.750000)')]), OrderedDict([('order', '13371'), ('name', 'Grosvenor Mountains 95599'), ('id', '11327'), ('nametype', 'Valid'), ('recclass', 'H5'), ('mass', '75.7'), ('fall', 'Found'), ('year', '1995.0'), ('reclat', '-85.66667'), ('reclong', '175.0'), ('GeoLocation', '(-85.666670, 175.000000)')]), OrderedDict([('order', '4186'), ('name', 'Asuka 881177'), ('id', '3886'), ('nametype', 'Valid'), ('recclass', 'H6'), ('mass', '252.05'), ('fall', 'Found'), ('year', '1988.0'), ('reclat', '-72.0'), ('reclong', '26.0'), ('GeoLocation', '(-72.000000, 26.000000)')]), OrderedDict([('order', '43822'), ('name', 'Yamato 980577'), ('id', '37200'), ('nametype', 'Valid'), ('recclass', 'H3'), ('mass', '16.499'), ('fall', 'Found'), ('year', '1998.0'), ('reclat', ''), ('reclong', ''), ('GeoLocation', '')]), OrderedDict([('order', '31947'), ('name', 'Pecora Escarpment 91467'), ('id', '18758'), ('nametype', 'Valid'), ('recclass', 'CH3'), ('mass', '46.9'), ('fall', 'Found'), ('year', '1991.0'), ('reclat', '-85.67876'), ('reclong', '-69.05982'), ('GeoLocation', '(-85.678760, -69.059820)')]), OrderedDict([('order', '15450'), ('name', 'Grove Mountains 052904'), ('id', '46488'), ('nametype', 'Valid'), ('recclass', 'L6'), ('mass', '474.0'), ('fall', 'Found'), ('year', '2006.0'), ('reclat', '-72.77833000000001'), ('reclong', '75.31971999999999'), ('GeoLocation', '(-72.778330, 75.319720)')]), OrderedDict([('order', '38358'), ('name', 'Wisconsin Range 91619'), ('id', '24309'), ('nametype', 'Valid'), ('recclass', 'H5'), ('mass', '150.3'), ('fall', 'Found'), ('year', '1991.0'), ('reclat', '-86.15351'), ('reclong', '-124.29386000000001'), ('GeoLocation', '(-86.153510, -124.293860)')]), OrderedDict([('order', '12842'), ('name', 'Graves Nunataks 98037'), ('id', '11029'), ('nametype', 'Valid'), ('recclass', 'Eucrite-br'), ('mass', '107.9'), ('fall', 'Found'), ('year', '1998.0'), ('reclat', '-86.71667'), ('reclong', '-141.5'), ('GeoLocation', '(-86.716670, -141.500000)')]), OrderedDict([('order', '2057'), ('name', 'Allan Hills 85006'), ('id', '872'), ('nametype', 'Valid'), ('recclass', 'CV3'), ('mass', '49.0'), ('fall', 'Found'), ('year', '1985.0'), ('reclat', '-76.85224000000001'), ('reclong', '156.31748000000002'), ('GeoLocation', '(-76.852240, 156.317480)')]), OrderedDict([('order', '15717'), ('name', 'Grove Mountains 054046'), ('id', '50602'), ('nametype', 'Valid'), ('recclass', 'H5'), ('mass', '1.19'), ('fall', 'Found'), ('year', '2006.0'), ('reclat', '-72.78728000000001'), ('reclong', '75.2744'), ('GeoLocation', '(-72.787280, 75.274400)')]), OrderedDict([('order', '13155'), ('name', 'Grosvenor Mountains 03121'), ('id', '34642'), ('nametype', 'Valid'), ('recclass', 'H5'), ('mass', '82.9'), ('fall', 'Found'), ('year', '2003.0'), ('reclat', ''), ('reclong', ''), ('GeoLocation', '')]), OrderedDict([('order', '18884'), ('name', 'LaPaz Icefield 04756'), ('id', '44351'), ('nametype', 'Valid'), ('recclass', 'LL5'), ('mass', '6.7'), ('fall', 'Found'), ('year', '2004.0'), ('reclat', ''), ('reclong', ''), ('GeoLocation', '')]), OrderedDict([('order', '36075'), ('name', 'Roberts Massif 04108'), ('id', '44582'), ('nametype', 'Valid'), ('recclass', 'L6'), ('mass', '386.1'), ('fall', 'Found'), ('year', '2004.0'), ('reclat', ''), ('reclong', ''), ('GeoLocation', '')]), OrderedDict([('order', '29052'), ('name', 'Northwest Africa 4946'), ('id', '47120'), ('nametype', 'Valid'), ('recclass', 'EL6'), ('mass', '4543.0'), ('fall', 'Found'), ('year', '2007.0'), ('reclat', '0.0'), ('reclong', '0.0'), ('GeoLocation', '(0.000000, 0.000000)')]), OrderedDict([('order', '14826'), ('name', 'Grove Mountains 050040'), ('id', '48154'), ('nametype', 'Valid'), ('recclass', 'H4'), ('mass', '5.17'), ('fall', 'Found'), ('year', '2006.0'), ('reclat', '-72.998611'), ('reclong', '75.193611'), ('GeoLocation', '(-72.998611, 75.193611)')]), OrderedDict([('order', '10787'), ('name', 'Elephant Moraine 90781'), ('id', '9190'), ('nametype', 'Valid'), ('recclass', 'L6'), ('mass', '5.8'), ('fall', 'Found'), ('year', '1990.0'), ('reclat', '-76.2829'), ('reclong', '156.46722'), ('GeoLocation', '(-76.282900, 156.467220)')]), OrderedDict([('order', '13032'), ('name', 'Grier (b)'), ('id', '11203'), ('nametype', 'Valid'), ('recclass', 'L5-7'), ('mass', '929.4'), ('fall', 'Found'), ('year', '1969.0'), ('reclat', '34.26667'), ('reclong', '-103.38333'), ('GeoLocation', '(34.266670, -103.383330)')]), OrderedDict([('order', '9697'), ('name', 'Elephant Moraine 87549'), ('id', '8099'), ('nametype', 'Valid'), ('recclass', 'L6'), ('mass', '538.6'), ('fall', 'Found'), ('year', '1987.0'), ('reclat', '-76.18333'), ('reclong', '157.16666999999998'), ('GeoLocation', '(-76.183330, 157.166670)')]), OrderedDict([('order', '27182'), ('name', 'Northwest Africa 2089'), ('id', '32860'), ('nametype', 'Valid'), ('recclass', 'LL3'), ('mass', '429.0'), ('fall', 'Found'), ('year', '2003.0'), ('reclat', ''), ('reclong', ''), ('GeoLocation', '')]), OrderedDict([('order', '38612'), ('name', 'Yamato 74194'), ('id', '24572'), ('nametype', 'Valid'), ('recclass', 'H5'), ('mass', '4.78'), ('fall', 'Found'), ('year', '1974.0'), ('reclat', '-71.5'), ('reclong', '35.66667'), ('GeoLocation', '(-71.500000, 35.666670)')]), OrderedDict([('order', '7417'), ('name', 'Dhofar 1630'), ('id', '55278'), ('nametype', 'Valid'), ('recclass', 'H5'), ('mass', '1357.0'), ('fall', 'Found'), ('year', '2004.0'), ('reclat', '18.69667'), ('reclong', '54.371669999999995'), ('GeoLocation', '(18.696670, 54.371670)')]), OrderedDict([('order', '16326'), ('name', 'Hardtner'), ('id', '11827'), ('nametype', 'Valid'), ('recclass', 'L6'), ('mass', '13000.0'), ('fall', 'Found'), ('year', '1972.0'), ('reclat', '37.06667'), ('reclong', '-98.66167'), ('GeoLocation', '(37.066670, -98.661670)')]), OrderedDict([('order', '22968'), ('name', 'Meteorite Hills 001014'), ('id', '15510'), ('nametype', 'Valid'), ('recclass', 'H5'), ('mass', '10.4'), ('fall', 'Found'), ('year', '2000.0'), ('reclat', '-79.68333'), ('reclong', '159.75'), ('GeoLocation', '(-79.683330, 159.750000)')]), OrderedDict([('order', '45687'), ('name', 'Yucca 015'), ('id', '57175'), ('nametype', 'Valid'), ('recclass', 'H-metal'), ('mass', '3.0'), ('fall', 'Found'), ('year', '2011.0'), ('reclat', '34.8197'), ('reclong', '-114.2761'), ('GeoLocation', '(34.819700, -114.276100)')]), OrderedDict([('order', '21596'), ('name', 'Lewis Cliff 97211'), ('id', '14624'), ('nametype', 'Valid'), ('recclass', 'L6'), ('mass', '122.0'), ('fall', 'Found'), ('year', '1997.0'), ('reclat', '-84.26666999999999'), ('reclong', '161.5'), ('GeoLocation', '(-84.266670, 161.500000)')]), OrderedDict([('order', '11404'), ('name', 'Elephant Moraine 96216'), ('id', '9807'), ('nametype', 'Valid'), ('recclass', 'L3.8'), ('mass', '0.9'), ('fall', 'Found'), ('year', '1996.0'), ('reclat', '-76.18333'), ('reclong', '157.16666999999998'), ('GeoLocation', '(-76.183330, 157.166670)')]), OrderedDict([('order', '41148'), ('name', 'Yamato 791969'), ('id', '27318'), ('nametype', 'Valid'), ('recclass', 'H4'), ('mass', '135.85'), ('fall', 'Found'), ('year', '1979.0'), ('reclat', '-71.5'), ('reclong', '35.66667'), ('GeoLocation', '(-71.500000, 35.666670)')]), OrderedDict([('order', '20918'), ('name', 'Lewis Cliff 88193'), ('id', '13946'), ('nametype', 'Valid'), ('recclass', 'H5'), ('mass', '37.5'), ('fall', 'Found'), ('year', '1988.0'), ('reclat', '-84.27179'), ('reclong', '161.36451'), ('GeoLocation', '(-84.271790, 161.364510)')]), OrderedDict([('order', '22644'), ('name', 'MacAlpine Hills 04959'), ('id', '35064'), ('nametype', 'Valid'), ('recclass', 'H5'), ('mass', '0.51'), ('fall', 'Found'), ('year', '2004.0'), ('reclat', ''), ('reclong', ''), ('GeoLocation', '')]), OrderedDict([('order', '24187'), ('name', 'Miller Range 03420'), ('id', '36456'), ('nametype', 'Valid'), ('recclass', 'LL5'), ('mass', '45.1'), ('fall', 'Found'), ('year', '2003.0'), ('reclat', ''), ('reclong', ''), ('GeoLocation', '')]), OrderedDict([('order', '18607'), ('name', 'LaPaz Icefield 04482'), ('id', '45060'), ('nametype', 'Valid'), ('recclass', 'L5'), ('mass', '15.6'), ('fall', 'Found'), ('year', '2004.0'), ('reclat', ''), ('reclong', ''), ('GeoLocation', '')]), OrderedDict([('order', '5378'), ('name', 'Catalina 016'), ('id', '57182'), ('nametype', 'Valid'), ('recclass', 'H4'), ('mass', '647.0'), ('fall', 'Found'), ('year', '2010.0'), ('reclat', '-25.23333'), ('reclong', '-69.71667'), ('GeoLocation', '(-25.233330, -69.716670)')]), OrderedDict([('order', '611'), ('name', 'Merua'), ('id', '15492'), ('nametype', 'Valid'), ('recclass', 'H5'), ('mass', '71400.0'), ('fall', 'Fell'), ('year', '1920.0'), ('reclat', '25.48333'), ('reclong', '81.98333000000001'), ('GeoLocation', '(25.483330, 81.983330)')]), OrderedDict([('order', '18978'), ('name', 'LaPaz Icefield 10023'), ('id', '56964'), ('nametype', 'Valid'), ('recclass', 'LL5'), ('mass', '378.5'), ('fall', 'Found'), ('year', '2010.0'), ('reclat', '0.0'), ('reclong', '0.0'), ('GeoLocation', '(0.000000, 0.000000)')]), OrderedDict([('order', '21149'), ('name', 'Lewis Cliff 88432'), ('id', '14177'), ('nametype', 'Valid'), ('recclass', 'H-metal'), ('mass', '1.3'), ('fall', 'Found'), ('year', '1988.0'), ('reclat', '-84.2497'), ('reclong', '161.38334'), ('GeoLocation', '(-84.249700, 161.383340)')]), OrderedDict([('order', '3853'), ('name', 'Asuka 880797'), ('id', '3506'), ('nametype', 'Valid'), ('recclass', 'H5'), ('mass', '43.29'), ('fall', 'Found'), ('year', '1988.0'), ('reclat', '-72.0'), ('reclong', '26.0'), ('GeoLocation', '(-72.000000, 26.000000)')]), OrderedDict([('order', '25484'), ('name', 'Miller Range 090411'), ('id', '55926'), ('nametype', 'Valid'), ('recclass', 'L6'), ('mass', '67.6'), ('fall', 'Found'), ('year', '2009.0'), ('reclat', '0.0'), ('reclong', '0.0'), ('GeoLocation', '(0.000000, 0.000000)')]), OrderedDict([('order', '7979'), ('name', 'Dhofar 623'), ('id', '7380'), ('nametype', 'Valid'), ('recclass', 'L6'), ('mass', '147.0'), ('fall', 'Found'), ('year', '2001.0'), ('reclat', '19.18553'), ('reclong', '54.65797'), ('GeoLocation', '(19.185530, 54.657970)')]), OrderedDict([('order', '37874'), ('name', 'Tanezrouft 078'), ('id', '31339'), ('nametype', 'Valid'), ('recclass', 'L6'), ('mass', '1599.0'), ('fall', 'Found'), ('year', '2003.0'), ('reclat', '24.73573'), ('reclong', '-0.52413'), ('GeoLocation', '(24.735730, -0.524130)')]), OrderedDict([('order', '29639'), ('name', 'Northwest Africa 5968'), ('id', '50854'), ('nametype', 'Valid'), ('recclass', 'Diogenite'), ('mass', '15.5'), ('fall', 'Found'), ('year', '2008.0'), ('reclat', '0.0'), ('reclong', '0.0'), ('GeoLocation', '(0.000000, 0.000000)')]), OrderedDict([('order', '11132'), ('name', 'Elephant Moraine 92133'), ('id', '9535'), ('nametype', 'Valid'), ('recclass', 'L4'), ('mass', '11.4'), ('fall', 'Found'), ('year', '1992.0'), ('reclat', '-76.01575'), ('reclong', '155.85543'), ('GeoLocation', '(-76.015750, 155.855430)')]), OrderedDict([('order', '4753'), ('name', 'Asuka 881899'), ('id', '4608'), ('nametype', 'Valid'), ('recclass', 'LL3'), ('mass', '6567.0'), ('fall', 'Found'), ('year', '1988.0'), ('reclat', '-72.0'), ('reclong', '26.0'), ('GeoLocation', '(-72.000000, 26.000000)')]), OrderedDict([('order', '34543'), ('name', 'Queen Alexandra Range 97934'), ('id', '21388'), ('nametype', 'Valid'), ('recclass', 'L5'), ('mass', '1.8'), ('fall', 'Found'), ('year', '1997.0'), ('reclat', '-84.0'), ('reclong', '168.0'), ('GeoLocation', '(-84.000000, 168.000000)')]), OrderedDict([('order', '39249'), ('name', 'Yamato 75169'), ('id', '25210'), ('nametype', 'Valid'), ('recclass', 'L6'), ('mass', '3.49'), ('fall', 'Found'), ('year', '1975.0'), ('reclat', '-71.5'), ('reclong', '35.66667'), ('GeoLocation', '(-71.500000, 35.666670)')]), OrderedDict([('order', '23286'), ('name', 'Meteorite Hills 00593'), ('id', '15827'), ('nametype', 'Valid'), ('recclass', 'LL5'), ('mass', '53.83'), ('fall', 'Found'), ('year', '2000.0'), ('reclat', '-79.68333'), ('reclong', '155.75'), ('GeoLocation', '(-79.683330, 155.750000)')]), OrderedDict([('order', '26298'), ('name', 'Mundrabilla 006'), ('id', '16857'), ('nametype', 'Valid'), ('recclass', 'H6'), ('mass', '24.6'), ('fall', 'Found'), ('year', '1982.0'), ('reclat', '-30.008329999999997'), ('reclong', '127.70833'), ('GeoLocation', '(-30.008330, 127.708330)')]), OrderedDict([('order', ''), ('name', 'name'), ('id', 'id'), ('nametype', 'nametype'), ('recclass', 'recclass'), ('mass', 'mass'), ('fall', 'fall'), ('year', 'year'), ('reclat', 'reclat'), ('reclong', 'reclong'), ('GeoLocation', 'GeoLocation')]), OrderedDict([('order', '21477'), ('name', 'Lewis Cliff 88768'), ('id', '14505'), ('nametype', 'Valid'), ('recclass', 'H6'), ('mass', '11.6'), ('fall', 'Found'), ('year', '1988.0'), ('reclat', '-84.23174'), ('reclong', '161.54752'), ('GeoLocation', '(-84.231740, 161.547520)')]), OrderedDict([('order', '36643'), ('name', 'Sahara 98058'), ('id', '23002'), ('nametype', 'Valid'), ('recclass', 'H5'), ('mass', '681.0'), ('fall', 'Found'), ('year', '1998.0'), ('reclat', ''), ('reclong', ''), ('GeoLocation', '')]), OrderedDict([('order', '33629'), ('name', 'Queen Alexandra Range 97067'), ('id', '20474'), ('nametype', 'Valid'), ('recclass', 'LL5'), ('mass', '17.4'), ('fall', 'Found'), ('year', '1997.0'), ('reclat', '-84.0'), ('reclong', '168.0'), ('GeoLocation', '(-84.000000, 168.000000)')]), OrderedDict([('order', '35958'), ('name', 'Red Dry Lake 002'), ('id', '22539'), ('nametype', 'Valid'), ('recclass', 'H6'), ('mass', '21.5'), ('fall', 'Found'), ('year', '2001.0'), ('reclat', '35.653059999999996'), ('reclong', '-114.02436999999999'), ('GeoLocation', '(35.653060, -114.024370)')]), OrderedDict([('order', '23178'), ('name', 'Meteorite Hills 00484'), ('id', '15719'), ('nametype', 'Valid'), ('recclass', 'L5'), ('mass', '233.7'), ('fall', 'Found'), ('year', '2000.0'), ('reclat', '-79.68333'), ('reclong', '155.75'), ('GeoLocation', '(-79.683330, 155.750000)')]), OrderedDict([('order', '13371'), ('name', 'Grosvenor Mountains 95599'), ('id', '11327'), ('nametype', 'Valid'), ('recclass', 'H5'), ('mass', '75.7'), ('fall', 'Found'), ('year', '1995.0'), ('reclat', '-85.66667'), ('reclong', '175.0'), ('GeoLocation', '(-85.666670, 175.000000)')]), OrderedDict([('order', '4186'), ('name', 'Asuka 881177'), ('id', '3886'), ('nametype', 'Valid'), ('recclass', 'H6'), ('mass', '252.05'), ('fall', 'Found'), ('year', '1988.0'), ('reclat', '-72.0'), ('reclong', '26.0'), ('GeoLocation', '(-72.000000, 26.000000)')]), OrderedDict([('order', '43822'), ('name', 'Yamato 980577'), ('id', '37200'), ('nametype', 'Valid'), ('recclass', 'H3'), ('mass', '16.499'), ('fall', 'Found'), ('year', '1998.0'), ('reclat', ''), ('reclong', ''), ('GeoLocation', '')]), OrderedDict([('order', '31947'), ('name', 'Pecora Escarpment 91467'), ('id', '18758'), ('nametype', 'Valid'), ('recclass', 'CH3'), ('mass', '46.9'), ('fall', 'Found'), ('year', '1991.0'), ('reclat', '-85.67876'), ('reclong', '-69.05982'), ('GeoLocation', '(-85.678760, -69.059820)')]), OrderedDict([('order', '15450'), ('name', 'Grove Mountains 052904'), ('id', '46488'), ('nametype', 'Valid'), ('recclass', 'L6'), ('mass', '474.0'), ('fall', 'Found'), ('year', '2006.0'), ('reclat', '-72.77833000000001'), ('reclong', '75.31971999999999'), ('GeoLocation', '(-72.778330, 75.319720)')]), OrderedDict([('order', '38358'), ('name', 'Wisconsin Range 91619'), ('id', '24309'), ('nametype', 'Valid'), ('recclass', 'H5'), ('mass', '150.3'), ('fall', 'Found'), ('year', '1991.0'), ('reclat', '-86.15351'), ('reclong', '-124.29386000000001'), ('GeoLocation', '(-86.153510, -124.293860)')]), OrderedDict([('order', '12842'), ('name', 'Graves Nunataks 98037'), ('id', '11029'), ('nametype', 'Valid'), ('recclass', 'Eucrite-br'), ('mass', '107.9'), ('fall', 'Found'), ('year', '1998.0'), ('reclat', '-86.71667'), ('reclong', '-141.5'), ('GeoLocation', '(-86.716670, -141.500000)')]), OrderedDict([('order', '2057'), ('name', 'Allan Hills 85006'), ('id', '872'), ('nametype', 'Valid'), ('recclass', 'CV3'), ('mass', '49.0'), ('fall', 'Found'), ('year', '1985.0'), ('reclat', '-76.85224000000001'), ('reclong', '156.31748000000002'), ('GeoLocation', '(-76.852240, 156.317480)')]), OrderedDict([('order', '15717'), ('name', 'Grove Mountains 054046'), ('id', '50602'), ('nametype', 'Valid'), ('recclass', 'H5'), ('mass', '1.19'), ('fall', 'Found'), ('year', '2006.0'), ('reclat', '-72.78728000000001'), ('reclong', '75.2744'), ('GeoLocation', '(-72.787280, 75.274400)')]), OrderedDict([('order', '13155'), ('name', 'Grosvenor Mountains 03121'), ('id', '34642'), ('nametype', 'Valid'), ('recclass', 'H5'), ('mass', '82.9'), ('fall', 'Found'), ('year', '2003.0'), ('reclat', ''), ('reclong', ''), ('GeoLocation', '')]), OrderedDict([('order', '18884'), ('name', 'LaPaz Icefield 04756'), ('id', '44351'), ('nametype', 'Valid'), ('recclass', 'LL5'), ('mass', '6.7'), ('fall', 'Found'), ('year', '2004.0'), ('reclat', ''), ('reclong', ''), ('GeoLocation', '')]), OrderedDict([('order', '36075'), ('name', 'Roberts Massif 04108'), ('id', '44582'), ('nametype', 'Valid'), ('recclass', 'L6'), ('mass', '386.1'), ('fall', 'Found'), ('year', '2004.0'), ('reclat', ''), ('reclong', ''), ('GeoLocation', '')]), OrderedDict([('order', '29052'), ('name', 'Northwest Africa 4946'), ('id', '47120'), ('nametype', 'Valid'), ('recclass', 'EL6'), ('mass', '4543.0'), ('fall', 'Found'), ('year', '2007.0'), ('reclat', '0.0'), ('reclong', '0.0'), ('GeoLocation', '(0.000000, 0.000000)')]), OrderedDict([('order', '14826'), ('name', 'Grove Mountains 050040'), ('id', '48154'), ('nametype', 'Valid'), ('recclass', 'H4'), ('mass', '5.17'), ('fall', 'Found'), ('year', '2006.0'), ('reclat', '-72.998611'), ('reclong', '75.193611'), ('GeoLocation', '(-72.998611, 75.193611)')]), OrderedDict([('order', '10787'), ('name', 'Elephant Moraine 90781'), ('id', '9190'), ('nametype', 'Valid'), ('recclass', 'L6'), ('mass', '5.8'), ('fall', 'Found'), ('year', '1990.0'), ('reclat', '-76.2829'), ('reclong', '156.46722'), ('GeoLocation', '(-76.282900, 156.467220)')]), OrderedDict([('order', '13032'), ('name', 'Grier (b)'), ('id', '11203'), ('nametype', 'Valid'), ('recclass', 'L5-7'), ('mass', '929.4'), ('fall', 'Found'), ('year', '1969.0'), ('reclat', '34.26667'), ('reclong', '-103.38333'), ('GeoLocation', '(34.266670, -103.383330)')]), OrderedDict([('order', '9697'), ('name', 'Elephant Moraine 87549'), ('id', '8099'), ('nametype', 'Valid'), ('recclass', 'L6'), ('mass', '538.6'), ('fall', 'Found'), ('year', '1987.0'), ('reclat', '-76.18333'), ('reclong', '157.16666999999998'), ('GeoLocation', '(-76.183330, 157.166670)')]), OrderedDict([('order', '27182'), ('name', 'Northwest Africa 2089'), ('id', '32860'), ('nametype', 'Valid'), ('recclass', 'LL3'), ('mass', '429.0'), ('fall', 'Found'), ('year', '2003.0'), ('reclat', ''), ('reclong', ''), ('GeoLocation', '')]), OrderedDict([('order', '38612'), ('name', 'Yamato 74194'), ('id', '24572'), ('nametype', 'Valid'), ('recclass', 'H5'), ('mass', '4.78'), ('fall', 'Found'), ('year', '1974.0'), ('reclat', '-71.5'), ('reclong', '35.66667'), ('GeoLocation', '(-71.500000, 35.666670)')]), OrderedDict([('order', '7417'), ('name', 'Dhofar 1630'), ('id', '55278'), ('nametype', 'Valid'), ('recclass', 'H5'), ('mass', '1357.0'), ('fall', 'Found'), ('year', '2004.0'), ('reclat', '18.69667'), ('reclong', '54.371669999999995'), ('GeoLocation', '(18.696670, 54.371670)')]), OrderedDict([('order', '16326'), ('name', 'Hardtner'), ('id', '11827'), ('nametype', 'Valid'), ('recclass', 'L6'), ('mass', '13000.0'), ('fall', 'Found'), ('year', '1972.0'), ('reclat', '37.06667'), ('reclong', '-98.66167'), ('GeoLocation', '(37.066670, -98.661670)')]), OrderedDict([('order', '22968'), ('name', 'Meteorite Hills 001014'), ('id', '15510'), ('nametype', 'Valid'), ('recclass', 'H5'), ('mass', '10.4'), ('fall', 'Found'), ('year', '2000.0'), ('reclat', '-79.68333'), ('reclong', '159.75'), ('GeoLocation', '(-79.683330, 159.750000)')]), OrderedDict([('order', '45687'), ('name', 'Yucca 015'), ('id', '57175'), ('nametype', 'Valid'), ('recclass', 'H-metal'), ('mass', '3.0'), ('fall', 'Found'), ('year', '2011.0'), ('reclat', '34.8197'), ('reclong', '-114.2761'), ('GeoLocation', '(34.819700, -114.276100)')]), OrderedDict([('order', '21596'), ('name', 'Lewis Cliff 97211'), ('id', '14624'), ('nametype', 'Valid'), ('recclass', 'L6'), ('mass', '122.0'), ('fall', 'Found'), ('year', '1997.0'), ('reclat', '-84.26666999999999'), ('reclong', '161.5'), ('GeoLocation', '(-84.266670, 161.500000)')]), OrderedDict([('order', '11404'), ('name', 'Elephant Moraine 96216'), ('id', '9807'), ('nametype', 'Valid'), ('recclass', 'L3.8'), ('mass', '0.9'), ('fall', 'Found'), ('year', '1996.0'), ('reclat', '-76.18333'), ('reclong', '157.16666999999998'), ('GeoLocation', '(-76.183330, 157.166670)')]), OrderedDict([('order', '41148'), ('name', 'Yamato 791969'), ('id', '27318'), ('nametype', 'Valid'), ('recclass', 'H4'), ('mass', '135.85'), ('fall', 'Found'), ('year', '1979.0'), ('reclat', '-71.5'), ('reclong', '35.66667'), ('GeoLocation', '(-71.500000, 35.666670)')]), OrderedDict([('order', '20918'), ('name', 'Lewis Cliff 88193'), ('id', '13946'), ('nametype', 'Valid'), ('recclass', 'H5'), ('mass', '37.5'), ('fall', 'Found'), ('year', '1988.0'), ('reclat', '-84.27179'), ('reclong', '161.36451'), ('GeoLocation', '(-84.271790, 161.364510)')]), OrderedDict([('order', '22644'), ('name', 'MacAlpine Hills 04959'), ('id', '35064'), ('nametype', 'Valid'), ('recclass', 'H5'), ('mass', '0.51'), ('fall', 'Found'), ('year', '2004.0'), ('reclat', ''), ('reclong', ''), ('GeoLocation', '')]), OrderedDict([('order', '24187'), ('name', 'Miller Range 03420'), ('id', '36456'), ('nametype', 'Valid'), ('recclass', 'LL5'), ('mass', '45.1'), ('fall', 'Found'), ('year', '2003.0'), ('reclat', ''), ('reclong', ''), ('GeoLocation', '')]), OrderedDict([('order', '18607'), ('name', 'LaPaz Icefield 04482'), ('id', '45060'), ('nametype', 'Valid'), ('recclass', 'L5'), ('mass', '15.6'), ('fall', 'Found'), ('year', '2004.0'), ('reclat', ''), ('reclong', ''), ('GeoLocation', '')]), OrderedDict([('order', '5378'), ('name', 'Catalina 016'), ('id', '57182'), ('nametype', 'Valid'), ('recclass', 'H4'), ('mass', '647.0'), ('fall', 'Found'), ('year', '2010.0'), ('reclat', '-25.23333'), ('reclong', '-69.71667'), ('GeoLocation', '(-25.233330, -69.716670)')]), OrderedDict([('order', '611'), ('name', 'Merua'), ('id', '15492'), ('nametype', 'Valid'), ('recclass', 'H5'), ('mass', '71400.0'), ('fall', 'Fell'), ('year', '1920.0'), ('reclat', '25.48333'), ('reclong', '81.98333000000001'), ('GeoLocation', '(25.483330, 81.983330)')]), OrderedDict([('order', '18978'), ('name', 'LaPaz Icefield 10023'), ('id', '56964'), ('nametype', 'Valid'), ('recclass', 'LL5'), ('mass', '378.5'), ('fall', 'Found'), ('year', '2010.0'), ('reclat', '0.0'), ('reclong', '0.0'), ('GeoLocation', '(0.000000, 0.000000)')]), OrderedDict([('order', '21149'), ('name', 'Lewis Cliff 88432'), ('id', '14177'), ('nametype', 'Valid'), ('recclass', 'H-metal'), ('mass', '1.3'), ('fall', 'Found'), ('year', '1988.0'), ('reclat', '-84.2497'), ('reclong', '161.38334'), ('GeoLocation', '(-84.249700, 161.383340)')]), OrderedDict([('order', '3853'), ('name', 'Asuka 880797'), ('id', '3506'), ('nametype', 'Valid'), ('recclass', 'H5'), ('mass', '43.29'), ('fall', 'Found'), ('year', '1988.0'), ('reclat', '-72.0'), ('reclong', '26.0'), ('GeoLocation', '(-72.000000, 26.000000)')]), OrderedDict([('order', '25484'), ('name', 'Miller Range 090411'), ('id', '55926'), ('nametype', 'Valid'), ('recclass', 'L6'), ('mass', '67.6'), ('fall', 'Found'), ('year', '2009.0'), ('reclat', '0.0'), ('reclong', '0.0'), ('GeoLocation', '(0.000000, 0.000000)')]), OrderedDict([('order', '7979'), ('name', 'Dhofar 623'), ('id', '7380'), ('nametype', 'Valid'), ('recclass', 'L6'), ('mass', '147.0'), ('fall', 'Found'), ('year', '2001.0'), ('reclat', '19.18553'), ('reclong', '54.65797'), ('GeoLocation', '(19.185530, 54.657970)')]), OrderedDict([('order', '37874'), ('name', 'Tanezrouft 078'), ('id', '31339'), ('nametype', 'Valid'), ('recclass', 'L6'), ('mass', '1599.0'), ('fall', 'Found'), ('year', '2003.0'), ('reclat', '24.73573'), ('reclong', '-0.52413'), ('GeoLocation', '(24.735730, -0.524130)')]), OrderedDict([('order', '29639'), ('name', 'Northwest Africa 5968'), ('id', '50854'), ('nametype', 'Valid'), ('recclass', 'Diogenite'), ('mass', '15.5'), ('fall', 'Found'), ('year', '2008.0'), ('reclat', '0.0'), ('reclong', '0.0'), ('GeoLocation', '(0.000000, 0.000000)')]), OrderedDict([('order', '11132'), ('name', 'Elephant Moraine 92133'), ('id', '9535'), ('nametype', 'Valid'), ('recclass', 'L4'), ('mass', '11.4'), ('fall', 'Found'), ('year', '1992.0'), ('reclat', '-76.01575'), ('reclong', '155.85543'), ('GeoLocation', '(-76.015750, 155.855430)')]), OrderedDict([('order', '4753'), ('name', 'Asuka 881899'), ('id', '4608'), ('nametype', 'Valid'), ('recclass', 'LL3'), ('mass', '6567.0'), ('fall', 'Found'), ('year', '1988.0'), ('reclat', '-72.0'), ('reclong', '26.0'), ('GeoLocation', '(-72.000000, 26.000000)')]), OrderedDict([('order', '34543'), ('name', 'Queen Alexandra Range 97934'), ('id', '21388'), ('nametype', 'Valid'), ('recclass', 'L5'), ('mass', '1.8'), ('fall', 'Found'), ('year', '1997.0'), ('reclat', '-84.0'), ('reclong', '168.0'), ('GeoLocation', '(-84.000000, 168.000000)')]), OrderedDict([('order', '39249'), ('name', 'Yamato 75169'), ('id', '25210'), ('nametype', 'Valid'), ('recclass', 'L6'), ('mass', '3.49'), ('fall', 'Found'), ('year', '1975.0'), ('reclat', '-71.5'), ('reclong', '35.66667'), ('GeoLocation', '(-71.500000, 35.666670)')]), OrderedDict([('order', '23286'), ('name', 'Meteorite Hills 00593'), ('id', '15827'), ('nametype', 'Valid'), ('recclass', 'LL5'), ('mass', '53.83'), ('fall', 'Found'), ('year', '2000.0'), ('reclat', '-79.68333'), ('reclong', '155.75'), ('GeoLocation', '(-79.683330, 155.750000)')]), OrderedDict([('order', '26298'), ('name', 'Mundrabilla 006'), ('id', '16857'), ('nametype', 'Valid'), ('recclass', 'H6'), ('mass', '24.6'), ('fall', 'Found'), ('year', '1982.0'), ('reclat', '-30.008329999999997'), ('reclong', '127.70833'), ('GeoLocation', '(-30.008330, 127.708330)')]), OrderedDict([('order', ''), ('name', 'name'), ('id', 'id'), ('nametype', 'nametype'), ('recclass', 'recclass'), ('mass', 'mass'), ('fall', 'fall'), ('year', 'year'), ('reclat', 'reclat'), ('reclong', 'reclong'), ('GeoLocation', 'GeoLocation')]), OrderedDict([('order', '21477'), ('name', 'Lewis Cliff 88768'), ('id', '14505'), ('nametype', 'Valid'), ('recclass', 'H6'), ('mass', '11.6'), ('fall', 'Found'), ('year', '1988.0'), ('reclat', '-84.23174'), ('reclong', '161.54752'), ('GeoLocation', '(-84.231740, 161.547520)')]), OrderedDict([('order', '36643'), ('name', 'Sahara 98058'), ('id', '23002'), ('nametype', 'Valid'), ('recclass', 'H5'), ('mass', '681.0'), ('fall', 'Found'), ('year', '1998.0'), ('reclat', ''), ('reclong', ''), ('GeoLocation', '')]), OrderedDict([('order', '33629'), ('name', 'Queen Alexandra Range 97067'), ('id', '20474'), ('nametype', 'Valid'), ('recclass', 'LL5'), ('mass', '17.4'), ('fall', 'Found'), ('year', '1997.0'), ('reclat', '-84.0'), ('reclong', '168.0'), ('GeoLocation', '(-84.000000, 168.000000)')]), OrderedDict([('order', '35958'), ('name', 'Red Dry Lake 002'), ('id', '22539'), ('nametype', 'Valid'), ('recclass', 'H6'), ('mass', '21.5'), ('fall', 'Found'), ('year', '2001.0'), ('reclat', '35.653059999999996'), ('reclong', '-114.02436999999999'), ('GeoLocation', '(35.653060, -114.024370)')]), OrderedDict([('order', '23178'), ('name', 'Meteorite Hills 00484'), ('id', '15719'), ('nametype', 'Valid'), ('recclass', 'L5'), ('mass', '233.7'), ('fall', 'Found'), ('year', '2000.0'), ('reclat', '-79.68333'), ('reclong', '155.75'), ('GeoLocation', '(-79.683330, 155.750000)')]), OrderedDict([('order', '13371'), ('name', 'Grosvenor Mountains 95599'), ('id', '11327'), ('nametype', 'Valid'), ('recclass', 'H5'), ('mass', '75.7'), ('fall', 'Found'), ('year', '1995.0'), ('reclat', '-85.66667'), ('reclong', '175.0'), ('GeoLocation', '(-85.666670, 175.000000)')]), OrderedDict([('order', '4186'), ('name', 'Asuka 881177'), ('id', '3886'), ('nametype', 'Valid'), ('recclass', 'H6'), ('mass', '252.05'), ('fall', 'Found'), ('year', '1988.0'), ('reclat', '-72.0'), ('reclong', '26.0'), ('GeoLocation', '(-72.000000, 26.000000)')]), OrderedDict([('order', '43822'), ('name', 'Yamato 980577'), ('id', '37200'), ('nametype', 'Valid'), ('recclass', 'H3'), ('mass', '16.499'), ('fall', 'Found'), ('year', '1998.0'), ('reclat', ''), ('reclong', ''), ('GeoLocation', '')]), OrderedDict([('order', '31947'), ('name', 'Pecora Escarpment 91467'), ('id', '18758'), ('nametype', 'Valid'), ('recclass', 'CH3'), ('mass', '46.9'), ('fall', 'Found'), ('year', '1991.0'), ('reclat', '-85.67876'), ('reclong', '-69.05982'), ('GeoLocation', '(-85.678760, -69.059820)')]), OrderedDict([('order', '15450'), ('name', 'Grove Mountains 052904'), ('id', '46488'), ('nametype', 'Valid'), ('recclass', 'L6'), ('mass', '474.0'), ('fall', 'Found'), ('year', '2006.0'), ('reclat', '-72.77833000000001'), ('reclong', '75.31971999999999'), ('GeoLocation', '(-72.778330, 75.319720)')]), OrderedDict([('order', '38358'), ('name', 'Wisconsin Range 91619'), ('id', '24309'), ('nametype', 'Valid'), ('recclass', 'H5'), ('mass', '150.3'), ('fall', 'Found'), ('year', '1991.0'), ('reclat', '-86.15351'), ('reclong', '-124.29386000000001'), ('GeoLocation', '(-86.153510, -124.293860)')]), OrderedDict([('order', '12842'), ('name', 'Graves Nunataks 98037'), ('id', '11029'), ('nametype', 'Valid'), ('recclass', 'Eucrite-br'), ('mass', '107.9'), ('fall', 'Found'), ('year', '1998.0'), ('reclat', '-86.71667'), ('reclong', '-141.5'), ('GeoLocation', '(-86.716670, -141.500000)')]), OrderedDict([('order', '2057'), ('name', 'Allan Hills 85006'), ('id', '872'), ('nametype', 'Valid'), ('recclass', 'CV3'), ('mass', '49.0'), ('fall', 'Found'), ('year', '1985.0'), ('reclat', '-76.85224000000001'), ('reclong', '156.31748000000002'), ('GeoLocation', '(-76.852240, 156.317480)')]), OrderedDict([('order', '15717'), ('name', 'Grove Mountains 054046'), ('id', '50602'), ('nametype', 'Valid'), ('recclass', 'H5'), ('mass', '1.19'), ('fall', 'Found'), ('year', '2006.0'), ('reclat', '-72.78728000000001'), ('reclong', '75.2744'), ('GeoLocation', '(-72.787280, 75.274400)')]), OrderedDict([('order', '13155'), ('name', 'Grosvenor Mountains 03121'), ('id', '34642'), ('nametype', 'Valid'), ('recclass', 'H5'), ('mass', '82.9'), ('fall', 'Found'), ('year', '2003.0'), ('reclat', ''), ('reclong', ''), ('GeoLocation', '')]), OrderedDict([('order', '18884'), ('name', 'LaPaz Icefield 04756'), ('id', '44351'), ('nametype', 'Valid'), ('recclass', 'LL5'), ('mass', '6.7'), ('fall', 'Found'), ('year', '2004.0'), ('reclat', ''), ('reclong', ''), ('GeoLocation', '')]), OrderedDict([('order', '36075'), ('name', 'Roberts Massif 04108'), ('id', '44582'), ('nametype', 'Valid'), ('recclass', 'L6'), ('mass', '386.1'), ('fall', 'Found'), ('year', '2004.0'), ('reclat', ''), ('reclong', ''), ('GeoLocation', '')]), OrderedDict([('order', '29052'), ('name', 'Northwest Africa 4946'), ('id', '47120'), ('nametype', 'Valid'), ('recclass', 'EL6'), ('mass', '4543.0'), ('fall', 'Found'), ('year', '2007.0'), ('reclat', '0.0'), ('reclong', '0.0'), ('GeoLocation', '(0.000000, 0.000000)')]), OrderedDict([('order', '14826'), ('name', 'Grove Mountains 050040'), ('id', '48154'), ('nametype', 'Valid'), ('recclass', 'H4'), ('mass', '5.17'), ('fall', 'Found'), ('year', '2006.0'), ('reclat', '-72.998611'), ('reclong', '75.193611'), ('GeoLocation', '(-72.998611, 75.193611)')]), OrderedDict([('order', '10787'), ('name', 'Elephant Moraine 90781'), ('id', '9190'), ('nametype', 'Valid'), ('recclass', 'L6'), ('mass', '5.8'), ('fall', 'Found'), ('year', '1990.0'), ('reclat', '-76.2829'), ('reclong', '156.46722'), ('GeoLocation', '(-76.282900, 156.467220)')]), OrderedDict([('order', '13032'), ('name', 'Grier (b)'), ('id', '11203'), ('nametype', 'Valid'), ('recclass', 'L5-7'), ('mass', '929.4'), ('fall', 'Found'), ('year', '1969.0'), ('reclat', '34.26667'), ('reclong', '-103.38333'), ('GeoLocation', '(34.266670, -103.383330)')]), OrderedDict([('order', '9697'), ('name', 'Elephant Moraine 87549'), ('id', '8099'), ('nametype', 'Valid'), ('recclass', 'L6'), ('mass', '538.6'), ('fall', 'Found'), ('year', '1987.0'), ('reclat', '-76.18333'), ('reclong', '157.16666999999998'), ('GeoLocation', '(-76.183330, 157.166670)')]), OrderedDict([('order', '27182'), ('name', 'Northwest Africa 2089'), ('id', '32860'), ('nametype', 'Valid'), ('recclass', 'LL3'), ('mass', '429.0'), ('fall', 'Found'), ('year', '2003.0'), ('reclat', ''), ('reclong', ''), ('GeoLocation', '')]), OrderedDict([('order', '38612'), ('name', 'Yamato 74194'), ('id', '24572'), ('nametype', 'Valid'), ('recclass', 'H5'), ('mass', '4.78'), ('fall', 'Found'), ('year', '1974.0'), ('reclat', '-71.5'), ('reclong', '35.66667'), ('GeoLocation', '(-71.500000, 35.666670)')]), OrderedDict([('order', '7417'), ('name', 'Dhofar 1630'), ('id', '55278'), ('nametype', 'Valid'), ('recclass', 'H5'), ('mass', '1357.0'), ('fall', 'Found'), ('year', '2004.0'), ('reclat', '18.69667'), ('reclong', '54.371669999999995'), ('GeoLocation', '(18.696670, 54.371670)')]), OrderedDict([('order', '16326'), ('name', 'Hardtner'), ('id', '11827'), ('nametype', 'Valid'), ('recclass', 'L6'), ('mass', '13000.0'), ('fall', 'Found'), ('year', '1972.0'), ('reclat', '37.06667'), ('reclong', '-98.66167'), ('GeoLocation', '(37.066670, -98.661670)')]), OrderedDict([('order', '22968'), ('name', 'Meteorite Hills 001014'), ('id', '15510'), ('nametype', 'Valid'), ('recclass', 'H5'), ('mass', '10.4'), ('fall', 'Found'), ('year', '2000.0'), ('reclat', '-79.68333'), ('reclong', '159.75'), ('GeoLocation', '(-79.683330, 159.750000)')]), OrderedDict([('order', '45687'), ('name', 'Yucca 015'), ('id', '57175'), ('nametype', 'Valid'), ('recclass', 'H-metal'), ('mass', '3.0'), ('fall', 'Found'), ('year', '2011.0'), ('reclat', '34.8197'), ('reclong', '-114.2761'), ('GeoLocation', '(34.819700, -114.276100)')]), OrderedDict([('order', '21596'), ('name', 'Lewis Cliff 97211'), ('id', '14624'), ('nametype', 'Valid'), ('recclass', 'L6'), ('mass', '122.0'), ('fall', 'Found'), ('year', '1997.0'), ('reclat', '-84.26666999999999'), ('reclong', '161.5'), ('GeoLocation', '(-84.266670, 161.500000)')]), OrderedDict([('order', '11404'), ('name', 'Elephant Moraine 96216'), ('id', '9807'), ('nametype', 'Valid'), ('recclass', 'L3.8'), ('mass', '0.9'), ('fall', 'Found'), ('year', '1996.0'), ('reclat', '-76.18333'), ('reclong', '157.16666999999998'), ('GeoLocation', '(-76.183330, 157.166670)')]), OrderedDict([('order', '41148'), ('name', 'Yamato 791969'), ('id', '27318'), ('nametype', 'Valid'), ('recclass', 'H4'), ('mass', '135.85'), ('fall', 'Found'), ('year', '1979.0'), ('reclat', '-71.5'), ('reclong', '35.66667'), ('GeoLocation', '(-71.500000, 35.666670)')]), OrderedDict([('order', '20918'), ('name', 'Lewis Cliff 88193'), ('id', '13946'), ('nametype', 'Valid'), ('recclass', 'H5'), ('mass', '37.5'), ('fall', 'Found'), ('year', '1988.0'), ('reclat', '-84.27179'), ('reclong', '161.36451'), ('GeoLocation', '(-84.271790, 161.364510)')]), OrderedDict([('order', '22644'), ('name', 'MacAlpine Hills 04959'), ('id', '35064'), ('nametype', 'Valid'), ('recclass', 'H5'), ('mass', '0.51'), ('fall', 'Found'), ('year', '2004.0'), ('reclat', ''), ('reclong', ''), ('GeoLocation', '')]), OrderedDict([('order', '24187'), ('name', 'Miller Range 03420'), ('id', '36456'), ('nametype', 'Valid'), ('recclass', 'LL5'), ('mass', '45.1'), ('fall', 'Found'), ('year', '2003.0'), ('reclat', ''), ('reclong', ''), ('GeoLocation', '')]), OrderedDict([('order', '18607'), ('name', 'LaPaz Icefield 04482'), ('id', '45060'), ('nametype', 'Valid'), ('recclass', 'L5'), ('mass', '15.6'), ('fall', 'Found'), ('year', '2004.0'), ('reclat', ''), ('reclong', ''), ('GeoLocation', '')]), OrderedDict([('order', '5378'), ('name', 'Catalina 016'), ('id', '57182'), ('nametype', 'Valid'), ('recclass', 'H4'), ('mass', '647.0'), ('fall', 'Found'), ('year', '2010.0'), ('reclat', '-25.23333'), ('reclong', '-69.71667'), ('GeoLocation', '(-25.233330, -69.716670)')]), OrderedDict([('order', '611'), ('name', 'Merua'), ('id', '15492'), ('nametype', 'Valid'), ('recclass', 'H5'), ('mass', '71400.0'), ('fall', 'Fell'), ('year', '1920.0'), ('reclat', '25.48333'), ('reclong', '81.98333000000001'), ('GeoLocation', '(25.483330, 81.983330)')]), OrderedDict([('order', '18978'), ('name', 'LaPaz Icefield 10023'), ('id', '56964'), ('nametype', 'Valid'), ('recclass', 'LL5'), ('mass', '378.5'), ('fall', 'Found'), ('year', '2010.0'), ('reclat', '0.0'), ('reclong', '0.0'), ('GeoLocation', '(0.000000, 0.000000)')]), OrderedDict([('order', '21149'), ('name', 'Lewis Cliff 88432'), ('id', '14177'), ('nametype', 'Valid'), ('recclass', 'H-metal'), ('mass', '1.3'), ('fall', 'Found'), ('year', '1988.0'), ('reclat', '-84.2497'), ('reclong', '161.38334'), ('GeoLocation', '(-84.249700, 161.383340)')]), OrderedDict([('order', '3853'), ('name', 'Asuka 880797'), ('id', '3506'), ('nametype', 'Valid'), ('recclass', 'H5'), ('mass', '43.29'), ('fall', 'Found'), ('year', '1988.0'), ('reclat', '-72.0'), ('reclong', '26.0'), ('GeoLocation', '(-72.000000, 26.000000)')]), OrderedDict([('order', '25484'), ('name', 'Miller Range 090411'), ('id', '55926'), ('nametype', 'Valid'), ('recclass', 'L6'), ('mass', '67.6'), ('fall', 'Found'), ('year', '2009.0'), ('reclat', '0.0'), ('reclong', '0.0'), ('GeoLocation', '(0.000000, 0.000000)')]), OrderedDict([('order', '7979'), ('name', 'Dhofar 623'), ('id', '7380'), ('nametype', 'Valid'), ('recclass', 'L6'), ('mass', '147.0'), ('fall', 'Found'), ('year', '2001.0'), ('reclat', '19.18553'), ('reclong', '54.65797'), ('GeoLocation', '(19.185530, 54.657970)')]), OrderedDict([('order', '37874'), ('name', 'Tanezrouft 078'), ('id', '31339'), ('nametype', 'Valid'), ('recclass', 'L6'), ('mass', '1599.0'), ('fall', 'Found'), ('year', '2003.0'), ('reclat', '24.73573'), ('reclong', '-0.52413'), ('GeoLocation', '(24.735730, -0.524130)')]), OrderedDict([('order', '29639'), ('name', 'Northwest Africa 5968'), ('id', '50854'), ('nametype', 'Valid'), ('recclass', 'Diogenite'), ('mass', '15.5'), ('fall', 'Found'), ('year', '2008.0'), ('reclat', '0.0'), ('reclong', '0.0'), ('GeoLocation', '(0.000000, 0.000000)')]), OrderedDict([('order', '11132'), ('name', 'Elephant Moraine 92133'), ('id', '9535'), ('nametype', 'Valid'), ('recclass', 'L4'), ('mass', '11.4'), ('fall', 'Found'), ('year', '1992.0'), ('reclat', '-76.01575'), ('reclong', '155.85543'), ('GeoLocation', '(-76.015750, 155.855430)')]), OrderedDict([('order', '4753'), ('name', 'Asuka 881899'), ('id', '4608'), ('nametype', 'Valid'), ('recclass', 'LL3'), ('mass', '6567.0'), ('fall', 'Found'), ('year', '1988.0'), ('reclat', '-72.0'), ('reclong', '26.0'), ('GeoLocation', '(-72.000000, 26.000000)')]), OrderedDict([('order', '34543'), ('name', 'Queen Alexandra Range 97934'), ('id', '21388'), ('nametype', 'Valid'), ('recclass', 'L5'), ('mass', '1.8'), ('fall', 'Found'), ('year', '1997.0'), ('reclat', '-84.0'), ('reclong', '168.0'), ('GeoLocation', '(-84.000000, 168.000000)')]), OrderedDict([('order', '39249'), ('name', 'Yamato 75169'), ('id', '25210'), ('nametype', 'Valid'), ('recclass', 'L6'), ('mass', '3.49'), ('fall', 'Found'), ('year', '1975.0'), ('reclat', '-71.5'), ('reclong', '35.66667'), ('GeoLocation', '(-71.500000, 35.666670)')]), OrderedDict([('order', '23286'), ('name', 'Meteorite Hills 00593'), ('id', '15827'), ('nametype', 'Valid'), ('recclass', 'LL5'), ('mass', '53.83'), ('fall', 'Found'), ('year', '2000.0'), ('reclat', '-79.68333'), ('reclong', '155.75'), ('GeoLocation', '(-79.683330, 155.750000)')]), OrderedDict([('order', '26298'), ('name', 'Mundrabilla 006'), ('id', '16857'), ('nametype', 'Valid'), ('recclass', 'H6'), ('mass', '24.6'), ('fall', 'Found'), ('year', '1982.0'), ('reclat', '-30.008329999999997'), ('reclong', '127.70833'), ('GeoLocation', '(-30.008330, 127.708330)')])]\n"
     ]
    }
   ],
   "source": [
    "meteor_test = pd.read_csv('meteorite-landings.csv')\n",
    "meteor_test_50 = meteor.loc[np.random.randint(len(meteor), size = 50)]\n",
    "# print(type(meteor_test_50))\n",
    "# print(meteor_test_50.to_dict('records'))\n",
    "# print(type(meteor_test_50))\n",
    "# meteor_test_50.to_csv('meteor_test_50.csv')\n",
    "import csv\n",
    "reader = csv.DictReader(\n",
    "    open(\"meteor_test_50.csv\"),\n",
    "    fieldnames=['order', 'name', 'id', 'nametype', 'recclass', 'mass', 'fall', 'year', 'reclat', 'reclong', 'GeoLocation']\n",
    ")\n",
    "all_meteors = []\n",
    "for row in reader:\n",
    "#     print(row)\n",
    "    all.append(row)\n",
    "#     print(all, '\\n')\n",
    "print(all)\n",
    "\n",
    "# all.to_csv('meteor_test_50.csv')\n"
   ]
  },
  {
   "cell_type": "code",
   "execution_count": 43,
   "metadata": {
    "scrolled": true
   },
   "outputs": [
    {
     "name": "stdout",
     "output_type": "stream",
     "text": [
      "(19.133330, 54.652670)\n",
      "Steinecke, Potsdamer Platz, Tiergarten, Mitte, Berlin, 10785, Deutschland\n",
      "19.133330, 54.652670\n",
      "محافظة ظفار, سلطنة عُمان Oman\n",
      "محافظة ظفار, سلطنة عُمان Oman\n"
     ]
    }
   ],
   "source": [
    "# Testing Geolocation conversion\n",
    "from geopy.geocoders import Nominatim\n",
    "geo_test = api_meteor_data_arr[2]\n",
    "geolocator = Nominatim(user_agent=\"api_meteor_data_arr\")\n",
    "print(geo_test[9])\n",
    "\n",
    "location = geolocator.reverse(\"52.509669, 13.376294\")\n",
    "print(location)\n",
    "coor = str(geo_test[9])[1:-1]\n",
    "print(coor)\n",
    "location = geolocator.reverse(coor)\n",
    "print(location)\n",
    "print(location.address)"
   ]
  },
  {
   "cell_type": "code",
   "execution_count": null,
   "metadata": {},
   "outputs": [],
   "source": []
  }
 ],
 "metadata": {
  "kernelspec": {
   "display_name": "Python 3",
   "language": "python",
   "name": "python3"
  },
  "language_info": {
   "codemirror_mode": {
    "name": "ipython",
    "version": 3
   },
   "file_extension": ".py",
   "mimetype": "text/x-python",
   "name": "python",
   "nbconvert_exporter": "python",
   "pygments_lexer": "ipython3",
   "version": "3.7.6"
  }
 },
 "nbformat": 4,
 "nbformat_minor": 4
}
